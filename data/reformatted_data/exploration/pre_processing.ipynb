{
 "cells": [
  {
   "cell_type": "code",
   "execution_count": 1583,
   "metadata": {},
   "outputs": [],
   "source": [
    "import numpy as np\n",
    "import pandas as pd\n",
    "import os\n",
    "import matplotlib.pyplot as plt\n",
    "import seaborn as sns\n",
    "from sklearn.decomposition import PCA\n",
    "from sklearn.preprocessing import StandardScaler, LabelEncoder\n",
    "from sklearn.model_selection import train_test_split\n"
   ]
  },
  {
   "cell_type": "code",
   "execution_count": 1584,
   "metadata": {},
   "outputs": [],
   "source": [
    "# Lấy địa chỉ thư mục chứa dữ liệu đã được reformatted\n",
    "current_directory = os.getcwd()\n",
    "folder_path = os.path.join(current_directory,'../../data/reformatted_data')\n",
    "\n",
    "# Tạo df\n",
    "df = pd.read_csv(f'{folder_path}/non_pre_processed_data.csv')\n",
    "df['ar3'] = df['ar3'].apply(lambda x: round(x,2))\n",
    " \n"
   ]
  },
  {
   "cell_type": "code",
   "execution_count": 1585,
   "metadata": {},
   "outputs": [
    {
     "data": {
      "text/plain": [
       "Index(['student_id', 'gender', 'age', 'gpa1', 'gpa2', 'gpa3', 'gpa4', 'ar1',\n",
       "       'ar2', 'ar3', 'ar4', 'drop_out'],\n",
       "      dtype='object')"
      ]
     },
     "execution_count": 1585,
     "metadata": {},
     "output_type": "execute_result"
    }
   ],
   "source": [
    "df.columns"
   ]
  },
  {
   "cell_type": "markdown",
   "metadata": {},
   "source": [
    "### Biến phân loại:\n",
    "+ 'student_id'\n",
    "+ 'gender'\n",
    "+ 'drop_out' (thôi học)\n",
    "### Biến số:\n",
    "+ 'age'\n",
    "+ 'gpa1', 'gpa2', 'gpa3', 'gpa4' (điểm trung bình học kỳ 1, 2, 3, 4)\n",
    "+ 'ar1', 'ar2', 'ar3', 'ar4' (tỉ lệ vắng học học kỳ 1, 2, 3, 4)\n"
   ]
  },
  {
   "cell_type": "markdown",
   "metadata": {},
   "source": [
    "# Kiểm tra dữ liệu thiếu"
   ]
  },
  {
   "cell_type": "code",
   "execution_count": 1586,
   "metadata": {},
   "outputs": [
    {
     "data": {
      "text/plain": [
       "student_id    0\n",
       "gender        0\n",
       "age           0\n",
       "gpa1          0\n",
       "gpa2          0\n",
       "gpa3          0\n",
       "gpa4          0\n",
       "ar1           0\n",
       "ar2           0\n",
       "ar3           0\n",
       "ar4           0\n",
       "drop_out      0\n",
       "dtype: int64"
      ]
     },
     "execution_count": 1586,
     "metadata": {},
     "output_type": "execute_result"
    }
   ],
   "source": [
    "df.isnull().sum()"
   ]
  },
  {
   "cell_type": "code",
   "execution_count": 1587,
   "metadata": {},
   "outputs": [
    {
     "name": "stdout",
     "output_type": "stream",
     "text": [
      "<class 'pandas.core.frame.DataFrame'>\n",
      "RangeIndex: 325 entries, 0 to 324\n",
      "Data columns (total 12 columns):\n",
      " #   Column      Non-Null Count  Dtype  \n",
      "---  ------      --------------  -----  \n",
      " 0   student_id  325 non-null    int64  \n",
      " 1   gender      325 non-null    int64  \n",
      " 2   age         325 non-null    int64  \n",
      " 3   gpa1        325 non-null    float64\n",
      " 4   gpa2        325 non-null    float64\n",
      " 5   gpa3        325 non-null    float64\n",
      " 6   gpa4        325 non-null    float64\n",
      " 7   ar1         325 non-null    float64\n",
      " 8   ar2         325 non-null    float64\n",
      " 9   ar3         325 non-null    float64\n",
      " 10  ar4         325 non-null    float64\n",
      " 11  drop_out    325 non-null    int64  \n",
      "dtypes: float64(8), int64(4)\n",
      "memory usage: 30.6 KB\n"
     ]
    }
   ],
   "source": [
    "df.info()"
   ]
  },
  {
   "cell_type": "markdown",
   "metadata": {},
   "source": [
    "## Kiểm tra dữ liệu trùng"
   ]
  },
  {
   "cell_type": "code",
   "execution_count": 1588,
   "metadata": {},
   "outputs": [
    {
     "name": "stdout",
     "output_type": "stream",
     "text": [
      "Không có student_id bị trùng\n"
     ]
    }
   ],
   "source": [
    "duplicated_id_pairs = df.duplicated(subset=['student_id'], keep=False)\n",
    "duplicated_id_pairs[duplicated_id_pairs==True]\n",
    "if duplicated_id_pairs.all():\n",
    "    print('Có cặp id bị trùng')\n",
    "else:\n",
    "    print('Không có student_id bị trùng')"
   ]
  },
  {
   "cell_type": "markdown",
   "metadata": {},
   "source": [
    "## Thống kê mô tả"
   ]
  },
  {
   "cell_type": "code",
   "execution_count": 1589,
   "metadata": {},
   "outputs": [
    {
     "data": {
      "text/html": [
       "<div>\n",
       "<style scoped>\n",
       "    .dataframe tbody tr th:only-of-type {\n",
       "        vertical-align: middle;\n",
       "    }\n",
       "\n",
       "    .dataframe tbody tr th {\n",
       "        vertical-align: top;\n",
       "    }\n",
       "\n",
       "    .dataframe thead th {\n",
       "        text-align: right;\n",
       "    }\n",
       "</style>\n",
       "<table border=\"1\" class=\"dataframe\">\n",
       "  <thead>\n",
       "    <tr style=\"text-align: right;\">\n",
       "      <th></th>\n",
       "      <th>age</th>\n",
       "      <th>gpa1</th>\n",
       "      <th>gpa2</th>\n",
       "      <th>gpa3</th>\n",
       "      <th>gpa4</th>\n",
       "      <th>ar1</th>\n",
       "      <th>ar2</th>\n",
       "      <th>ar3</th>\n",
       "      <th>ar4</th>\n",
       "    </tr>\n",
       "  </thead>\n",
       "  <tbody>\n",
       "    <tr>\n",
       "      <th>count</th>\n",
       "      <td>325.000000</td>\n",
       "      <td>325.000000</td>\n",
       "      <td>325.000000</td>\n",
       "      <td>325.000000</td>\n",
       "      <td>325.000000</td>\n",
       "      <td>325.000000</td>\n",
       "      <td>325.000000</td>\n",
       "      <td>325.000000</td>\n",
       "      <td>325.000000</td>\n",
       "    </tr>\n",
       "    <tr>\n",
       "      <th>mean</th>\n",
       "      <td>21.030769</td>\n",
       "      <td>6.468000</td>\n",
       "      <td>7.123692</td>\n",
       "      <td>6.560923</td>\n",
       "      <td>6.868923</td>\n",
       "      <td>9.584308</td>\n",
       "      <td>6.840154</td>\n",
       "      <td>8.103077</td>\n",
       "      <td>6.706462</td>\n",
       "    </tr>\n",
       "    <tr>\n",
       "      <th>std</th>\n",
       "      <td>1.143544</td>\n",
       "      <td>2.170586</td>\n",
       "      <td>1.926447</td>\n",
       "      <td>1.751237</td>\n",
       "      <td>1.785898</td>\n",
       "      <td>9.457773</td>\n",
       "      <td>13.181684</td>\n",
       "      <td>8.624856</td>\n",
       "      <td>11.989175</td>\n",
       "    </tr>\n",
       "    <tr>\n",
       "      <th>min</th>\n",
       "      <td>20.000000</td>\n",
       "      <td>0.800000</td>\n",
       "      <td>0.200000</td>\n",
       "      <td>0.600000</td>\n",
       "      <td>0.900000</td>\n",
       "      <td>0.000000</td>\n",
       "      <td>0.000000</td>\n",
       "      <td>0.000000</td>\n",
       "      <td>0.000000</td>\n",
       "    </tr>\n",
       "    <tr>\n",
       "      <th>25%</th>\n",
       "      <td>20.000000</td>\n",
       "      <td>4.600000</td>\n",
       "      <td>6.100000</td>\n",
       "      <td>5.300000</td>\n",
       "      <td>5.800000</td>\n",
       "      <td>2.900000</td>\n",
       "      <td>0.000000</td>\n",
       "      <td>1.700000</td>\n",
       "      <td>0.000000</td>\n",
       "    </tr>\n",
       "    <tr>\n",
       "      <th>50%</th>\n",
       "      <td>21.000000</td>\n",
       "      <td>6.600000</td>\n",
       "      <td>7.400000</td>\n",
       "      <td>6.900000</td>\n",
       "      <td>7.100000</td>\n",
       "      <td>8.200000</td>\n",
       "      <td>1.700000</td>\n",
       "      <td>6.670000</td>\n",
       "      <td>2.800000</td>\n",
       "    </tr>\n",
       "    <tr>\n",
       "      <th>75%</th>\n",
       "      <td>22.000000</td>\n",
       "      <td>8.400000</td>\n",
       "      <td>8.600000</td>\n",
       "      <td>7.700000</td>\n",
       "      <td>8.100000</td>\n",
       "      <td>14.400000</td>\n",
       "      <td>9.700000</td>\n",
       "      <td>12.400000</td>\n",
       "      <td>8.600000</td>\n",
       "    </tr>\n",
       "    <tr>\n",
       "      <th>max</th>\n",
       "      <td>26.000000</td>\n",
       "      <td>10.000000</td>\n",
       "      <td>10.000000</td>\n",
       "      <td>9.900000</td>\n",
       "      <td>10.000000</td>\n",
       "      <td>88.000000</td>\n",
       "      <td>80.000000</td>\n",
       "      <td>75.000000</td>\n",
       "      <td>100.000000</td>\n",
       "    </tr>\n",
       "  </tbody>\n",
       "</table>\n",
       "</div>"
      ],
      "text/plain": [
       "              age        gpa1        gpa2        gpa3        gpa4         ar1  \\\n",
       "count  325.000000  325.000000  325.000000  325.000000  325.000000  325.000000   \n",
       "mean    21.030769    6.468000    7.123692    6.560923    6.868923    9.584308   \n",
       "std      1.143544    2.170586    1.926447    1.751237    1.785898    9.457773   \n",
       "min     20.000000    0.800000    0.200000    0.600000    0.900000    0.000000   \n",
       "25%     20.000000    4.600000    6.100000    5.300000    5.800000    2.900000   \n",
       "50%     21.000000    6.600000    7.400000    6.900000    7.100000    8.200000   \n",
       "75%     22.000000    8.400000    8.600000    7.700000    8.100000   14.400000   \n",
       "max     26.000000   10.000000   10.000000    9.900000   10.000000   88.000000   \n",
       "\n",
       "              ar2         ar3         ar4  \n",
       "count  325.000000  325.000000  325.000000  \n",
       "mean     6.840154    8.103077    6.706462  \n",
       "std     13.181684    8.624856   11.989175  \n",
       "min      0.000000    0.000000    0.000000  \n",
       "25%      0.000000    1.700000    0.000000  \n",
       "50%      1.700000    6.670000    2.800000  \n",
       "75%      9.700000   12.400000    8.600000  \n",
       "max     80.000000   75.000000  100.000000  "
      ]
     },
     "execution_count": 1589,
     "metadata": {},
     "output_type": "execute_result"
    }
   ],
   "source": [
    "df.iloc[:,2:-1].describe()"
   ]
  },
  {
   "cell_type": "markdown",
   "metadata": {},
   "source": [
    "## Chuyển đổi kiểu dữ liệu"
   ]
  },
  {
   "cell_type": "code",
   "execution_count": 1590,
   "metadata": {},
   "outputs": [
    {
     "data": {
      "text/plain": [
       "student_id      int64\n",
       "gender          int64\n",
       "age             int64\n",
       "gpa1          float64\n",
       "gpa2          float64\n",
       "gpa3          float64\n",
       "gpa4          float64\n",
       "ar1           float64\n",
       "ar2           float64\n",
       "ar3           float64\n",
       "ar4           float64\n",
       "drop_out        int64\n",
       "dtype: object"
      ]
     },
     "execution_count": 1590,
     "metadata": {},
     "output_type": "execute_result"
    }
   ],
   "source": [
    "df.dtypes"
   ]
  },
  {
   "cell_type": "code",
   "execution_count": 1591,
   "metadata": {},
   "outputs": [
    {
     "data": {
      "text/plain": [
       "student_id     object\n",
       "gender          int64\n",
       "age             int64\n",
       "gpa1          float64\n",
       "gpa2          float64\n",
       "gpa3          float64\n",
       "gpa4          float64\n",
       "ar1           float64\n",
       "ar2           float64\n",
       "ar3           float64\n",
       "ar4           float64\n",
       "drop_out        int64\n",
       "dtype: object"
      ]
     },
     "execution_count": 1591,
     "metadata": {},
     "output_type": "execute_result"
    }
   ],
   "source": [
    "df['student_id'] = df['student_id'].astype(str)\n",
    "df.dtypes"
   ]
  },
  {
   "cell_type": "markdown",
   "metadata": {},
   "source": [
    "## Kiếm tra biến phân loại student_id"
   ]
  },
  {
   "cell_type": "code",
   "execution_count": 1592,
   "metadata": {},
   "outputs": [
    {
     "data": {
      "text/plain": [
       "Series([], Name: student_id, dtype: bool)"
      ]
     },
     "execution_count": 1592,
     "metadata": {},
     "output_type": "execute_result"
    }
   ],
   "source": [
    "df['student_id'] = df['student_id'].astype(str)\n",
    "check = df['student_id'].str.isalpha()\n",
    "check[check]"
   ]
  },
  {
   "cell_type": "markdown",
   "metadata": {},
   "source": [
    "## Kiếm tra biến phân loại gender"
   ]
  },
  {
   "cell_type": "code",
   "execution_count": 1593,
   "metadata": {},
   "outputs": [
    {
     "data": {
      "text/plain": [
       "Series([], Name: gender, dtype: bool)"
      ]
     },
     "execution_count": 1593,
     "metadata": {},
     "output_type": "execute_result"
    }
   ],
   "source": [
    "check = df['gender'].astype(str).str.isalpha()\n",
    "check[check]"
   ]
  },
  {
   "cell_type": "code",
   "execution_count": 1594,
   "metadata": {},
   "outputs": [
    {
     "data": {
      "text/plain": [
       "array([1, 0], dtype=int64)"
      ]
     },
     "execution_count": 1594,
     "metadata": {},
     "output_type": "execute_result"
    }
   ],
   "source": [
    "df['gender'].unique()"
   ]
  },
  {
   "cell_type": "markdown",
   "metadata": {},
   "source": [
    "## Kiêm tra biến phân loại age"
   ]
  },
  {
   "cell_type": "code",
   "execution_count": 1595,
   "metadata": {},
   "outputs": [
    {
     "name": "stdout",
     "output_type": "stream",
     "text": [
      "int64\n",
      "Kiểu dữ liệu sau khi chuyển đổi:  int8\n"
     ]
    },
    {
     "data": {
      "text/plain": [
       "Series([], Name: age, dtype: bool)"
      ]
     },
     "execution_count": 1595,
     "metadata": {},
     "output_type": "execute_result"
    }
   ],
   "source": [
    "check = df['age'].astype(str).str.isalpha()\n",
    "print(df['age'].dtype)\n",
    "df['age'] = df['age'].astype('int8')\n",
    "print(\"Kiểu dữ liệu sau khi chuyển đổi: \",df['age'].dtype)\n",
    "check[check]"
   ]
  },
  {
   "cell_type": "code",
   "execution_count": 1596,
   "metadata": {},
   "outputs": [
    {
     "data": {
      "text/plain": [
       "array([1, 0], dtype=int64)"
      ]
     },
     "execution_count": 1596,
     "metadata": {},
     "output_type": "execute_result"
    }
   ],
   "source": [
    "df['drop_out'].unique()"
   ]
  },
  {
   "cell_type": "markdown",
   "metadata": {},
   "source": [
    "## Mã hóa biến phân loại student_id bằng phương pháp LabelEncoder\n",
    "\n",
    "Phương pháp label encoder\n",
    "+ Chuyển đổi các biến phân loại thành các số nguyên duy nhất.\n",
    "+ Label Encoder thích hợp cho các biến phân loại không có mối quan hệ thứ bậc giữa các giá trị, nghĩa là không có thứ tự hoặc mức độ quan trọng giữa các giá trị"
   ]
  },
  {
   "cell_type": "code",
   "execution_count": 1597,
   "metadata": {},
   "outputs": [],
   "source": [
    "le = LabelEncoder()\n",
    "df['student_id'] = le.fit_transform(df['student_id'])"
   ]
  },
  {
   "cell_type": "code",
   "execution_count": 1598,
   "metadata": {},
   "outputs": [
    {
     "data": {
      "text/html": [
       "<div>\n",
       "<style scoped>\n",
       "    .dataframe tbody tr th:only-of-type {\n",
       "        vertical-align: middle;\n",
       "    }\n",
       "\n",
       "    .dataframe tbody tr th {\n",
       "        vertical-align: top;\n",
       "    }\n",
       "\n",
       "    .dataframe thead th {\n",
       "        text-align: right;\n",
       "    }\n",
       "</style>\n",
       "<table border=\"1\" class=\"dataframe\">\n",
       "  <thead>\n",
       "    <tr style=\"text-align: right;\">\n",
       "      <th></th>\n",
       "      <th>student_id</th>\n",
       "      <th>gender</th>\n",
       "      <th>age</th>\n",
       "      <th>gpa1</th>\n",
       "      <th>gpa2</th>\n",
       "      <th>gpa3</th>\n",
       "      <th>gpa4</th>\n",
       "      <th>ar1</th>\n",
       "      <th>ar2</th>\n",
       "      <th>ar3</th>\n",
       "      <th>ar4</th>\n",
       "      <th>drop_out</th>\n",
       "    </tr>\n",
       "  </thead>\n",
       "  <tbody>\n",
       "    <tr>\n",
       "      <th>0</th>\n",
       "      <td>0</td>\n",
       "      <td>1</td>\n",
       "      <td>23</td>\n",
       "      <td>2.3</td>\n",
       "      <td>0.2</td>\n",
       "      <td>2.5</td>\n",
       "      <td>3.2</td>\n",
       "      <td>34.5</td>\n",
       "      <td>12.0</td>\n",
       "      <td>0.0</td>\n",
       "      <td>53.0</td>\n",
       "      <td>1</td>\n",
       "    </tr>\n",
       "    <tr>\n",
       "      <th>1</th>\n",
       "      <td>1</td>\n",
       "      <td>0</td>\n",
       "      <td>23</td>\n",
       "      <td>5.9</td>\n",
       "      <td>7.7</td>\n",
       "      <td>7.7</td>\n",
       "      <td>7.5</td>\n",
       "      <td>0.0</td>\n",
       "      <td>18.0</td>\n",
       "      <td>0.0</td>\n",
       "      <td>19.5</td>\n",
       "      <td>0</td>\n",
       "    </tr>\n",
       "    <tr>\n",
       "      <th>2</th>\n",
       "      <td>2</td>\n",
       "      <td>1</td>\n",
       "      <td>23</td>\n",
       "      <td>7.5</td>\n",
       "      <td>4.6</td>\n",
       "      <td>4.5</td>\n",
       "      <td>9.5</td>\n",
       "      <td>0.0</td>\n",
       "      <td>12.3</td>\n",
       "      <td>0.0</td>\n",
       "      <td>7.2</td>\n",
       "      <td>0</td>\n",
       "    </tr>\n",
       "    <tr>\n",
       "      <th>3</th>\n",
       "      <td>3</td>\n",
       "      <td>1</td>\n",
       "      <td>23</td>\n",
       "      <td>7.6</td>\n",
       "      <td>7.1</td>\n",
       "      <td>7.3</td>\n",
       "      <td>8.4</td>\n",
       "      <td>5.7</td>\n",
       "      <td>2.2</td>\n",
       "      <td>16.1</td>\n",
       "      <td>8.9</td>\n",
       "      <td>0</td>\n",
       "    </tr>\n",
       "    <tr>\n",
       "      <th>4</th>\n",
       "      <td>4</td>\n",
       "      <td>1</td>\n",
       "      <td>23</td>\n",
       "      <td>6.7</td>\n",
       "      <td>7.8</td>\n",
       "      <td>4.7</td>\n",
       "      <td>4.2</td>\n",
       "      <td>0.0</td>\n",
       "      <td>0.0</td>\n",
       "      <td>10.3</td>\n",
       "      <td>8.2</td>\n",
       "      <td>0</td>\n",
       "    </tr>\n",
       "    <tr>\n",
       "      <th>...</th>\n",
       "      <td>...</td>\n",
       "      <td>...</td>\n",
       "      <td>...</td>\n",
       "      <td>...</td>\n",
       "      <td>...</td>\n",
       "      <td>...</td>\n",
       "      <td>...</td>\n",
       "      <td>...</td>\n",
       "      <td>...</td>\n",
       "      <td>...</td>\n",
       "      <td>...</td>\n",
       "      <td>...</td>\n",
       "    </tr>\n",
       "    <tr>\n",
       "      <th>320</th>\n",
       "      <td>320</td>\n",
       "      <td>1</td>\n",
       "      <td>20</td>\n",
       "      <td>8.1</td>\n",
       "      <td>2.7</td>\n",
       "      <td>9.5</td>\n",
       "      <td>6.5</td>\n",
       "      <td>3.2</td>\n",
       "      <td>40.0</td>\n",
       "      <td>2.2</td>\n",
       "      <td>12.1</td>\n",
       "      <td>0</td>\n",
       "    </tr>\n",
       "    <tr>\n",
       "      <th>321</th>\n",
       "      <td>321</td>\n",
       "      <td>1</td>\n",
       "      <td>23</td>\n",
       "      <td>7.8</td>\n",
       "      <td>8.0</td>\n",
       "      <td>9.6</td>\n",
       "      <td>6.8</td>\n",
       "      <td>14.5</td>\n",
       "      <td>0.0</td>\n",
       "      <td>11.0</td>\n",
       "      <td>0.0</td>\n",
       "      <td>0</td>\n",
       "    </tr>\n",
       "    <tr>\n",
       "      <th>322</th>\n",
       "      <td>322</td>\n",
       "      <td>1</td>\n",
       "      <td>20</td>\n",
       "      <td>10.0</td>\n",
       "      <td>7.3</td>\n",
       "      <td>9.8</td>\n",
       "      <td>9.2</td>\n",
       "      <td>17.0</td>\n",
       "      <td>10.0</td>\n",
       "      <td>3.4</td>\n",
       "      <td>8.5</td>\n",
       "      <td>0</td>\n",
       "    </tr>\n",
       "    <tr>\n",
       "      <th>323</th>\n",
       "      <td>323</td>\n",
       "      <td>0</td>\n",
       "      <td>21</td>\n",
       "      <td>7.6</td>\n",
       "      <td>7.2</td>\n",
       "      <td>9.4</td>\n",
       "      <td>5.9</td>\n",
       "      <td>10.5</td>\n",
       "      <td>1.6</td>\n",
       "      <td>10.0</td>\n",
       "      <td>0.0</td>\n",
       "      <td>0</td>\n",
       "    </tr>\n",
       "    <tr>\n",
       "      <th>324</th>\n",
       "      <td>324</td>\n",
       "      <td>1</td>\n",
       "      <td>22</td>\n",
       "      <td>5.7</td>\n",
       "      <td>9.5</td>\n",
       "      <td>7.1</td>\n",
       "      <td>6.3</td>\n",
       "      <td>2.9</td>\n",
       "      <td>0.0</td>\n",
       "      <td>7.4</td>\n",
       "      <td>11.8</td>\n",
       "      <td>0</td>\n",
       "    </tr>\n",
       "  </tbody>\n",
       "</table>\n",
       "<p>325 rows × 12 columns</p>\n",
       "</div>"
      ],
      "text/plain": [
       "     student_id  gender  age  gpa1  gpa2  gpa3  gpa4   ar1   ar2   ar3   ar4  \\\n",
       "0             0       1   23   2.3   0.2   2.5   3.2  34.5  12.0   0.0  53.0   \n",
       "1             1       0   23   5.9   7.7   7.7   7.5   0.0  18.0   0.0  19.5   \n",
       "2             2       1   23   7.5   4.6   4.5   9.5   0.0  12.3   0.0   7.2   \n",
       "3             3       1   23   7.6   7.1   7.3   8.4   5.7   2.2  16.1   8.9   \n",
       "4             4       1   23   6.7   7.8   4.7   4.2   0.0   0.0  10.3   8.2   \n",
       "..          ...     ...  ...   ...   ...   ...   ...   ...   ...   ...   ...   \n",
       "320         320       1   20   8.1   2.7   9.5   6.5   3.2  40.0   2.2  12.1   \n",
       "321         321       1   23   7.8   8.0   9.6   6.8  14.5   0.0  11.0   0.0   \n",
       "322         322       1   20  10.0   7.3   9.8   9.2  17.0  10.0   3.4   8.5   \n",
       "323         323       0   21   7.6   7.2   9.4   5.9  10.5   1.6  10.0   0.0   \n",
       "324         324       1   22   5.7   9.5   7.1   6.3   2.9   0.0   7.4  11.8   \n",
       "\n",
       "     drop_out  \n",
       "0           1  \n",
       "1           0  \n",
       "2           0  \n",
       "3           0  \n",
       "4           0  \n",
       "..        ...  \n",
       "320         0  \n",
       "321         0  \n",
       "322         0  \n",
       "323         0  \n",
       "324         0  \n",
       "\n",
       "[325 rows x 12 columns]"
      ]
     },
     "execution_count": 1598,
     "metadata": {},
     "output_type": "execute_result"
    }
   ],
   "source": [
    "df  "
   ]
  },
  {
   "cell_type": "markdown",
   "metadata": {},
   "source": [
    "## Chuẩn hóa dữ liệu (z score)\n",
    "\n",
    "Mục tiêu: Đưa các biến về cùng 1 thang đo\n",
    "\n",
    "Giữ cho phân phối của chúng có trung bình xấp xỉ 0 và độ lệch chuẩn xấp xỉ 1, (giảm biến động của dữ liệu   )"
   ]
  },
  {
   "cell_type": "code",
   "execution_count": 1599,
   "metadata": {},
   "outputs": [
    {
     "data": {
      "text/html": [
       "<div>\n",
       "<style scoped>\n",
       "    .dataframe tbody tr th:only-of-type {\n",
       "        vertical-align: middle;\n",
       "    }\n",
       "\n",
       "    .dataframe tbody tr th {\n",
       "        vertical-align: top;\n",
       "    }\n",
       "\n",
       "    .dataframe thead th {\n",
       "        text-align: right;\n",
       "    }\n",
       "</style>\n",
       "<table border=\"1\" class=\"dataframe\">\n",
       "  <thead>\n",
       "    <tr style=\"text-align: right;\">\n",
       "      <th></th>\n",
       "      <th>gpa1</th>\n",
       "      <th>gpa2</th>\n",
       "      <th>gpa3</th>\n",
       "      <th>gpa4</th>\n",
       "      <th>ar1</th>\n",
       "      <th>ar2</th>\n",
       "      <th>ar3</th>\n",
       "      <th>ar4</th>\n",
       "      <th>drop_out</th>\n",
       "    </tr>\n",
       "  </thead>\n",
       "  <tbody>\n",
       "    <tr>\n",
       "      <th>0</th>\n",
       "      <td>-1.923180</td>\n",
       "      <td>-3.599565</td>\n",
       "      <td>-2.322464</td>\n",
       "      <td>-2.057553</td>\n",
       "      <td>2.638477</td>\n",
       "      <td>0.392044</td>\n",
       "      <td>-0.940952</td>\n",
       "      <td>3.867232</td>\n",
       "      <td>6.740072</td>\n",
       "    </tr>\n",
       "    <tr>\n",
       "      <th>1</th>\n",
       "      <td>-0.262084</td>\n",
       "      <td>0.299617</td>\n",
       "      <td>0.651444</td>\n",
       "      <td>0.353912</td>\n",
       "      <td>-1.014942</td>\n",
       "      <td>0.847923</td>\n",
       "      <td>-0.940952</td>\n",
       "      <td>1.068736</td>\n",
       "      <td>-0.148366</td>\n",
       "    </tr>\n",
       "    <tr>\n",
       "      <th>2</th>\n",
       "      <td>0.476181</td>\n",
       "      <td>-1.312045</td>\n",
       "      <td>-1.178653</td>\n",
       "      <td>1.475523</td>\n",
       "      <td>-1.014942</td>\n",
       "      <td>0.414838</td>\n",
       "      <td>-0.940952</td>\n",
       "      <td>0.041229</td>\n",
       "      <td>-0.148366</td>\n",
       "    </tr>\n",
       "    <tr>\n",
       "      <th>3</th>\n",
       "      <td>0.522322</td>\n",
       "      <td>-0.012317</td>\n",
       "      <td>0.422682</td>\n",
       "      <td>0.858637</td>\n",
       "      <td>-0.411333</td>\n",
       "      <td>-0.352558</td>\n",
       "      <td>0.928625</td>\n",
       "      <td>0.183242</td>\n",
       "      <td>-0.148366</td>\n",
       "    </tr>\n",
       "    <tr>\n",
       "      <th>4</th>\n",
       "      <td>0.107048</td>\n",
       "      <td>0.351606</td>\n",
       "      <td>-1.064272</td>\n",
       "      <td>-1.496747</td>\n",
       "      <td>-1.014942</td>\n",
       "      <td>-0.519714</td>\n",
       "      <td>0.255113</td>\n",
       "      <td>0.124766</td>\n",
       "      <td>-0.148366</td>\n",
       "    </tr>\n",
       "    <tr>\n",
       "      <th>...</th>\n",
       "      <td>...</td>\n",
       "      <td>...</td>\n",
       "      <td>...</td>\n",
       "      <td>...</td>\n",
       "      <td>...</td>\n",
       "      <td>...</td>\n",
       "      <td>...</td>\n",
       "      <td>...</td>\n",
       "      <td>...</td>\n",
       "    </tr>\n",
       "    <tr>\n",
       "      <th>320</th>\n",
       "      <td>0.753030</td>\n",
       "      <td>-2.299837</td>\n",
       "      <td>1.680874</td>\n",
       "      <td>-0.206894</td>\n",
       "      <td>-0.676074</td>\n",
       "      <td>2.519479</td>\n",
       "      <td>-0.685482</td>\n",
       "      <td>0.450561</td>\n",
       "      <td>-0.148366</td>\n",
       "    </tr>\n",
       "    <tr>\n",
       "      <th>321</th>\n",
       "      <td>0.614606</td>\n",
       "      <td>0.455584</td>\n",
       "      <td>1.738064</td>\n",
       "      <td>-0.038652</td>\n",
       "      <td>0.520553</td>\n",
       "      <td>-0.519714</td>\n",
       "      <td>0.336399</td>\n",
       "      <td>-0.560239</td>\n",
       "      <td>-0.148366</td>\n",
       "    </tr>\n",
       "    <tr>\n",
       "      <th>322</th>\n",
       "      <td>1.629720</td>\n",
       "      <td>0.091661</td>\n",
       "      <td>1.852445</td>\n",
       "      <td>1.307281</td>\n",
       "      <td>0.785293</td>\n",
       "      <td>0.240085</td>\n",
       "      <td>-0.546134</td>\n",
       "      <td>0.149827</td>\n",
       "      <td>-0.148366</td>\n",
       "    </tr>\n",
       "    <tr>\n",
       "      <th>323</th>\n",
       "      <td>0.522322</td>\n",
       "      <td>0.039672</td>\n",
       "      <td>1.623683</td>\n",
       "      <td>-0.543378</td>\n",
       "      <td>0.096968</td>\n",
       "      <td>-0.398146</td>\n",
       "      <td>0.220276</td>\n",
       "      <td>-0.560239</td>\n",
       "      <td>-0.148366</td>\n",
       "    </tr>\n",
       "    <tr>\n",
       "      <th>324</th>\n",
       "      <td>-0.354367</td>\n",
       "      <td>1.235421</td>\n",
       "      <td>0.308301</td>\n",
       "      <td>-0.319055</td>\n",
       "      <td>-0.707843</td>\n",
       "      <td>-0.519714</td>\n",
       "      <td>-0.081643</td>\n",
       "      <td>0.425500</td>\n",
       "      <td>-0.148366</td>\n",
       "    </tr>\n",
       "  </tbody>\n",
       "</table>\n",
       "<p>325 rows × 9 columns</p>\n",
       "</div>"
      ],
      "text/plain": [
       "         gpa1      gpa2      gpa3      gpa4       ar1       ar2       ar3  \\\n",
       "0   -1.923180 -3.599565 -2.322464 -2.057553  2.638477  0.392044 -0.940952   \n",
       "1   -0.262084  0.299617  0.651444  0.353912 -1.014942  0.847923 -0.940952   \n",
       "2    0.476181 -1.312045 -1.178653  1.475523 -1.014942  0.414838 -0.940952   \n",
       "3    0.522322 -0.012317  0.422682  0.858637 -0.411333 -0.352558  0.928625   \n",
       "4    0.107048  0.351606 -1.064272 -1.496747 -1.014942 -0.519714  0.255113   \n",
       "..        ...       ...       ...       ...       ...       ...       ...   \n",
       "320  0.753030 -2.299837  1.680874 -0.206894 -0.676074  2.519479 -0.685482   \n",
       "321  0.614606  0.455584  1.738064 -0.038652  0.520553 -0.519714  0.336399   \n",
       "322  1.629720  0.091661  1.852445  1.307281  0.785293  0.240085 -0.546134   \n",
       "323  0.522322  0.039672  1.623683 -0.543378  0.096968 -0.398146  0.220276   \n",
       "324 -0.354367  1.235421  0.308301 -0.319055 -0.707843 -0.519714 -0.081643   \n",
       "\n",
       "          ar4  drop_out  \n",
       "0    3.867232  6.740072  \n",
       "1    1.068736 -0.148366  \n",
       "2    0.041229 -0.148366  \n",
       "3    0.183242 -0.148366  \n",
       "4    0.124766 -0.148366  \n",
       "..        ...       ...  \n",
       "320  0.450561 -0.148366  \n",
       "321 -0.560239 -0.148366  \n",
       "322  0.149827 -0.148366  \n",
       "323 -0.560239 -0.148366  \n",
       "324  0.425500 -0.148366  \n",
       "\n",
       "[325 rows x 9 columns]"
      ]
     },
     "execution_count": 1599,
     "metadata": {},
     "output_type": "execute_result"
    }
   ],
   "source": [
    "# Chuyển đổi các biến về cùng 1 thang đo bằng z score\n",
    "features = df.iloc[:, 1:].columns\n",
    "scaler = StandardScaler()\n",
    "df[features] = scaler.fit_transform(df[features])\n",
    "data = df.iloc[:, 3:]\n",
    "data"
   ]
  },
  {
   "cell_type": "markdown",
   "metadata": {},
   "source": [
    "## Giảm chiều dữ liệu. (PCA)"
   ]
  },
  {
   "cell_type": "code",
   "execution_count": 1600,
   "metadata": {},
   "outputs": [
    {
     "name": "stdout",
     "output_type": "stream",
     "text": [
      "9\n",
      "Các features: gpa1, gpa2, gpa3, gpa4, ar1, ar2, ar3, ar4, drop_out\n"
     ]
    }
   ],
   "source": [
    "## Danh sách các features\n",
    "nb_features = data.shape[1]\n",
    "features = data.columns\n",
    "print(nb_features)\n",
    "print('Các features:', ', '.join(features))"
   ]
  },
  {
   "cell_type": "code",
   "execution_count": 1601,
   "metadata": {},
   "outputs": [
    {
     "name": "stdout",
     "output_type": "stream",
     "text": [
      "[3.27522049 1.24986834 0.96434734 0.87709863 0.73995108 0.66958766\n",
      " 0.51454137 0.46012911 0.27703377]\n"
     ]
    }
   ],
   "source": [
    "pca = PCA().fit(data)  \n",
    "## Phương sai trên từng chiều (phương sai đo lường mức độ phân tán của các điểm dữ liệu quanh giá trị trung bình)\n",
    "print(pca.explained_variance_.flatten())"
   ]
  },
  {
   "cell_type": "markdown",
   "metadata": {},
   "source": [
    "## Chọn k\n",
    "k là eig vectors có eig values lớn nhất."
   ]
  },
  {
   "cell_type": "code",
   "execution_count": 1602,
   "metadata": {},
   "outputs": [
    {
     "data": {
      "image/png": "[encoded data removed]",
      "text/plain": [
       "<Figure size 700x500 with 1 Axes>"
      ]
     },
     "metadata": {},
     "output_type": "display_data"
    }
   ],
   "source": [
    "# Các điểm dữ liệu\n",
    "points = np.cumsum(pca.explained_variance_ratio_) * 100\n",
    "points = np.insert(points, 0, 0) # Thêm điểm k = 0, variance = 0\n",
    "x_i = np.arange(0, nb_features + 1)\n",
    "y_i = (points[-nb_features-1:])//0.01/100  # Corrected calculation of y_i\n",
    "\n",
    "plt.figure(figsize = (7, 5))\n",
    "plt.plot(points, marker = 'o')\n",
    "plt.xlabel('Số features (k)')\n",
    "plt.ylabel('Variance (%)')  \n",
    "plt.title('Đồ thị biểu diễn % phương sai tích lũy theo số features (k)')\n",
    "plt.xlim([0, nb_features + 1])\n",
    "plt.grid(axis = 'x')\n",
    "for i in x_i:\n",
    "    plt.text(i, y_i[i] + 1, round(y_i[i], 1), ha = 'center', va = 'baseline')\n",
    "    # tung độ của text cao hơn point 1 đơn vị\n",
    "\n",
    "plt.show()\n"
   ]
  },
  {
   "cell_type": "code",
   "execution_count": 1603,
   "metadata": {},
   "outputs": [
    {
     "name": "stdout",
     "output_type": "stream",
     "text": [
      "   * k =  1 : phương sai tích lũy ~ 36.3% --> tăng ~ 36.3%\n",
      "   * k =  2 : phương sai tích lũy ~ 50.1% --> tăng ~ 13.8%\n",
      "   * k =  3 : phương sai tích lũy ~ 60.8% --> tăng ~ 10.7%\n",
      "   * k =  4 : phương sai tích lũy ~ 70.5% --> tăng ~ 9.7%\n",
      "   * k =  5 : phương sai tích lũy ~ 78.7% --> tăng ~ 8.2%\n",
      "   * k =  6 : phương sai tích lũy ~ 86.1% --> tăng ~ 7.4%\n",
      "   * k =  7 : phương sai tích lũy ~ 91.8% --> tăng ~ 5.7%\n",
      "   * k =  8 : phương sai tích lũy ~ 96.9% --> tăng ~ 5.1%\n",
      "   * k =  9 : phương sai tích lũy ~ 100.0% --> tăng ~ 3.1%\n"
     ]
    }
   ],
   "source": [
    "## Kiểm chứng: Tính phương sai tích lũy theo giá trị của k\n",
    "var = 0.0\n",
    "for k in range(1, nb_features + 1):\n",
    "    pca = PCA(k)\n",
    "    pca.fit(data)\n",
    "\n",
    "    #Tính tổng phương sai tích lũy\n",
    "    newVar = pca.explained_variance_ratio_.sum() * 100\n",
    "    print('   * k = %2d' %k, ': phương sai tích lũy ~ %.1f%%' %newVar,\n",
    "          '--> tăng ~ %.1f%%' %(newVar - var))\n",
    "    var = newVar"
   ]
  },
  {
   "cell_type": "markdown",
   "metadata": {},
   "source": [
    "### Nhận xét: \n",
    "Khi tăng từ k=1 đến k=2, phương sai tích lũy tăng khoảng 11.9%, đây là một sự tăng đáng kể.\n",
    "\n",
    "Tuy nhiên, sau khi tăng từ k=2 đến k=3, mức tăng giảm xuống còn 10.6%, và sau đó giảm dần theo mỗi bước tăng k."
   ]
  },
  {
   "cell_type": "code",
   "execution_count": 1604,
   "metadata": {},
   "outputs": [
    {
     "data": {
      "text/html": [
       "<style>#sk-container-id-35 {color: black;}#sk-container-id-35 pre{padding: 0;}#sk-container-id-35 div.sk-toggleable {background-color: white;}#sk-container-id-35 label.sk-toggleable__label {cursor: pointer;display: block;width: 100%;margin-bottom: 0;padding: 0.3em;box-sizing: border-box;text-align: center;}#sk-container-id-35 label.sk-toggleable__label-arrow:before {content: \"▸\";float: left;margin-right: 0.25em;color: #696969;}#sk-container-id-35 label.sk-toggleable__label-arrow:hover:before {color: black;}#sk-container-id-35 div.sk-estimator:hover label.sk-toggleable__label-arrow:before {color: black;}#sk-container-id-35 div.sk-toggleable__content {max-height: 0;max-width: 0;overflow: hidden;text-align: left;background-color: #f0f8ff;}#sk-container-id-35 div.sk-toggleable__content pre {margin: 0.2em;color: black;border-radius: 0.25em;background-color: #f0f8ff;}#sk-container-id-35 input.sk-toggleable__control:checked~div.sk-toggleable__content {max-height: 200px;max-width: 100%;overflow: auto;}#sk-container-id-35 input.sk-toggleable__control:checked~label.sk-toggleable__label-arrow:before {content: \"▾\";}#sk-container-id-35 div.sk-estimator input.sk-toggleable__control:checked~label.sk-toggleable__label {background-color: #d4ebff;}#sk-container-id-35 div.sk-label input.sk-toggleable__control:checked~label.sk-toggleable__label {background-color: #d4ebff;}#sk-container-id-35 input.sk-hidden--visually {border: 0;clip: rect(1px 1px 1px 1px);clip: rect(1px, 1px, 1px, 1px);height: 1px;margin: -1px;overflow: hidden;padding: 0;position: absolute;width: 1px;}#sk-container-id-35 div.sk-estimator {font-family: monospace;background-color: #f0f8ff;border: 1px dotted black;border-radius: 0.25em;box-sizing: border-box;margin-bottom: 0.5em;}#sk-container-id-35 div.sk-estimator:hover {background-color: #d4ebff;}#sk-container-id-35 div.sk-parallel-item::after {content: \"\";width: 100%;border-bottom: 1px solid gray;flex-grow: 1;}#sk-container-id-35 div.sk-label:hover label.sk-toggleable__label {background-color: #d4ebff;}#sk-container-id-35 div.sk-serial::before {content: \"\";position: absolute;border-left: 1px solid gray;box-sizing: border-box;top: 0;bottom: 0;left: 50%;z-index: 0;}#sk-container-id-35 div.sk-serial {display: flex;flex-direction: column;align-items: center;background-color: white;padding-right: 0.2em;padding-left: 0.2em;position: relative;}#sk-container-id-35 div.sk-item {position: relative;z-index: 1;}#sk-container-id-35 div.sk-parallel {display: flex;align-items: stretch;justify-content: center;background-color: white;position: relative;}#sk-container-id-35 div.sk-item::before, #sk-container-id-35 div.sk-parallel-item::before {content: \"\";position: absolute;border-left: 1px solid gray;box-sizing: border-box;top: 0;bottom: 0;left: 50%;z-index: -1;}#sk-container-id-35 div.sk-parallel-item {display: flex;flex-direction: column;z-index: 1;position: relative;background-color: white;}#sk-container-id-35 div.sk-parallel-item:first-child::after {align-self: flex-end;width: 50%;}#sk-container-id-35 div.sk-parallel-item:last-child::after {align-self: flex-start;width: 50%;}#sk-container-id-35 div.sk-parallel-item:only-child::after {width: 0;}#sk-container-id-35 div.sk-dashed-wrapped {border: 1px dashed gray;margin: 0 0.4em 0.5em 0.4em;box-sizing: border-box;padding-bottom: 0.4em;background-color: white;}#sk-container-id-35 div.sk-label label {font-family: monospace;font-weight: bold;display: inline-block;line-height: 1.2em;}#sk-container-id-35 div.sk-label-container {text-align: center;}#sk-container-id-35 div.sk-container {/* jupyter's `normalize.less` sets `[hidden] { display: none; }` but bootstrap.min.css set `[hidden] { display: none !important; }` so we also need the `!important` here to be able to override the default hidden behavior on the sphinx rendered scikit-learn.org. See: https://github.com/scikit-learn/scikit-learn/issues/21755 */display: inline-block !important;position: relative;}#sk-container-id-35 div.sk-text-repr-fallback {display: none;}</style><div id=\"sk-container-id-35\" class=\"sk-top-container\"><div class=\"sk-text-repr-fallback\"><pre>PCA(n_components=2)</pre><b>In a Jupyter environment, please rerun this cell to show the HTML representation or trust the notebook. <br />On GitHub, the HTML representation is unable to render, please try loading this page with nbviewer.org.</b></div><div class=\"sk-container\" hidden><div class=\"sk-item\"><div class=\"sk-estimator sk-toggleable\"><input class=\"sk-toggleable__control sk-hidden--visually\" id=\"sk-estimator-id-35\" type=\"checkbox\" checked><label for=\"sk-estimator-id-35\" class=\"sk-toggleable__label sk-toggleable__label-arrow\">PCA</label><div class=\"sk-toggleable__content\"><pre>PCA(n_components=2)</pre></div></div></div></div></div>"
      ],
      "text/plain": [
       "PCA(n_components=2)"
      ]
     },
     "execution_count": 1604,
     "metadata": {},
     "output_type": "execute_result"
    }
   ],
   "source": [
    "A = data.values\n",
    "pca = PCA(n_components = 2)\n",
    "pca.fit(A)"
   ]
  },
  {
   "cell_type": "code",
   "execution_count": 1605,
   "metadata": {},
   "outputs": [
    {
     "name": "stdout",
     "output_type": "stream",
     "text": [
      "PCA.components:\n",
      " [[-0.23326026 -0.25633057 -0.28123751 -0.27072634  0.37318906  0.30551586\n",
      "   0.34638617  0.39082249  0.47134   ]\n",
      " [ 0.30298755 -0.6438715   0.35552693  0.18780099 -0.13162617  0.55162415\n",
      "  -0.05179078 -0.08350825 -0.02624597]]\n",
      "PCA.shape: (2, 9)\n",
      "PCA.explained variance: [3.27522049 1.24986834]\n",
      "PCA.explained variance shape: (2,)\n"
     ]
    }
   ],
   "source": [
    "## Hiển thị kết quả tóm tắt\n",
    "#  components_: array, shape (n_components, n_features)\n",
    "#               Các thành phần chính trong không gian features,\n",
    "#               biểu thị các hướng của phương sai tối đa trong dữ liệu\n",
    "#  explained_variance_ : array, shape (n_components,)\n",
    "#               Lượng phương sai được giải thích bởi từng thành phần được chọn.\n",
    "print('PCA.components:\\n', pca.components_)\n",
    "print('PCA.shape:', pca.components_.shape)\n",
    "print('PCA.explained variance:', pca.explained_variance_)\n",
    "print('PCA.explained variance shape:', pca.explained_variance_.shape)"
   ]
  },
  {
   "cell_type": "code",
   "execution_count": 1606,
   "metadata": {},
   "outputs": [
    {
     "data": {
      "text/plain": [
       "(325, 2)"
      ]
     },
     "execution_count": 1606,
     "metadata": {},
     "output_type": "execute_result"
    }
   ],
   "source": [
    "## Phép chiếu dữ liệu vào không gian MỚI (tọa độ mới)\n",
    "P = pca.transform(A)\n",
    "P.shape"
   ]
  },
  {
   "cell_type": "code",
   "execution_count": 1607,
   "metadata": {},
   "outputs": [],
   "source": [
    "PC_name = ['PC 1', 'PC 2']\n",
    "df_pca = pd.DataFrame(P, columns = PC_name)\n",
    "df_pca['student_id'] = df['student_id']"
   ]
  },
  {
   "cell_type": "code",
   "execution_count": 1608,
   "metadata": {},
   "outputs": [
    {
     "data": {
      "image/png": "[encoded data removed]",
      "text/plain": [
       "<Figure size 600x600 with 1 Axes>"
      ]
     },
     "metadata": {},
     "output_type": "display_data"
    }
   ],
   "source": [
    "## Biểu diễn trực quan dữ liệu sau khi áp dụng PCA\n",
    "df_pca['drop_out'] = df['drop_out']\n",
    "\n",
    "plt.figure(figsize = (6, 6))\n",
    "plt.title('Biểu đồ có PHÂN LỚP')\n",
    "sns.scatterplot(x = PC_name[0], y = PC_name[1], data = df_pca, hue='drop_out')\n",
    "plt.show()"
   ]
  },
  {
   "cell_type": "code",
   "execution_count": 1609,
   "metadata": {},
   "outputs": [],
   "source": [
    "# Dữ liệu phân bố thành 2 vùng:\n",
    "# Vùng 1: dữ liệu tập trùng trong khoảng (4, 6) -> tập trung các điểm dữ liệu sinh viên còn học tiếp\n",
    "# Vùng 2: dữ liệu phân bố đồ đều trong khoảng (5.5, 15) -> tập trung các điểm dữ liệu là sinh viên thôi học \n",
    "# -> Nếu x cao, y thấp -> sinh viên có khả năng thôi học.\n"
   ]
  },
  {
   "cell_type": "code",
   "execution_count": 1610,
   "metadata": {},
   "outputs": [
    {
     "data": {
      "text/html": [
       "<div>\n",
       "<style scoped>\n",
       "    .dataframe tbody tr th:only-of-type {\n",
       "        vertical-align: middle;\n",
       "    }\n",
       "\n",
       "    .dataframe tbody tr th {\n",
       "        vertical-align: top;\n",
       "    }\n",
       "\n",
       "    .dataframe thead th {\n",
       "        text-align: right;\n",
       "    }\n",
       "</style>\n",
       "<table border=\"1\" class=\"dataframe\">\n",
       "  <thead>\n",
       "    <tr style=\"text-align: right;\">\n",
       "      <th></th>\n",
       "      <th>PC 1</th>\n",
       "      <th>PC 2</th>\n",
       "      <th>student_id</th>\n",
       "      <th>drop_out</th>\n",
       "    </tr>\n",
       "  </thead>\n",
       "  <tbody>\n",
       "    <tr>\n",
       "      <th>0</th>\n",
       "      <td>8.048238</td>\n",
       "      <td>-0.059296</td>\n",
       "      <td>0</td>\n",
       "      <td>6.740072</td>\n",
       "    </tr>\n",
       "    <tr>\n",
       "      <th>1</th>\n",
       "      <td>-0.392580</td>\n",
       "      <td>0.590454</td>\n",
       "      <td>1</td>\n",
       "      <td>-0.148366</td>\n",
       "    </tr>\n",
       "    <tr>\n",
       "      <th>2</th>\n",
       "      <td>-0.474514</td>\n",
       "      <td>1.258738</td>\n",
       "      <td>2</td>\n",
       "      <td>-0.148366</td>\n",
       "    </tr>\n",
       "    <tr>\n",
       "      <th>3</th>\n",
       "      <td>-0.407880</td>\n",
       "      <td>0.277876</td>\n",
       "      <td>3</td>\n",
       "      <td>-0.148366</td>\n",
       "    </tr>\n",
       "    <tr>\n",
       "      <th>4</th>\n",
       "      <td>0.119077</td>\n",
       "      <td>-1.026254</td>\n",
       "      <td>4</td>\n",
       "      <td>-0.148366</td>\n",
       "    </tr>\n",
       "    <tr>\n",
       "      <th>...</th>\n",
       "      <td>...</td>\n",
       "      <td>...</td>\n",
       "      <td>...</td>\n",
       "      <td>...</td>\n",
       "    </tr>\n",
       "    <tr>\n",
       "      <th>320</th>\n",
       "      <td>0.383308</td>\n",
       "      <td>3.748264</td>\n",
       "      <td>320</td>\n",
       "      <td>-0.148366</td>\n",
       "    </tr>\n",
       "    <tr>\n",
       "      <th>321</th>\n",
       "      <td>-0.875365</td>\n",
       "      <td>0.181601</td>\n",
       "      <td>321</td>\n",
       "      <td>-0.148366</td>\n",
       "    </tr>\n",
       "    <tr>\n",
       "      <th>322</th>\n",
       "      <td>-1.112673</td>\n",
       "      <td>1.387608</td>\n",
       "      <td>322</td>\n",
       "      <td>-0.148366</td>\n",
       "    </tr>\n",
       "    <tr>\n",
       "      <th>323</th>\n",
       "      <td>-0.739577</td>\n",
       "      <td>0.414810</td>\n",
       "      <td>323</td>\n",
       "      <td>-0.148366</td>\n",
       "    </tr>\n",
       "    <tr>\n",
       "      <th>324</th>\n",
       "      <td>-0.589201</td>\n",
       "      <td>-1.074057</td>\n",
       "      <td>324</td>\n",
       "      <td>-0.148366</td>\n",
       "    </tr>\n",
       "  </tbody>\n",
       "</table>\n",
       "<p>325 rows × 4 columns</p>\n",
       "</div>"
      ],
      "text/plain": [
       "         PC 1      PC 2  student_id  drop_out\n",
       "0    8.048238 -0.059296           0  6.740072\n",
       "1   -0.392580  0.590454           1 -0.148366\n",
       "2   -0.474514  1.258738           2 -0.148366\n",
       "3   -0.407880  0.277876           3 -0.148366\n",
       "4    0.119077 -1.026254           4 -0.148366\n",
       "..        ...       ...         ...       ...\n",
       "320  0.383308  3.748264         320 -0.148366\n",
       "321 -0.875365  0.181601         321 -0.148366\n",
       "322 -1.112673  1.387608         322 -0.148366\n",
       "323 -0.739577  0.414810         323 -0.148366\n",
       "324 -0.589201 -1.074057         324 -0.148366\n",
       "\n",
       "[325 rows x 4 columns]"
      ]
     },
     "execution_count": 1610,
     "metadata": {},
     "output_type": "execute_result"
    }
   ],
   "source": [
    "df_pca"
   ]
  },
  {
   "cell_type": "code",
   "execution_count": 1611,
   "metadata": {},
   "outputs": [
    {
     "data": {
      "image/png": "[encoded data removed]",
      "text/plain": [
       "<Figure size 640x480 with 1 Axes>"
      ]
     },
     "metadata": {},
     "output_type": "display_data"
    }
   ],
   "source": [
    "sns.boxplot(df_pca.iloc[:,[0,1]])\n",
    "plt.show()"
   ]
  },
  {
   "cell_type": "code",
   "execution_count": 1612,
   "metadata": {},
   "outputs": [],
   "source": [
    "def calculate_iqr(df, col):\n",
    "    Q1 = df[f'{col}'].quantile(0.25)\n",
    "    Q2 = df[f'{col}'].quantile(0.50)\n",
    "    Q3 = df[f'{col}'].quantile(0.75)\n",
    "    return ((Q3-Q1),Q1, Q2, Q3) "
   ]
  },
  {
   "cell_type": "code",
   "execution_count": 1613,
   "metadata": {},
   "outputs": [
    {
     "data": {
      "text/html": [
       "<div>\n",
       "<style scoped>\n",
       "    .dataframe tbody tr th:only-of-type {\n",
       "        vertical-align: middle;\n",
       "    }\n",
       "\n",
       "    .dataframe tbody tr th {\n",
       "        vertical-align: top;\n",
       "    }\n",
       "\n",
       "    .dataframe thead th {\n",
       "        text-align: right;\n",
       "    }\n",
       "</style>\n",
       "<table border=\"1\" class=\"dataframe\">\n",
       "  <thead>\n",
       "    <tr style=\"text-align: right;\">\n",
       "      <th></th>\n",
       "      <th>PC 1</th>\n",
       "      <th>PC 2</th>\n",
       "      <th>student_id</th>\n",
       "      <th>drop_out</th>\n",
       "    </tr>\n",
       "  </thead>\n",
       "  <tbody>\n",
       "    <tr>\n",
       "      <th>0</th>\n",
       "      <td>8.048238</td>\n",
       "      <td>-0.059296</td>\n",
       "      <td>0</td>\n",
       "      <td>6.740072</td>\n",
       "    </tr>\n",
       "    <tr>\n",
       "      <th>1</th>\n",
       "      <td>-0.392580</td>\n",
       "      <td>0.590454</td>\n",
       "      <td>1</td>\n",
       "      <td>-0.148366</td>\n",
       "    </tr>\n",
       "    <tr>\n",
       "      <th>2</th>\n",
       "      <td>-0.474514</td>\n",
       "      <td>1.258738</td>\n",
       "      <td>2</td>\n",
       "      <td>-0.148366</td>\n",
       "    </tr>\n",
       "    <tr>\n",
       "      <th>3</th>\n",
       "      <td>-0.407880</td>\n",
       "      <td>0.277876</td>\n",
       "      <td>3</td>\n",
       "      <td>-0.148366</td>\n",
       "    </tr>\n",
       "    <tr>\n",
       "      <th>4</th>\n",
       "      <td>0.119077</td>\n",
       "      <td>-1.026254</td>\n",
       "      <td>4</td>\n",
       "      <td>-0.148366</td>\n",
       "    </tr>\n",
       "    <tr>\n",
       "      <th>...</th>\n",
       "      <td>...</td>\n",
       "      <td>...</td>\n",
       "      <td>...</td>\n",
       "      <td>...</td>\n",
       "    </tr>\n",
       "    <tr>\n",
       "      <th>319</th>\n",
       "      <td>-0.843176</td>\n",
       "      <td>-0.648550</td>\n",
       "      <td>319</td>\n",
       "      <td>-0.148366</td>\n",
       "    </tr>\n",
       "    <tr>\n",
       "      <th>321</th>\n",
       "      <td>-0.875365</td>\n",
       "      <td>0.181601</td>\n",
       "      <td>321</td>\n",
       "      <td>-0.148366</td>\n",
       "    </tr>\n",
       "    <tr>\n",
       "      <th>322</th>\n",
       "      <td>-1.112673</td>\n",
       "      <td>1.387608</td>\n",
       "      <td>322</td>\n",
       "      <td>-0.148366</td>\n",
       "    </tr>\n",
       "    <tr>\n",
       "      <th>323</th>\n",
       "      <td>-0.739577</td>\n",
       "      <td>0.414810</td>\n",
       "      <td>323</td>\n",
       "      <td>-0.148366</td>\n",
       "    </tr>\n",
       "    <tr>\n",
       "      <th>324</th>\n",
       "      <td>-0.589201</td>\n",
       "      <td>-1.074057</td>\n",
       "      <td>324</td>\n",
       "      <td>-0.148366</td>\n",
       "    </tr>\n",
       "  </tbody>\n",
       "</table>\n",
       "<p>316 rows × 4 columns</p>\n",
       "</div>"
      ],
      "text/plain": [
       "         PC 1      PC 2  student_id  drop_out\n",
       "0    8.048238 -0.059296           0  6.740072\n",
       "1   -0.392580  0.590454           1 -0.148366\n",
       "2   -0.474514  1.258738           2 -0.148366\n",
       "3   -0.407880  0.277876           3 -0.148366\n",
       "4    0.119077 -1.026254           4 -0.148366\n",
       "..        ...       ...         ...       ...\n",
       "319 -0.843176 -0.648550         319 -0.148366\n",
       "321 -0.875365  0.181601         321 -0.148366\n",
       "322 -1.112673  1.387608         322 -0.148366\n",
       "323 -0.739577  0.414810         323 -0.148366\n",
       "324 -0.589201 -1.074057         324 -0.148366\n",
       "\n",
       "[316 rows x 4 columns]"
      ]
     },
     "execution_count": 1613,
     "metadata": {},
     "output_type": "execute_result"
    }
   ],
   "source": [
    "UW = calculate_iqr(df_pca, 'PC 2')[3] + 1.5*calculate_iqr(df_pca, 'PC 2')[0]\n",
    "outlier = df_pca[df_pca['PC 2'] > UW].sort_values(by='PC 2')\n",
    "df_pca.drop(index=(outlier.index), inplace = True)\n",
    "df_pca"
   ]
  },
  {
   "cell_type": "code",
   "execution_count": 1614,
   "metadata": {},
   "outputs": [
    {
     "data": {
      "text/html": [
       "<div>\n",
       "<style scoped>\n",
       "    .dataframe tbody tr th:only-of-type {\n",
       "        vertical-align: middle;\n",
       "    }\n",
       "\n",
       "    .dataframe tbody tr th {\n",
       "        vertical-align: top;\n",
       "    }\n",
       "\n",
       "    .dataframe thead th {\n",
       "        text-align: right;\n",
       "    }\n",
       "</style>\n",
       "<table border=\"1\" class=\"dataframe\">\n",
       "  <thead>\n",
       "    <tr style=\"text-align: right;\">\n",
       "      <th></th>\n",
       "      <th>PC 1</th>\n",
       "      <th>PC 2</th>\n",
       "      <th>student_id</th>\n",
       "      <th>drop_out</th>\n",
       "    </tr>\n",
       "  </thead>\n",
       "  <tbody>\n",
       "    <tr>\n",
       "      <th>71</th>\n",
       "      <td>-0.359278</td>\n",
       "      <td>2.649003</td>\n",
       "      <td>71</td>\n",
       "      <td>-0.148366</td>\n",
       "    </tr>\n",
       "    <tr>\n",
       "      <th>296</th>\n",
       "      <td>1.423994</td>\n",
       "      <td>3.470647</td>\n",
       "      <td>296</td>\n",
       "      <td>-0.148366</td>\n",
       "    </tr>\n",
       "    <tr>\n",
       "      <th>255</th>\n",
       "      <td>2.205293</td>\n",
       "      <td>3.736688</td>\n",
       "      <td>255</td>\n",
       "      <td>-0.148366</td>\n",
       "    </tr>\n",
       "    <tr>\n",
       "      <th>320</th>\n",
       "      <td>0.383308</td>\n",
       "      <td>3.748264</td>\n",
       "      <td>320</td>\n",
       "      <td>-0.148366</td>\n",
       "    </tr>\n",
       "    <tr>\n",
       "      <th>177</th>\n",
       "      <td>2.472025</td>\n",
       "      <td>3.813779</td>\n",
       "      <td>177</td>\n",
       "      <td>-0.148366</td>\n",
       "    </tr>\n",
       "    <tr>\n",
       "      <th>234</th>\n",
       "      <td>2.257118</td>\n",
       "      <td>4.772178</td>\n",
       "      <td>234</td>\n",
       "      <td>-0.148366</td>\n",
       "    </tr>\n",
       "    <tr>\n",
       "      <th>304</th>\n",
       "      <td>1.583118</td>\n",
       "      <td>4.817643</td>\n",
       "      <td>304</td>\n",
       "      <td>-0.148366</td>\n",
       "    </tr>\n",
       "    <tr>\n",
       "      <th>233</th>\n",
       "      <td>2.558039</td>\n",
       "      <td>4.958473</td>\n",
       "      <td>233</td>\n",
       "      <td>-0.148366</td>\n",
       "    </tr>\n",
       "    <tr>\n",
       "      <th>273</th>\n",
       "      <td>1.484057</td>\n",
       "      <td>6.128841</td>\n",
       "      <td>273</td>\n",
       "      <td>-0.148366</td>\n",
       "    </tr>\n",
       "  </tbody>\n",
       "</table>\n",
       "</div>"
      ],
      "text/plain": [
       "         PC 1      PC 2  student_id  drop_out\n",
       "71  -0.359278  2.649003          71 -0.148366\n",
       "296  1.423994  3.470647         296 -0.148366\n",
       "255  2.205293  3.736688         255 -0.148366\n",
       "320  0.383308  3.748264         320 -0.148366\n",
       "177  2.472025  3.813779         177 -0.148366\n",
       "234  2.257118  4.772178         234 -0.148366\n",
       "304  1.583118  4.817643         304 -0.148366\n",
       "233  2.558039  4.958473         233 -0.148366\n",
       "273  1.484057  6.128841         273 -0.148366"
      ]
     },
     "execution_count": 1614,
     "metadata": {},
     "output_type": "execute_result"
    }
   ],
   "source": [
    "outlier"
   ]
  },
  {
   "cell_type": "markdown",
   "metadata": {},
   "source": [
    "#### Tính độ lệch của phân phối dữ liệu.\n",
    "+ Nếu dữ liệu có độ méo lệch bằng 0, đó có nghĩa là dữ liệu hoàn toàn đối xứng. \n",
    "\n",
    "+ Nếu độ méo lệch lớn hơn 0, dữ liệu lệch về phía bên trái của trục x (trái đối với phân phối Gaussian)\n",
    "\n",
    "+ Nếu nhỏ hơn 0, dữ liệu lệch về phía bên phải của trục x."
   ]
  },
  {
   "cell_type": "code",
   "execution_count": 1615,
   "metadata": {},
   "outputs": [
    {
     "name": "stderr",
     "output_type": "stream",
     "text": [
      "c:\\Program Files\\Python310\\lib\\site-packages\\seaborn\\_oldcore.py:1119: FutureWarning: use_inf_as_na option is deprecated and will be removed in a future version. Convert inf values to NaN before operating instead.\n",
      "  with pd.option_context('mode.use_inf_as_na', True):\n"
     ]
    },
    {
     "data": {
      "image/png": "[encoded data removed]",
      "text/plain": [
       "<Figure size 500x300 with 1 Axes>"
      ]
     },
     "metadata": {},
     "output_type": "display_data"
    }
   ],
   "source": [
    "plt.figure(figsize = (5, 3))\n",
    "sns.histplot(data = df_pca['PC 1'])\n",
    "plt.show()"
   ]
  },
  {
   "cell_type": "code",
   "execution_count": 1616,
   "metadata": {},
   "outputs": [
    {
     "name": "stderr",
     "output_type": "stream",
     "text": [
      "c:\\Program Files\\Python310\\lib\\site-packages\\seaborn\\_oldcore.py:1119: FutureWarning: use_inf_as_na option is deprecated and will be removed in a future version. Convert inf values to NaN before operating instead.\n",
      "  with pd.option_context('mode.use_inf_as_na', True):\n"
     ]
    },
    {
     "data": {
      "image/png": "[encoded data removed]",
      "text/plain": [
       "<Figure size 500x300 with 1 Axes>"
      ]
     },
     "metadata": {},
     "output_type": "display_data"
    }
   ],
   "source": [
    "plt.figure(figsize = (5, 3))\n",
    "sns.histplot(data = df_pca['PC 2'])\n",
    "plt.show()"
   ]
  },
  {
   "cell_type": "code",
   "execution_count": 1617,
   "metadata": {},
   "outputs": [
    {
     "name": "stdout",
     "output_type": "stream",
     "text": [
      "-0.04432808392800662 -0.3203951701938481\n",
      "-0.1205554312492714 -0.12776746083595855\n",
      "PC 1 5.072283694640022\n",
      "PC 2 0.09167587077637394\n"
     ]
    }
   ],
   "source": [
    "#  tính độ xiên của tần số\n",
    "\n",
    "print(df_pca['PC 1'].mean(), df_pca['PC 1'].median())\n",
    "print(df_pca['PC 2'].mean(), df_pca['PC 2'].median())\n",
    "\n",
    "print('PC 1',df_pca['PC 1'].skew())\n",
    "print('PC 2',df_pca['PC 2'].skew())"
   ]
  },
  {
   "cell_type": "code",
   "execution_count": 1618,
   "metadata": {},
   "outputs": [],
   "source": [
    "# mean > median\n",
    "# độ xiên > 0\n",
    "# Có số lượng nhỏ ở PC 1 và PC 2 có khả năng tiếp tục học \n",
    "# 2 biểu đồ lệch dương  "
   ]
  },
  {
   "cell_type": "code",
   "execution_count": 1619,
   "metadata": {},
   "outputs": [
    {
     "data": {
      "text/html": [
       "<div>\n",
       "<style scoped>\n",
       "    .dataframe tbody tr th:only-of-type {\n",
       "        vertical-align: middle;\n",
       "    }\n",
       "\n",
       "    .dataframe tbody tr th {\n",
       "        vertical-align: top;\n",
       "    }\n",
       "\n",
       "    .dataframe thead th {\n",
       "        text-align: right;\n",
       "    }\n",
       "</style>\n",
       "<table border=\"1\" class=\"dataframe\">\n",
       "  <thead>\n",
       "    <tr style=\"text-align: right;\">\n",
       "      <th></th>\n",
       "      <th>student_id</th>\n",
       "      <th>gender</th>\n",
       "      <th>age</th>\n",
       "      <th>gpa1</th>\n",
       "      <th>gpa2</th>\n",
       "      <th>gpa3</th>\n",
       "      <th>gpa4</th>\n",
       "      <th>ar1</th>\n",
       "      <th>ar2</th>\n",
       "      <th>ar3</th>\n",
       "      <th>ar4</th>\n",
       "      <th>drop_out</th>\n",
       "    </tr>\n",
       "  </thead>\n",
       "  <tbody>\n",
       "    <tr>\n",
       "      <th>0</th>\n",
       "      <td>0</td>\n",
       "      <td>0.294884</td>\n",
       "      <td>1.724698</td>\n",
       "      <td>-1.923180</td>\n",
       "      <td>-3.599565</td>\n",
       "      <td>-2.322464</td>\n",
       "      <td>-2.057553</td>\n",
       "      <td>2.638477</td>\n",
       "      <td>0.392044</td>\n",
       "      <td>-0.940952</td>\n",
       "      <td>3.867232</td>\n",
       "      <td>6.740072</td>\n",
       "    </tr>\n",
       "    <tr>\n",
       "      <th>1</th>\n",
       "      <td>1</td>\n",
       "      <td>-3.391165</td>\n",
       "      <td>1.724698</td>\n",
       "      <td>-0.262084</td>\n",
       "      <td>0.299617</td>\n",
       "      <td>0.651444</td>\n",
       "      <td>0.353912</td>\n",
       "      <td>-1.014942</td>\n",
       "      <td>0.847923</td>\n",
       "      <td>-0.940952</td>\n",
       "      <td>1.068736</td>\n",
       "      <td>-0.148366</td>\n",
       "    </tr>\n",
       "    <tr>\n",
       "      <th>2</th>\n",
       "      <td>2</td>\n",
       "      <td>0.294884</td>\n",
       "      <td>1.724698</td>\n",
       "      <td>0.476181</td>\n",
       "      <td>-1.312045</td>\n",
       "      <td>-1.178653</td>\n",
       "      <td>1.475523</td>\n",
       "      <td>-1.014942</td>\n",
       "      <td>0.414838</td>\n",
       "      <td>-0.940952</td>\n",
       "      <td>0.041229</td>\n",
       "      <td>-0.148366</td>\n",
       "    </tr>\n",
       "    <tr>\n",
       "      <th>3</th>\n",
       "      <td>3</td>\n",
       "      <td>0.294884</td>\n",
       "      <td>1.724698</td>\n",
       "      <td>0.522322</td>\n",
       "      <td>-0.012317</td>\n",
       "      <td>0.422682</td>\n",
       "      <td>0.858637</td>\n",
       "      <td>-0.411333</td>\n",
       "      <td>-0.352558</td>\n",
       "      <td>0.928625</td>\n",
       "      <td>0.183242</td>\n",
       "      <td>-0.148366</td>\n",
       "    </tr>\n",
       "    <tr>\n",
       "      <th>4</th>\n",
       "      <td>4</td>\n",
       "      <td>0.294884</td>\n",
       "      <td>1.724698</td>\n",
       "      <td>0.107048</td>\n",
       "      <td>0.351606</td>\n",
       "      <td>-1.064272</td>\n",
       "      <td>-1.496747</td>\n",
       "      <td>-1.014942</td>\n",
       "      <td>-0.519714</td>\n",
       "      <td>0.255113</td>\n",
       "      <td>0.124766</td>\n",
       "      <td>-0.148366</td>\n",
       "    </tr>\n",
       "    <tr>\n",
       "      <th>...</th>\n",
       "      <td>...</td>\n",
       "      <td>...</td>\n",
       "      <td>...</td>\n",
       "      <td>...</td>\n",
       "      <td>...</td>\n",
       "      <td>...</td>\n",
       "      <td>...</td>\n",
       "      <td>...</td>\n",
       "      <td>...</td>\n",
       "      <td>...</td>\n",
       "      <td>...</td>\n",
       "      <td>...</td>\n",
       "    </tr>\n",
       "    <tr>\n",
       "      <th>319</th>\n",
       "      <td>319</td>\n",
       "      <td>0.294884</td>\n",
       "      <td>-0.902771</td>\n",
       "      <td>0.891455</td>\n",
       "      <td>0.663541</td>\n",
       "      <td>-0.892700</td>\n",
       "      <td>-0.150814</td>\n",
       "      <td>-0.580767</td>\n",
       "      <td>-0.519714</td>\n",
       "      <td>-0.267440</td>\n",
       "      <td>-0.560239</td>\n",
       "      <td>-0.148366</td>\n",
       "    </tr>\n",
       "    <tr>\n",
       "      <th>321</th>\n",
       "      <td>321</td>\n",
       "      <td>0.294884</td>\n",
       "      <td>1.724698</td>\n",
       "      <td>0.614606</td>\n",
       "      <td>0.455584</td>\n",
       "      <td>1.738064</td>\n",
       "      <td>-0.038652</td>\n",
       "      <td>0.520553</td>\n",
       "      <td>-0.519714</td>\n",
       "      <td>0.336399</td>\n",
       "      <td>-0.560239</td>\n",
       "      <td>-0.148366</td>\n",
       "    </tr>\n",
       "    <tr>\n",
       "      <th>322</th>\n",
       "      <td>322</td>\n",
       "      <td>0.294884</td>\n",
       "      <td>-0.902771</td>\n",
       "      <td>1.629720</td>\n",
       "      <td>0.091661</td>\n",
       "      <td>1.852445</td>\n",
       "      <td>1.307281</td>\n",
       "      <td>0.785293</td>\n",
       "      <td>0.240085</td>\n",
       "      <td>-0.546134</td>\n",
       "      <td>0.149827</td>\n",
       "      <td>-0.148366</td>\n",
       "    </tr>\n",
       "    <tr>\n",
       "      <th>323</th>\n",
       "      <td>323</td>\n",
       "      <td>-3.391165</td>\n",
       "      <td>-0.026948</td>\n",
       "      <td>0.522322</td>\n",
       "      <td>0.039672</td>\n",
       "      <td>1.623683</td>\n",
       "      <td>-0.543378</td>\n",
       "      <td>0.096968</td>\n",
       "      <td>-0.398146</td>\n",
       "      <td>0.220276</td>\n",
       "      <td>-0.560239</td>\n",
       "      <td>-0.148366</td>\n",
       "    </tr>\n",
       "    <tr>\n",
       "      <th>324</th>\n",
       "      <td>324</td>\n",
       "      <td>0.294884</td>\n",
       "      <td>0.848875</td>\n",
       "      <td>-0.354367</td>\n",
       "      <td>1.235421</td>\n",
       "      <td>0.308301</td>\n",
       "      <td>-0.319055</td>\n",
       "      <td>-0.707843</td>\n",
       "      <td>-0.519714</td>\n",
       "      <td>-0.081643</td>\n",
       "      <td>0.425500</td>\n",
       "      <td>-0.148366</td>\n",
       "    </tr>\n",
       "  </tbody>\n",
       "</table>\n",
       "<p>316 rows × 12 columns</p>\n",
       "</div>"
      ],
      "text/plain": [
       "     student_id    gender       age      gpa1      gpa2      gpa3      gpa4  \\\n",
       "0             0  0.294884  1.724698 -1.923180 -3.599565 -2.322464 -2.057553   \n",
       "1             1 -3.391165  1.724698 -0.262084  0.299617  0.651444  0.353912   \n",
       "2             2  0.294884  1.724698  0.476181 -1.312045 -1.178653  1.475523   \n",
       "3             3  0.294884  1.724698  0.522322 -0.012317  0.422682  0.858637   \n",
       "4             4  0.294884  1.724698  0.107048  0.351606 -1.064272 -1.496747   \n",
       "..          ...       ...       ...       ...       ...       ...       ...   \n",
       "319         319  0.294884 -0.902771  0.891455  0.663541 -0.892700 -0.150814   \n",
       "321         321  0.294884  1.724698  0.614606  0.455584  1.738064 -0.038652   \n",
       "322         322  0.294884 -0.902771  1.629720  0.091661  1.852445  1.307281   \n",
       "323         323 -3.391165 -0.026948  0.522322  0.039672  1.623683 -0.543378   \n",
       "324         324  0.294884  0.848875 -0.354367  1.235421  0.308301 -0.319055   \n",
       "\n",
       "          ar1       ar2       ar3       ar4  drop_out  \n",
       "0    2.638477  0.392044 -0.940952  3.867232  6.740072  \n",
       "1   -1.014942  0.847923 -0.940952  1.068736 -0.148366  \n",
       "2   -1.014942  0.414838 -0.940952  0.041229 -0.148366  \n",
       "3   -0.411333 -0.352558  0.928625  0.183242 -0.148366  \n",
       "4   -1.014942 -0.519714  0.255113  0.124766 -0.148366  \n",
       "..        ...       ...       ...       ...       ...  \n",
       "319 -0.580767 -0.519714 -0.267440 -0.560239 -0.148366  \n",
       "321  0.520553 -0.519714  0.336399 -0.560239 -0.148366  \n",
       "322  0.785293  0.240085 -0.546134  0.149827 -0.148366  \n",
       "323  0.096968 -0.398146  0.220276 -0.560239 -0.148366  \n",
       "324 -0.707843 -0.519714 -0.081643  0.425500 -0.148366  \n",
       "\n",
       "[316 rows x 12 columns]"
      ]
     },
     "execution_count": 1619,
     "metadata": {},
     "output_type": "execute_result"
    }
   ],
   "source": [
    "\n",
    "mask = ~df['student_id'].isin(df_pca['student_id'])\n",
    "# Loại bỏ các dòng có chỉ mục không nằm trong df_pca\n",
    "df = df[~mask]\n",
    "df\n"
   ]
  },
  {
   "cell_type": "code",
   "execution_count": 1624,
   "metadata": {},
   "outputs": [
    {
     "data": {
      "text/plain": [
       "PC 1          float64\n",
       "PC 2          float64\n",
       "student_id      int32\n",
       "drop_out      float64\n",
       "dtype: object"
      ]
     },
     "execution_count": 1624,
     "metadata": {},
     "output_type": "execute_result"
    }
   ],
   "source": [
    "df_pca.dtypes"
   ]
  },
  {
   "cell_type": "markdown",
   "metadata": {},
   "source": [
    "## Chia tập dữ liệu"
   ]
  },
  {
   "cell_type": "code",
   "execution_count": 1620,
   "metadata": {},
   "outputs": [],
   "source": [
    "X_train_pca, X_test_pca, y_train, y_test = train_test_split(df_pca, df['student_id'], test_size=0.2, stratify=df['drop_out'], random_state=42)"
   ]
  },
  {
   "cell_type": "code",
   "execution_count": 1621,
   "metadata": {},
   "outputs": [],
   "source": [
    "X_train_pca = X_train_pca.reindex(columns = ['student_id', 'PC 1', 'PC 2', 'drop_out'])\n",
    "X_test_pca = X_test_pca.reindex(columns = ['student_id', 'PC 1', 'PC 2', 'drop_out'])"
   ]
  },
  {
   "cell_type": "code",
   "execution_count": 1622,
   "metadata": {},
   "outputs": [
    {
     "data": {
      "text/plain": [
       "student_id      int32\n",
       "PC 1          float64\n",
       "PC 2          float64\n",
       "drop_out      float64\n",
       "dtype: object"
      ]
     },
     "execution_count": 1622,
     "metadata": {},
     "output_type": "execute_result"
    }
   ],
   "source": [
    "X_train_pca.dtypes"
   ]
  },
  {
   "cell_type": "code",
   "execution_count": 1623,
   "metadata": {},
   "outputs": [],
   "source": [
    "X_train_pca.to_csv('../../data/train_test/xtrain_data.csv')\n",
    "X_test_pca.to_csv('../../data/train_test/xtest_data.csv')\n",
    "y_test.to_csv('../../data/train_test/ytest_data.csv')\n",
    "y_train.to_csv('../../data/train_test/ytrain_data.csv')"
   ]
  }
 ],
 "metadata": {
  "kernelspec": {
   "display_name": "Python 3",
   "language": "python",
   "name": "python3"
  },
  "language_info": {
   "codemirror_mode": {
    "name": "ipython",
    "version": 3
   },
   "file_extension": ".py",
   "mimetype": "text/x-python",
   "name": "python",
   "nbconvert_exporter": "python",
   "pygments_lexer": "ipython3",
   "version": "3.10.11"
  }
 },
 "nbformat": 4,
 "nbformat_minor": 2
}
