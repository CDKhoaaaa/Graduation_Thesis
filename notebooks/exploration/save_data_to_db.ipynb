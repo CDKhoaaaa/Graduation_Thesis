{
 "cells": [
  {
   "cell_type": "code",
   "execution_count": 2,
   "metadata": {},
   "outputs": [],
   "source": [
    "from psycopg2 import connect, Error\n",
    "import psycopg2\n",
    "import os"
   ]
  },
  {
   "cell_type": "code",
   "execution_count": 3,
   "metadata": {},
   "outputs": [
    {
     "name": "stdout",
     "output_type": "stream",
     "text": [
      "Có quyền truy cập vào thư mục\n",
      "Có quyền truy cập vào thư mục\n",
      "Có quyền truy cập vào thư mục\n",
      "Có quyền truy cập vào thư mục\n",
      "Có quyền truy cập vào thư mục\n",
      "Có quyền truy cập vào thư mục\n",
      "Có quyền truy cập vào thư mục\n"
     ]
    }
   ],
   "source": [
    "folder_path = '../../data/reformatted_data'\n",
    "file_names = os.listdir(folder_path)\n",
    "for i in file_names:\n",
    "    os.chmod(f'{folder_path}/{i}', 0o777)\n",
    "\n",
    "\n",
    "for i in file_names:\n",
    "# Kiểm tra quyền truy cập của thư mục\n",
    "    if os.access(f'{folder_path}/{i}', os.R_OK):\n",
    "        print(\"Có quyền truy cập vào thư mục\")\n",
    "    else:\n",
    "        print(f\"Không có quyền truy cập vào thư mục {i}\")\n"
   ]
  },
  {
   "cell_type": "code",
   "execution_count": 4,
   "metadata": {},
   "outputs": [
    {
     "name": "stdout",
     "output_type": "stream",
     "text": [
      "Kết nối thành công!\n"
     ]
    }
   ],
   "source": [
    "# Kết nối database\n",
    "try:\n",
    "    conn = connect(user = 'postgres',\n",
    "                    password = 'postgres',\n",
    "                    database = 'GraduationThesis',\n",
    "                    host = 'localhost', \n",
    "                    port = 5432)\n",
    "    print(\"Kết nối thành công!\")\n",
    "except psycopg2.Error as e:\n",
    "    print(\"Kết nối thất bại:\", e)"
   ]
  },
  {
   "cell_type": "code",
   "execution_count": 5,
   "metadata": {},
   "outputs": [],
   "source": [
    "# Tạo cursor\n",
    "cursor = conn.cursor()\n",
    "# Lấy thư mục làm việc hiện tại\n",
    "current_directory = os.getcwd()"
   ]
  },
  {
   "cell_type": "code",
   "execution_count": 6,
   "metadata": {},
   "outputs": [
    {
     "name": "stdout",
     "output_type": "stream",
     "text": [
      "Error while working with PostgreSQL: duplicate key value violates unique constraint \"class_section_pkey\"\n",
      "DETAIL:  Key (class_id)=(0         ) already exists.\n",
      "CONTEXT:  COPY class_section, line 2\n",
      "\n"
     ]
    }
   ],
   "source": [
    "# Xây dựng đường dẫn tương đối đến file class_section.csv\n",
    "csv_file_path = os.path.join(current_directory, '../../data/reformatted_data/class_section.csv')\n",
    "\n",
    "try:\n",
    "    import_class_data = f\"\"\"COPY rawdata.class_section (class_id, class_name) \n",
    "                           FROM '{csv_file_path}'\n",
    "                           DELIMITER ','\n",
    "                           CSV HEADER ENCODING 'UTF8';\"\"\"\n",
    "\n",
    "    cursor.execute(import_class_data)\n",
    "    conn.commit()\n",
    "    print(\"Data imported successfully!\")\n",
    "except (Exception, Error) as error:\n",
    "    print(\"Error while working with PostgreSQL:\", error)\n"
   ]
  },
  {
   "cell_type": "code",
   "execution_count": 7,
   "metadata": {},
   "outputs": [
    {
     "name": "stdout",
     "output_type": "stream",
     "text": [
      "PostgreSQL error code: 25P02\n",
      "Error message: current transaction is aborted, commands ignored until end of transaction block\n",
      "\n"
     ]
    }
   ],
   "source": [
    "csv_file_path = os.path.join(current_directory, '../../data/reformatted_data/subject.csv')\n",
    "try:\n",
    "    import_class_data = f\"\"\"COPY rawdata.subject\n",
    "                           FROM '{csv_file_path}'\n",
    "                           DELIMITER ','\n",
    "                           CSV HEADER ENCODING 'UTF8';\"\"\"\n",
    "\n",
    "    cursor.execute(import_class_data)\n",
    "    conn.commit()\n",
    "    print(\"Data imported successfully!\")\n",
    "except (Exception, Error) as error:\n",
    "    # In ra mã lỗi PostgreSQL (nếu có)\n",
    "    print(\"PostgreSQL error code:\", error.pgcode)\n",
    "    # In ra thông báo lỗi\n",
    "    print(\"Error message:\", error)"
   ]
  },
  {
   "cell_type": "code",
   "execution_count": 8,
   "metadata": {},
   "outputs": [
    {
     "name": "stdout",
     "output_type": "stream",
     "text": [
      "Error while working with PostgreSQL: current transaction is aborted, commands ignored until end of transaction block\n",
      "\n"
     ]
    }
   ],
   "source": [
    "csv_file_path = os.path.join(current_directory, '../../data/reformatted_data/student.csv')\n",
    "\n",
    "try:\n",
    "    import_class_data = f\"\"\"COPY rawdata.student\n",
    "                           FROM '{csv_file_path}'\n",
    "                           DELIMITER ','\n",
    "                           CSV HEADER ENCODING 'UTF8';\"\"\"\n",
    "\n",
    "    cursor.execute(import_class_data)\n",
    "    conn.commit()\n",
    "    print(\"Data imported successfully!\")\n",
    "except (Exception, Error) as error:\n",
    "    print(\"Error while working with PostgreSQL:\", error)\n"
   ]
  },
  {
   "cell_type": "code",
   "execution_count": 9,
   "metadata": {},
   "outputs": [
    {
     "name": "stdout",
     "output_type": "stream",
     "text": [
      "Error while working with PostgreSQL: current transaction is aborted, commands ignored until end of transaction block\n",
      "\n"
     ]
    }
   ],
   "source": [
    "csv_file_path = os.path.join(current_directory, '../../data/reformatted_data/course.csv')\n",
    "try:\n",
    "    import_class_data = f\"\"\"COPY rawdata.course\n",
    "                           FROM '{csv_file_path}'\n",
    "                           DELIMITER ','\n",
    "                           CSV HEADER ENCODING 'UTF8';\"\"\"\n",
    "\n",
    "    cursor.execute(import_class_data)\n",
    "    conn.commit()\n",
    "    print(\"Data imported successfully!\")\n",
    "except (Exception, Error) as error:\n",
    "    print(\"Error while working with PostgreSQL:\", error)\n"
   ]
  },
  {
   "cell_type": "code",
   "execution_count": 10,
   "metadata": {},
   "outputs": [
    {
     "name": "stdout",
     "output_type": "stream",
     "text": [
      "Error while working with PostgreSQL: current transaction is aborted, commands ignored until end of transaction block\n",
      "\n"
     ]
    }
   ],
   "source": [
    "csv_file_path = os.path.join(current_directory, '../../data/reformatted_data/course_student.csv')\n",
    "\n",
    "try:\n",
    "    import_class_data = f\"\"\"COPY rawdata.course_student\n",
    "                           FROM '{csv_file_path}'\n",
    "                           DELIMITER ','\n",
    "                           CSV HEADER ENCODING 'UTF8';\"\"\"\n",
    "\n",
    "    cursor.execute(import_class_data)\n",
    "    conn.commit()\n",
    "    print(\"Data imported successfully!\")\n",
    "except (Exception, Error) as error:\n",
    "    print(\"Error while working with PostgreSQL:\", error)\n"
   ]
  },
  {
   "cell_type": "code",
   "execution_count": 11,
   "metadata": {},
   "outputs": [
    {
     "name": "stdout",
     "output_type": "stream",
     "text": [
      "Error while working with PostgreSQL: current transaction is aborted, commands ignored until end of transaction block\n",
      "\n"
     ]
    }
   ],
   "source": [
    "csv_file_path = os.path.join(current_directory, '../../data/reformatted_data/subject_student.csv')\n",
    "\n",
    "try:\n",
    "    import_class_data = f\"\"\"COPY rawdata.subject_student\n",
    "                           FROM '{csv_file_path}'\n",
    "                           DELIMITER ','\n",
    "                           CSV HEADER ENCODING 'UTF8';\"\"\"\n",
    "\n",
    "    cursor.execute(import_class_data)\n",
    "    conn.commit()\n",
    "    print(\"Data imported successfully!\")\n",
    "except (Exception, Error) as error:\n",
    "    print(\"Error while working with PostgreSQL:\", error)\n"
   ]
  }
 ],
 "metadata": {
  "kernelspec": {
   "display_name": "Python 3",
   "language": "python",
   "name": "python3"
  },
  "language_info": {
   "codemirror_mode": {
    "name": "ipython",
    "version": 3
   },
   "file_extension": ".py",
   "mimetype": "text/x-python",
   "name": "python",
   "nbconvert_exporter": "python",
   "pygments_lexer": "ipython3",
   "version": "3.10.11"
  }
 },
 "nbformat": 4,
 "nbformat_minor": 2
}
