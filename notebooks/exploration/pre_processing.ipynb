{
 "cells": [
  {
   "cell_type": "code",
   "execution_count": 1,
   "metadata": {},
   "outputs": [],
   "source": [
    "import numpy as np\n",
    "import pandas as pd\n",
    "import os\n",
    "import matplotlib.pyplot as plt\n",
    "import seaborn as sns\n",
    "from sklearn.decomposition import PCA\n",
    "from sklearn.preprocessing import StandardScaler, LabelEncoder\n",
    "from sklearn.model_selection import train_test_split\n",
    "from imblearn.over_sampling import SMOTE\n"
   ]
  },
  {
   "cell_type": "code",
   "execution_count": 2,
   "metadata": {},
   "outputs": [],
   "source": [
    "# Lấy địa chỉ thư mục chứa dữ liệu đã được reformatted\n",
    "current_directory = os.getcwd()\n",
    "folder_path = os.path.join(current_directory,'../../data/reformatted_data')\n",
    "\n",
    "# Tạo df\n",
    "df = pd.read_csv(f'{folder_path}/non_pre_processed_data.csv')\n",
    "df.to_csv(f'{folder_path}/EDA.csv')\n",
    "df['ar3'] = df['ar3'].apply(lambda x: round(x,2))\n",
    " \n"
   ]
  },
  {
   "cell_type": "code",
   "execution_count": 3,
   "metadata": {},
   "outputs": [
    {
     "data": {
      "text/html": [
       "<div>\n",
       "<style scoped>\n",
       "    .dataframe tbody tr th:only-of-type {\n",
       "        vertical-align: middle;\n",
       "    }\n",
       "\n",
       "    .dataframe tbody tr th {\n",
       "        vertical-align: top;\n",
       "    }\n",
       "\n",
       "    .dataframe thead th {\n",
       "        text-align: right;\n",
       "    }\n",
       "</style>\n",
       "<table border=\"1\" class=\"dataframe\">\n",
       "  <thead>\n",
       "    <tr style=\"text-align: right;\">\n",
       "      <th></th>\n",
       "      <th>student_id</th>\n",
       "      <th>gender</th>\n",
       "      <th>age</th>\n",
       "      <th>gpa1</th>\n",
       "      <th>gpa2</th>\n",
       "      <th>gpa3</th>\n",
       "      <th>gpa4</th>\n",
       "      <th>ar1</th>\n",
       "      <th>ar2</th>\n",
       "      <th>ar3</th>\n",
       "      <th>drop_out</th>\n",
       "    </tr>\n",
       "  </thead>\n",
       "  <tbody>\n",
       "    <tr>\n",
       "      <th>0</th>\n",
       "      <td>1900006098</td>\n",
       "      <td>1</td>\n",
       "      <td>23</td>\n",
       "      <td>1.200000</td>\n",
       "      <td>2.200000</td>\n",
       "      <td>1.600000</td>\n",
       "      <td>0.400000</td>\n",
       "      <td>34.500000</td>\n",
       "      <td>12.000000</td>\n",
       "      <td>0.000000</td>\n",
       "      <td>1</td>\n",
       "    </tr>\n",
       "    <tr>\n",
       "      <th>1</th>\n",
       "      <td>1900007549</td>\n",
       "      <td>0</td>\n",
       "      <td>23</td>\n",
       "      <td>1.600000</td>\n",
       "      <td>1.100000</td>\n",
       "      <td>2.000000</td>\n",
       "      <td>3.800000</td>\n",
       "      <td>100.000000</td>\n",
       "      <td>48.000000</td>\n",
       "      <td>76.000000</td>\n",
       "      <td>1</td>\n",
       "    </tr>\n",
       "    <tr>\n",
       "      <th>2</th>\n",
       "      <td>1900007763</td>\n",
       "      <td>1</td>\n",
       "      <td>23</td>\n",
       "      <td>6.000000</td>\n",
       "      <td>7.300000</td>\n",
       "      <td>5.200000</td>\n",
       "      <td>7.400000</td>\n",
       "      <td>0.000000</td>\n",
       "      <td>0.700000</td>\n",
       "      <td>7.200000</td>\n",
       "      <td>0</td>\n",
       "    </tr>\n",
       "    <tr>\n",
       "      <th>3</th>\n",
       "      <td>1900007784</td>\n",
       "      <td>1</td>\n",
       "      <td>23</td>\n",
       "      <td>8.200000</td>\n",
       "      <td>7.600000</td>\n",
       "      <td>6.500000</td>\n",
       "      <td>6.600000</td>\n",
       "      <td>7.700000</td>\n",
       "      <td>2.200000</td>\n",
       "      <td>16.100000</td>\n",
       "      <td>0</td>\n",
       "    </tr>\n",
       "    <tr>\n",
       "      <th>4</th>\n",
       "      <td>1900008106</td>\n",
       "      <td>1</td>\n",
       "      <td>23</td>\n",
       "      <td>3.700000</td>\n",
       "      <td>7.600000</td>\n",
       "      <td>3.200000</td>\n",
       "      <td>7.200000</td>\n",
       "      <td>7.000000</td>\n",
       "      <td>0.000000</td>\n",
       "      <td>3.800000</td>\n",
       "      <td>0</td>\n",
       "    </tr>\n",
       "    <tr>\n",
       "      <th>...</th>\n",
       "      <td>...</td>\n",
       "      <td>...</td>\n",
       "      <td>...</td>\n",
       "      <td>...</td>\n",
       "      <td>...</td>\n",
       "      <td>...</td>\n",
       "      <td>...</td>\n",
       "      <td>...</td>\n",
       "      <td>...</td>\n",
       "      <td>...</td>\n",
       "      <td>...</td>\n",
       "    </tr>\n",
       "    <tr>\n",
       "      <th>627</th>\n",
       "      <td>2000001163</td>\n",
       "      <td>0</td>\n",
       "      <td>22</td>\n",
       "      <td>1.925845</td>\n",
       "      <td>0.400748</td>\n",
       "      <td>1.418726</td>\n",
       "      <td>1.763296</td>\n",
       "      <td>58.584203</td>\n",
       "      <td>48.220907</td>\n",
       "      <td>58.670354</td>\n",
       "      <td>1</td>\n",
       "    </tr>\n",
       "    <tr>\n",
       "      <th>628</th>\n",
       "      <td>2094368657</td>\n",
       "      <td>1</td>\n",
       "      <td>21</td>\n",
       "      <td>3.319598</td>\n",
       "      <td>0.377450</td>\n",
       "      <td>2.037987</td>\n",
       "      <td>1.584563</td>\n",
       "      <td>7.931526</td>\n",
       "      <td>6.685216</td>\n",
       "      <td>3.409387</td>\n",
       "      <td>1</td>\n",
       "    </tr>\n",
       "    <tr>\n",
       "      <th>629</th>\n",
       "      <td>2000002180</td>\n",
       "      <td>0</td>\n",
       "      <td>22</td>\n",
       "      <td>0.711139</td>\n",
       "      <td>1.145889</td>\n",
       "      <td>2.202916</td>\n",
       "      <td>1.548805</td>\n",
       "      <td>95.562894</td>\n",
       "      <td>85.400561</td>\n",
       "      <td>92.294448</td>\n",
       "      <td>1</td>\n",
       "    </tr>\n",
       "    <tr>\n",
       "      <th>630</th>\n",
       "      <td>2000004451</td>\n",
       "      <td>0</td>\n",
       "      <td>22</td>\n",
       "      <td>0.318710</td>\n",
       "      <td>0.224519</td>\n",
       "      <td>1.187099</td>\n",
       "      <td>2.700642</td>\n",
       "      <td>65.045257</td>\n",
       "      <td>65.612970</td>\n",
       "      <td>39.722731</td>\n",
       "      <td>1</td>\n",
       "    </tr>\n",
       "    <tr>\n",
       "      <th>631</th>\n",
       "      <td>2000004896</td>\n",
       "      <td>0</td>\n",
       "      <td>22</td>\n",
       "      <td>0.300028</td>\n",
       "      <td>0.000339</td>\n",
       "      <td>1.000282</td>\n",
       "      <td>2.999548</td>\n",
       "      <td>57.012140</td>\n",
       "      <td>60.008470</td>\n",
       "      <td>27.019198</td>\n",
       "      <td>1</td>\n",
       "    </tr>\n",
       "  </tbody>\n",
       "</table>\n",
       "<p>632 rows × 11 columns</p>\n",
       "</div>"
      ],
      "text/plain": [
       "     student_id  gender  age      gpa1      gpa2      gpa3      gpa4  \\\n",
       "0    1900006098       1   23  1.200000  2.200000  1.600000  0.400000   \n",
       "1    1900007549       0   23  1.600000  1.100000  2.000000  3.800000   \n",
       "2    1900007763       1   23  6.000000  7.300000  5.200000  7.400000   \n",
       "3    1900007784       1   23  8.200000  7.600000  6.500000  6.600000   \n",
       "4    1900008106       1   23  3.700000  7.600000  3.200000  7.200000   \n",
       "..          ...     ...  ...       ...       ...       ...       ...   \n",
       "627  2000001163       0   22  1.925845  0.400748  1.418726  1.763296   \n",
       "628  2094368657       1   21  3.319598  0.377450  2.037987  1.584563   \n",
       "629  2000002180       0   22  0.711139  1.145889  2.202916  1.548805   \n",
       "630  2000004451       0   22  0.318710  0.224519  1.187099  2.700642   \n",
       "631  2000004896       0   22  0.300028  0.000339  1.000282  2.999548   \n",
       "\n",
       "            ar1        ar2        ar3  drop_out  \n",
       "0     34.500000  12.000000   0.000000         1  \n",
       "1    100.000000  48.000000  76.000000         1  \n",
       "2      0.000000   0.700000   7.200000         0  \n",
       "3      7.700000   2.200000  16.100000         0  \n",
       "4      7.000000   0.000000   3.800000         0  \n",
       "..          ...        ...        ...       ...  \n",
       "627   58.584203  48.220907  58.670354         1  \n",
       "628    7.931526   6.685216   3.409387         1  \n",
       "629   95.562894  85.400561  92.294448         1  \n",
       "630   65.045257  65.612970  39.722731         1  \n",
       "631   57.012140  60.008470  27.019198         1  \n",
       "\n",
       "[632 rows x 11 columns]"
      ]
     },
     "execution_count": 3,
     "metadata": {},
     "output_type": "execute_result"
    }
   ],
   "source": [
    "X = df[df.columns[:-2]]\n",
    "y = df['drop_out']\n",
    "\n",
    "# Initialize SMOTE\n",
    "smote = SMOTE(random_state=42)\n",
    "# Apply oversampling\n",
    "X_resampled, y_resampled = smote.fit_resample(X, y)\n",
    "df = pd.concat([X_resampled, y_resampled],axis=1)\n",
    "df"
   ]
  },
  {
   "cell_type": "code",
   "execution_count": 4,
   "metadata": {},
   "outputs": [
    {
     "data": {
      "text/plain": [
       "Index(['student_id', 'gender', 'age', 'gpa1', 'gpa2', 'gpa3', 'gpa4', 'ar1',\n",
       "       'ar2', 'ar3', 'drop_out'],\n",
       "      dtype='object')"
      ]
     },
     "execution_count": 4,
     "metadata": {},
     "output_type": "execute_result"
    }
   ],
   "source": [
    "df.columns"
   ]
  },
  {
   "cell_type": "markdown",
   "metadata": {},
   "source": [
    "### Biến phân loại:\n",
    "+ 'student_id'\n",
    "+ 'gender'\n",
    "+ 'drop_out' (thôi học)\n",
    "### Biến số:\n",
    "+ 'age'\n",
    "+ 'gpa1', 'gpa2', 'gpa3', 'gpa4' (điểm trung bình học kỳ 1, 2, 3, 4)\n",
    "+ 'ar1', 'ar2', 'ar3', 'ar4' (tỉ lệ vắng học học kỳ 1, 2, 3, 4)\n"
   ]
  },
  {
   "cell_type": "markdown",
   "metadata": {},
   "source": [
    "# Kiểm tra dữ liệu thiếu"
   ]
  },
  {
   "cell_type": "code",
   "execution_count": 5,
   "metadata": {},
   "outputs": [
    {
     "data": {
      "text/plain": [
       "student_id    0\n",
       "gender        0\n",
       "age           0\n",
       "gpa1          0\n",
       "gpa2          0\n",
       "gpa3          0\n",
       "gpa4          0\n",
       "ar1           0\n",
       "ar2           0\n",
       "ar3           0\n",
       "drop_out      0\n",
       "dtype: int64"
      ]
     },
     "execution_count": 5,
     "metadata": {},
     "output_type": "execute_result"
    }
   ],
   "source": [
    "df.isnull().sum()"
   ]
  },
  {
   "cell_type": "code",
   "execution_count": 6,
   "metadata": {},
   "outputs": [
    {
     "name": "stdout",
     "output_type": "stream",
     "text": [
      "<class 'pandas.core.frame.DataFrame'>\n",
      "RangeIndex: 632 entries, 0 to 631\n",
      "Data columns (total 11 columns):\n",
      " #   Column      Non-Null Count  Dtype  \n",
      "---  ------      --------------  -----  \n",
      " 0   student_id  632 non-null    int64  \n",
      " 1   gender      632 non-null    int64  \n",
      " 2   age         632 non-null    int64  \n",
      " 3   gpa1        632 non-null    float64\n",
      " 4   gpa2        632 non-null    float64\n",
      " 5   gpa3        632 non-null    float64\n",
      " 6   gpa4        632 non-null    float64\n",
      " 7   ar1         632 non-null    float64\n",
      " 8   ar2         632 non-null    float64\n",
      " 9   ar3         632 non-null    float64\n",
      " 10  drop_out    632 non-null    int64  \n",
      "dtypes: float64(7), int64(4)\n",
      "memory usage: 54.4 KB\n"
     ]
    }
   ],
   "source": [
    "df.info()"
   ]
  },
  {
   "cell_type": "markdown",
   "metadata": {},
   "source": [
    "## Kiểm tra dữ liệu trùng"
   ]
  },
  {
   "cell_type": "code",
   "execution_count": 7,
   "metadata": {},
   "outputs": [
    {
     "name": "stdout",
     "output_type": "stream",
     "text": [
      "Không có student_id bị trùng\n"
     ]
    }
   ],
   "source": [
    "duplicated_id_pairs = df.duplicated(subset=['student_id'], keep=False)\n",
    "duplicated_id_pairs[duplicated_id_pairs==True]\n",
    "if duplicated_id_pairs.all():\n",
    "    print('Có cặp id bị trùng')\n",
    "else:\n",
    "    print('Không có student_id bị trùng')"
   ]
  },
  {
   "cell_type": "markdown",
   "metadata": {},
   "source": [
    "## Thống kê mô tả"
   ]
  },
  {
   "cell_type": "code",
   "execution_count": 8,
   "metadata": {},
   "outputs": [
    {
     "data": {
      "text/html": [
       "<div>\n",
       "<style scoped>\n",
       "    .dataframe tbody tr th:only-of-type {\n",
       "        vertical-align: middle;\n",
       "    }\n",
       "\n",
       "    .dataframe tbody tr th {\n",
       "        vertical-align: top;\n",
       "    }\n",
       "\n",
       "    .dataframe thead th {\n",
       "        text-align: right;\n",
       "    }\n",
       "</style>\n",
       "<table border=\"1\" class=\"dataframe\">\n",
       "  <thead>\n",
       "    <tr style=\"text-align: right;\">\n",
       "      <th></th>\n",
       "      <th>age</th>\n",
       "      <th>gpa1</th>\n",
       "      <th>gpa2</th>\n",
       "      <th>gpa3</th>\n",
       "      <th>gpa4</th>\n",
       "      <th>ar1</th>\n",
       "      <th>ar2</th>\n",
       "      <th>ar3</th>\n",
       "    </tr>\n",
       "  </thead>\n",
       "  <tbody>\n",
       "    <tr>\n",
       "      <th>count</th>\n",
       "      <td>632.000000</td>\n",
       "      <td>632.000000</td>\n",
       "      <td>632.000000</td>\n",
       "      <td>632.000000</td>\n",
       "      <td>632.000000</td>\n",
       "      <td>632.000000</td>\n",
       "      <td>632.000000</td>\n",
       "      <td>632.000000</td>\n",
       "    </tr>\n",
       "    <tr>\n",
       "      <th>mean</th>\n",
       "      <td>21.351266</td>\n",
       "      <td>4.121229</td>\n",
       "      <td>4.200144</td>\n",
       "      <td>4.252965</td>\n",
       "      <td>4.508206</td>\n",
       "      <td>34.490332</td>\n",
       "      <td>26.377727</td>\n",
       "      <td>27.966471</td>\n",
       "    </tr>\n",
       "    <tr>\n",
       "      <th>std</th>\n",
       "      <td>1.128804</td>\n",
       "      <td>2.943653</td>\n",
       "      <td>3.390845</td>\n",
       "      <td>2.780336</td>\n",
       "      <td>2.748190</td>\n",
       "      <td>31.319480</td>\n",
       "      <td>26.183082</td>\n",
       "      <td>28.171061</td>\n",
       "    </tr>\n",
       "    <tr>\n",
       "      <th>min</th>\n",
       "      <td>20.000000</td>\n",
       "      <td>0.300000</td>\n",
       "      <td>0.000000</td>\n",
       "      <td>0.400000</td>\n",
       "      <td>0.400000</td>\n",
       "      <td>0.000000</td>\n",
       "      <td>0.000000</td>\n",
       "      <td>0.000000</td>\n",
       "    </tr>\n",
       "    <tr>\n",
       "      <th>25%</th>\n",
       "      <td>20.000000</td>\n",
       "      <td>1.599695</td>\n",
       "      <td>1.001647</td>\n",
       "      <td>1.696146</td>\n",
       "      <td>2.029529</td>\n",
       "      <td>8.350000</td>\n",
       "      <td>1.700000</td>\n",
       "      <td>4.975000</td>\n",
       "    </tr>\n",
       "    <tr>\n",
       "      <th>50%</th>\n",
       "      <td>21.000000</td>\n",
       "      <td>3.278017</td>\n",
       "      <td>3.002824</td>\n",
       "      <td>3.273719</td>\n",
       "      <td>3.400000</td>\n",
       "      <td>18.950000</td>\n",
       "      <td>17.250000</td>\n",
       "      <td>15.535000</td>\n",
       "    </tr>\n",
       "    <tr>\n",
       "      <th>75%</th>\n",
       "      <td>22.000000</td>\n",
       "      <td>6.700000</td>\n",
       "      <td>7.600000</td>\n",
       "      <td>6.900000</td>\n",
       "      <td>7.000000</td>\n",
       "      <td>58.035517</td>\n",
       "      <td>48.922693</td>\n",
       "      <td>48.984766</td>\n",
       "    </tr>\n",
       "    <tr>\n",
       "      <th>max</th>\n",
       "      <td>26.000000</td>\n",
       "      <td>10.000000</td>\n",
       "      <td>10.000000</td>\n",
       "      <td>9.900000</td>\n",
       "      <td>10.000000</td>\n",
       "      <td>100.000000</td>\n",
       "      <td>90.000000</td>\n",
       "      <td>95.000000</td>\n",
       "    </tr>\n",
       "  </tbody>\n",
       "</table>\n",
       "</div>"
      ],
      "text/plain": [
       "              age        gpa1        gpa2        gpa3        gpa4         ar1  \\\n",
       "count  632.000000  632.000000  632.000000  632.000000  632.000000  632.000000   \n",
       "mean    21.351266    4.121229    4.200144    4.252965    4.508206   34.490332   \n",
       "std      1.128804    2.943653    3.390845    2.780336    2.748190   31.319480   \n",
       "min     20.000000    0.300000    0.000000    0.400000    0.400000    0.000000   \n",
       "25%     20.000000    1.599695    1.001647    1.696146    2.029529    8.350000   \n",
       "50%     21.000000    3.278017    3.002824    3.273719    3.400000   18.950000   \n",
       "75%     22.000000    6.700000    7.600000    6.900000    7.000000   58.035517   \n",
       "max     26.000000   10.000000   10.000000    9.900000   10.000000  100.000000   \n",
       "\n",
       "              ar2         ar3  \n",
       "count  632.000000  632.000000  \n",
       "mean    26.377727   27.966471  \n",
       "std     26.183082   28.171061  \n",
       "min      0.000000    0.000000  \n",
       "25%      1.700000    4.975000  \n",
       "50%     17.250000   15.535000  \n",
       "75%     48.922693   48.984766  \n",
       "max     90.000000   95.000000  "
      ]
     },
     "execution_count": 8,
     "metadata": {},
     "output_type": "execute_result"
    }
   ],
   "source": [
    "df.iloc[:,2:-1].describe()"
   ]
  },
  {
   "cell_type": "markdown",
   "metadata": {},
   "source": [
    "## Chuyển đổi kiểu dữ liệu"
   ]
  },
  {
   "cell_type": "code",
   "execution_count": 9,
   "metadata": {},
   "outputs": [
    {
     "data": {
      "text/plain": [
       "student_id      int64\n",
       "gender          int64\n",
       "age             int64\n",
       "gpa1          float64\n",
       "gpa2          float64\n",
       "gpa3          float64\n",
       "gpa4          float64\n",
       "ar1           float64\n",
       "ar2           float64\n",
       "ar3           float64\n",
       "drop_out        int64\n",
       "dtype: object"
      ]
     },
     "execution_count": 9,
     "metadata": {},
     "output_type": "execute_result"
    }
   ],
   "source": [
    "df.dtypes"
   ]
  },
  {
   "cell_type": "code",
   "execution_count": 10,
   "metadata": {},
   "outputs": [
    {
     "data": {
      "text/plain": [
       "student_id     object\n",
       "gender          int64\n",
       "age             int64\n",
       "gpa1          float64\n",
       "gpa2          float64\n",
       "gpa3          float64\n",
       "gpa4          float64\n",
       "ar1           float64\n",
       "ar2           float64\n",
       "ar3           float64\n",
       "drop_out        int64\n",
       "dtype: object"
      ]
     },
     "execution_count": 10,
     "metadata": {},
     "output_type": "execute_result"
    }
   ],
   "source": [
    "df['student_id'] = df['student_id'].astype(str)\n",
    "df.dtypes"
   ]
  },
  {
   "cell_type": "markdown",
   "metadata": {},
   "source": [
    "## Kiếm tra biến phân loại student_id"
   ]
  },
  {
   "cell_type": "code",
   "execution_count": 11,
   "metadata": {},
   "outputs": [
    {
     "data": {
      "text/plain": [
       "Series([], Name: student_id, dtype: bool)"
      ]
     },
     "execution_count": 11,
     "metadata": {},
     "output_type": "execute_result"
    }
   ],
   "source": [
    "df['student_id'] = df['student_id'].astype(str)\n",
    "check = df['student_id'].str.isalpha()\n",
    "check[check]"
   ]
  },
  {
   "cell_type": "markdown",
   "metadata": {},
   "source": [
    "## Kiếm tra biến phân loại gender"
   ]
  },
  {
   "cell_type": "code",
   "execution_count": 12,
   "metadata": {},
   "outputs": [
    {
     "data": {
      "text/plain": [
       "Series([], Name: gender, dtype: bool)"
      ]
     },
     "execution_count": 12,
     "metadata": {},
     "output_type": "execute_result"
    }
   ],
   "source": [
    "check = df['gender'].astype(str).str.isalpha()\n",
    "check[check]"
   ]
  },
  {
   "cell_type": "code",
   "execution_count": 13,
   "metadata": {},
   "outputs": [
    {
     "data": {
      "text/plain": [
       "array([1, 0], dtype=int64)"
      ]
     },
     "execution_count": 13,
     "metadata": {},
     "output_type": "execute_result"
    }
   ],
   "source": [
    "df['gender'].unique()"
   ]
  },
  {
   "cell_type": "markdown",
   "metadata": {},
   "source": [
    "## Kiêm tra biến phân loại age"
   ]
  },
  {
   "cell_type": "code",
   "execution_count": 14,
   "metadata": {},
   "outputs": [
    {
     "name": "stdout",
     "output_type": "stream",
     "text": [
      "int64\n",
      "Kiểu dữ liệu sau khi chuyển đổi:  int8\n"
     ]
    },
    {
     "data": {
      "text/plain": [
       "Series([], Name: age, dtype: bool)"
      ]
     },
     "execution_count": 14,
     "metadata": {},
     "output_type": "execute_result"
    }
   ],
   "source": [
    "check = df['age'].astype(str).str.isalpha()\n",
    "print(df['age'].dtype)\n",
    "df['age'] = df['age'].astype('int8')\n",
    "print(\"Kiểu dữ liệu sau khi chuyển đổi: \",df['age'].dtype)\n",
    "check[check]"
   ]
  },
  {
   "cell_type": "code",
   "execution_count": 15,
   "metadata": {},
   "outputs": [
    {
     "data": {
      "text/plain": [
       "array([1, 0], dtype=int64)"
      ]
     },
     "execution_count": 15,
     "metadata": {},
     "output_type": "execute_result"
    }
   ],
   "source": [
    "df['drop_out'].unique()"
   ]
  },
  {
   "cell_type": "markdown",
   "metadata": {},
   "source": [
    "## Mã hóa biến phân loại student_id bằng phương pháp LabelEncoder\n",
    "\n",
    "Phương pháp label encoder\n",
    "+ Chuyển đổi các biến phân loại thành các số nguyên duy nhất.\n",
    "+ Label Encoder thích hợp cho các biến phân loại không có mối quan hệ thứ bậc giữa các giá trị, nghĩa là không có thứ tự hoặc mức độ quan trọng giữa các giá trị"
   ]
  },
  {
   "cell_type": "code",
   "execution_count": 16,
   "metadata": {},
   "outputs": [],
   "source": [
    "le = LabelEncoder()\n",
    "df['student_id_'] = le.fit_transform(df['student_id'])"
   ]
  },
  {
   "cell_type": "code",
   "execution_count": 17,
   "metadata": {},
   "outputs": [
    {
     "data": {
      "text/html": [
       "<div>\n",
       "<style scoped>\n",
       "    .dataframe tbody tr th:only-of-type {\n",
       "        vertical-align: middle;\n",
       "    }\n",
       "\n",
       "    .dataframe tbody tr th {\n",
       "        vertical-align: top;\n",
       "    }\n",
       "\n",
       "    .dataframe thead th {\n",
       "        text-align: right;\n",
       "    }\n",
       "</style>\n",
       "<table border=\"1\" class=\"dataframe\">\n",
       "  <thead>\n",
       "    <tr style=\"text-align: right;\">\n",
       "      <th></th>\n",
       "      <th>student_id</th>\n",
       "      <th>gender</th>\n",
       "      <th>age</th>\n",
       "      <th>gpa1</th>\n",
       "      <th>gpa2</th>\n",
       "      <th>gpa3</th>\n",
       "      <th>gpa4</th>\n",
       "      <th>ar1</th>\n",
       "      <th>ar2</th>\n",
       "      <th>ar3</th>\n",
       "      <th>drop_out</th>\n",
       "      <th>student_id_</th>\n",
       "    </tr>\n",
       "  </thead>\n",
       "  <tbody>\n",
       "    <tr>\n",
       "      <th>0</th>\n",
       "      <td>1900006098</td>\n",
       "      <td>1</td>\n",
       "      <td>23</td>\n",
       "      <td>1.200000</td>\n",
       "      <td>2.200000</td>\n",
       "      <td>1.600000</td>\n",
       "      <td>0.400000</td>\n",
       "      <td>34.500000</td>\n",
       "      <td>12.000000</td>\n",
       "      <td>0.000000</td>\n",
       "      <td>1</td>\n",
       "      <td>0</td>\n",
       "    </tr>\n",
       "    <tr>\n",
       "      <th>1</th>\n",
       "      <td>1900007549</td>\n",
       "      <td>0</td>\n",
       "      <td>23</td>\n",
       "      <td>1.600000</td>\n",
       "      <td>1.100000</td>\n",
       "      <td>2.000000</td>\n",
       "      <td>3.800000</td>\n",
       "      <td>100.000000</td>\n",
       "      <td>48.000000</td>\n",
       "      <td>76.000000</td>\n",
       "      <td>1</td>\n",
       "      <td>15</td>\n",
       "    </tr>\n",
       "    <tr>\n",
       "      <th>2</th>\n",
       "      <td>1900007763</td>\n",
       "      <td>1</td>\n",
       "      <td>23</td>\n",
       "      <td>6.000000</td>\n",
       "      <td>7.300000</td>\n",
       "      <td>5.200000</td>\n",
       "      <td>7.400000</td>\n",
       "      <td>0.000000</td>\n",
       "      <td>0.700000</td>\n",
       "      <td>7.200000</td>\n",
       "      <td>0</td>\n",
       "      <td>16</td>\n",
       "    </tr>\n",
       "    <tr>\n",
       "      <th>3</th>\n",
       "      <td>1900007784</td>\n",
       "      <td>1</td>\n",
       "      <td>23</td>\n",
       "      <td>8.200000</td>\n",
       "      <td>7.600000</td>\n",
       "      <td>6.500000</td>\n",
       "      <td>6.600000</td>\n",
       "      <td>7.700000</td>\n",
       "      <td>2.200000</td>\n",
       "      <td>16.100000</td>\n",
       "      <td>0</td>\n",
       "      <td>17</td>\n",
       "    </tr>\n",
       "    <tr>\n",
       "      <th>4</th>\n",
       "      <td>1900008106</td>\n",
       "      <td>1</td>\n",
       "      <td>23</td>\n",
       "      <td>3.700000</td>\n",
       "      <td>7.600000</td>\n",
       "      <td>3.200000</td>\n",
       "      <td>7.200000</td>\n",
       "      <td>7.000000</td>\n",
       "      <td>0.000000</td>\n",
       "      <td>3.800000</td>\n",
       "      <td>0</td>\n",
       "      <td>18</td>\n",
       "    </tr>\n",
       "    <tr>\n",
       "      <th>...</th>\n",
       "      <td>...</td>\n",
       "      <td>...</td>\n",
       "      <td>...</td>\n",
       "      <td>...</td>\n",
       "      <td>...</td>\n",
       "      <td>...</td>\n",
       "      <td>...</td>\n",
       "      <td>...</td>\n",
       "      <td>...</td>\n",
       "      <td>...</td>\n",
       "      <td>...</td>\n",
       "      <td>...</td>\n",
       "    </tr>\n",
       "    <tr>\n",
       "      <th>627</th>\n",
       "      <td>2000001163</td>\n",
       "      <td>0</td>\n",
       "      <td>22</td>\n",
       "      <td>1.925845</td>\n",
       "      <td>0.400748</td>\n",
       "      <td>1.418726</td>\n",
       "      <td>1.763296</td>\n",
       "      <td>58.584203</td>\n",
       "      <td>48.220907</td>\n",
       "      <td>58.670354</td>\n",
       "      <td>1</td>\n",
       "      <td>177</td>\n",
       "    </tr>\n",
       "    <tr>\n",
       "      <th>628</th>\n",
       "      <td>2094368657</td>\n",
       "      <td>1</td>\n",
       "      <td>21</td>\n",
       "      <td>3.319598</td>\n",
       "      <td>0.377450</td>\n",
       "      <td>2.037987</td>\n",
       "      <td>1.584563</td>\n",
       "      <td>7.931526</td>\n",
       "      <td>6.685216</td>\n",
       "      <td>3.409387</td>\n",
       "      <td>1</td>\n",
       "      <td>329</td>\n",
       "    </tr>\n",
       "    <tr>\n",
       "      <th>629</th>\n",
       "      <td>2000002180</td>\n",
       "      <td>0</td>\n",
       "      <td>22</td>\n",
       "      <td>0.711139</td>\n",
       "      <td>1.145889</td>\n",
       "      <td>2.202916</td>\n",
       "      <td>1.548805</td>\n",
       "      <td>95.562894</td>\n",
       "      <td>85.400561</td>\n",
       "      <td>92.294448</td>\n",
       "      <td>1</td>\n",
       "      <td>194</td>\n",
       "    </tr>\n",
       "    <tr>\n",
       "      <th>630</th>\n",
       "      <td>2000004451</td>\n",
       "      <td>0</td>\n",
       "      <td>22</td>\n",
       "      <td>0.318710</td>\n",
       "      <td>0.224519</td>\n",
       "      <td>1.187099</td>\n",
       "      <td>2.700642</td>\n",
       "      <td>65.045257</td>\n",
       "      <td>65.612970</td>\n",
       "      <td>39.722731</td>\n",
       "      <td>1</td>\n",
       "      <td>251</td>\n",
       "    </tr>\n",
       "    <tr>\n",
       "      <th>631</th>\n",
       "      <td>2000004896</td>\n",
       "      <td>0</td>\n",
       "      <td>22</td>\n",
       "      <td>0.300028</td>\n",
       "      <td>0.000339</td>\n",
       "      <td>1.000282</td>\n",
       "      <td>2.999548</td>\n",
       "      <td>57.012140</td>\n",
       "      <td>60.008470</td>\n",
       "      <td>27.019198</td>\n",
       "      <td>1</td>\n",
       "      <td>266</td>\n",
       "    </tr>\n",
       "  </tbody>\n",
       "</table>\n",
       "<p>632 rows × 12 columns</p>\n",
       "</div>"
      ],
      "text/plain": [
       "     student_id  gender  age      gpa1      gpa2      gpa3      gpa4  \\\n",
       "0    1900006098       1   23  1.200000  2.200000  1.600000  0.400000   \n",
       "1    1900007549       0   23  1.600000  1.100000  2.000000  3.800000   \n",
       "2    1900007763       1   23  6.000000  7.300000  5.200000  7.400000   \n",
       "3    1900007784       1   23  8.200000  7.600000  6.500000  6.600000   \n",
       "4    1900008106       1   23  3.700000  7.600000  3.200000  7.200000   \n",
       "..          ...     ...  ...       ...       ...       ...       ...   \n",
       "627  2000001163       0   22  1.925845  0.400748  1.418726  1.763296   \n",
       "628  2094368657       1   21  3.319598  0.377450  2.037987  1.584563   \n",
       "629  2000002180       0   22  0.711139  1.145889  2.202916  1.548805   \n",
       "630  2000004451       0   22  0.318710  0.224519  1.187099  2.700642   \n",
       "631  2000004896       0   22  0.300028  0.000339  1.000282  2.999548   \n",
       "\n",
       "            ar1        ar2        ar3  drop_out  student_id_  \n",
       "0     34.500000  12.000000   0.000000         1            0  \n",
       "1    100.000000  48.000000  76.000000         1           15  \n",
       "2      0.000000   0.700000   7.200000         0           16  \n",
       "3      7.700000   2.200000  16.100000         0           17  \n",
       "4      7.000000   0.000000   3.800000         0           18  \n",
       "..          ...        ...        ...       ...          ...  \n",
       "627   58.584203  48.220907  58.670354         1          177  \n",
       "628    7.931526   6.685216   3.409387         1          329  \n",
       "629   95.562894  85.400561  92.294448         1          194  \n",
       "630   65.045257  65.612970  39.722731         1          251  \n",
       "631   57.012140  60.008470  27.019198         1          266  \n",
       "\n",
       "[632 rows x 12 columns]"
      ]
     },
     "execution_count": 17,
     "metadata": {},
     "output_type": "execute_result"
    }
   ],
   "source": [
    "df  "
   ]
  },
  {
   "cell_type": "markdown",
   "metadata": {},
   "source": [
    "## Chuẩn hóa dữ liệu (z score)\n",
    "\n",
    "Mục tiêu: Đưa các biến về cùng 1 thang đo\n",
    "\n",
    "Giữ cho phân phối của chúng có trung bình xấp xỉ 0 và độ lệch chuẩn xấp xỉ 1, (giảm biến động của dữ liệu   )"
   ]
  },
  {
   "cell_type": "code",
   "execution_count": 18,
   "metadata": {},
   "outputs": [
    {
     "data": {
      "text/html": [
       "<div>\n",
       "<style scoped>\n",
       "    .dataframe tbody tr th:only-of-type {\n",
       "        vertical-align: middle;\n",
       "    }\n",
       "\n",
       "    .dataframe tbody tr th {\n",
       "        vertical-align: top;\n",
       "    }\n",
       "\n",
       "    .dataframe thead th {\n",
       "        text-align: right;\n",
       "    }\n",
       "</style>\n",
       "<table border=\"1\" class=\"dataframe\">\n",
       "  <thead>\n",
       "    <tr style=\"text-align: right;\">\n",
       "      <th></th>\n",
       "      <th>gpa1</th>\n",
       "      <th>gpa2</th>\n",
       "      <th>gpa3</th>\n",
       "      <th>gpa4</th>\n",
       "      <th>ar1</th>\n",
       "      <th>ar2</th>\n",
       "      <th>ar3</th>\n",
       "      <th>drop_out</th>\n",
       "      <th>student_id_</th>\n",
       "    </tr>\n",
       "  </thead>\n",
       "  <tbody>\n",
       "    <tr>\n",
       "      <th>0</th>\n",
       "      <td>-0.993169</td>\n",
       "      <td>-0.590333</td>\n",
       "      <td>-0.954944</td>\n",
       "      <td>-1.496061</td>\n",
       "      <td>0.000309</td>\n",
       "      <td>-0.549558</td>\n",
       "      <td>-0.993524</td>\n",
       "      <td>1.0</td>\n",
       "      <td>-1.730887</td>\n",
       "    </tr>\n",
       "    <tr>\n",
       "      <th>1</th>\n",
       "      <td>-0.857175</td>\n",
       "      <td>-0.914993</td>\n",
       "      <td>-0.810963</td>\n",
       "      <td>-0.257903</td>\n",
       "      <td>2.093316</td>\n",
       "      <td>0.826465</td>\n",
       "      <td>1.706417</td>\n",
       "      <td>1.0</td>\n",
       "      <td>-1.648540</td>\n",
       "    </tr>\n",
       "    <tr>\n",
       "      <th>2</th>\n",
       "      <td>0.638750</td>\n",
       "      <td>0.914908</td>\n",
       "      <td>0.340889</td>\n",
       "      <td>1.053088</td>\n",
       "      <td>-1.102114</td>\n",
       "      <td>-0.981476</td>\n",
       "      <td>-0.737740</td>\n",
       "      <td>-1.0</td>\n",
       "      <td>-1.643050</td>\n",
       "    </tr>\n",
       "    <tr>\n",
       "      <th>3</th>\n",
       "      <td>1.386713</td>\n",
       "      <td>1.003452</td>\n",
       "      <td>0.808829</td>\n",
       "      <td>0.761756</td>\n",
       "      <td>-0.856066</td>\n",
       "      <td>-0.924142</td>\n",
       "      <td>-0.421563</td>\n",
       "      <td>-1.0</td>\n",
       "      <td>-1.637560</td>\n",
       "    </tr>\n",
       "    <tr>\n",
       "      <th>4</th>\n",
       "      <td>-0.143211</td>\n",
       "      <td>1.003452</td>\n",
       "      <td>-0.379019</td>\n",
       "      <td>0.980255</td>\n",
       "      <td>-0.878434</td>\n",
       "      <td>-1.008232</td>\n",
       "      <td>-0.858527</td>\n",
       "      <td>-1.0</td>\n",
       "      <td>-1.632070</td>\n",
       "    </tr>\n",
       "    <tr>\n",
       "      <th>...</th>\n",
       "      <td>...</td>\n",
       "      <td>...</td>\n",
       "      <td>...</td>\n",
       "      <td>...</td>\n",
       "      <td>...</td>\n",
       "      <td>...</td>\n",
       "      <td>...</td>\n",
       "      <td>...</td>\n",
       "      <td>...</td>\n",
       "    </tr>\n",
       "    <tr>\n",
       "      <th>627</th>\n",
       "      <td>-0.746394</td>\n",
       "      <td>-1.121374</td>\n",
       "      <td>-1.020195</td>\n",
       "      <td>-0.999598</td>\n",
       "      <td>0.769903</td>\n",
       "      <td>0.834909</td>\n",
       "      <td>1.090772</td>\n",
       "      <td>1.0</td>\n",
       "      <td>-0.759187</td>\n",
       "    </tr>\n",
       "    <tr>\n",
       "      <th>628</th>\n",
       "      <td>-0.272541</td>\n",
       "      <td>-1.128251</td>\n",
       "      <td>-0.797289</td>\n",
       "      <td>-1.064686</td>\n",
       "      <td>-0.848668</td>\n",
       "      <td>-0.752704</td>\n",
       "      <td>-0.872404</td>\n",
       "      <td>1.0</td>\n",
       "      <td>0.075268</td>\n",
       "    </tr>\n",
       "    <tr>\n",
       "      <th>629</th>\n",
       "      <td>-1.159373</td>\n",
       "      <td>-0.901449</td>\n",
       "      <td>-0.737922</td>\n",
       "      <td>-1.077708</td>\n",
       "      <td>1.951531</td>\n",
       "      <td>2.256021</td>\n",
       "      <td>2.285286</td>\n",
       "      <td>1.0</td>\n",
       "      <td>-0.665859</td>\n",
       "    </tr>\n",
       "    <tr>\n",
       "      <th>630</th>\n",
       "      <td>-1.292792</td>\n",
       "      <td>-1.173387</td>\n",
       "      <td>-1.103570</td>\n",
       "      <td>-0.658250</td>\n",
       "      <td>0.976361</td>\n",
       "      <td>1.499683</td>\n",
       "      <td>0.417647</td>\n",
       "      <td>1.0</td>\n",
       "      <td>-0.352939</td>\n",
       "    </tr>\n",
       "    <tr>\n",
       "      <th>631</th>\n",
       "      <td>-1.299144</td>\n",
       "      <td>-1.239553</td>\n",
       "      <td>-1.170815</td>\n",
       "      <td>-0.549399</td>\n",
       "      <td>0.719669</td>\n",
       "      <td>1.285463</td>\n",
       "      <td>-0.033652</td>\n",
       "      <td>1.0</td>\n",
       "      <td>-0.270591</td>\n",
       "    </tr>\n",
       "  </tbody>\n",
       "</table>\n",
       "<p>632 rows × 9 columns</p>\n",
       "</div>"
      ],
      "text/plain": [
       "         gpa1      gpa2      gpa3      gpa4       ar1       ar2       ar3  \\\n",
       "0   -0.993169 -0.590333 -0.954944 -1.496061  0.000309 -0.549558 -0.993524   \n",
       "1   -0.857175 -0.914993 -0.810963 -0.257903  2.093316  0.826465  1.706417   \n",
       "2    0.638750  0.914908  0.340889  1.053088 -1.102114 -0.981476 -0.737740   \n",
       "3    1.386713  1.003452  0.808829  0.761756 -0.856066 -0.924142 -0.421563   \n",
       "4   -0.143211  1.003452 -0.379019  0.980255 -0.878434 -1.008232 -0.858527   \n",
       "..        ...       ...       ...       ...       ...       ...       ...   \n",
       "627 -0.746394 -1.121374 -1.020195 -0.999598  0.769903  0.834909  1.090772   \n",
       "628 -0.272541 -1.128251 -0.797289 -1.064686 -0.848668 -0.752704 -0.872404   \n",
       "629 -1.159373 -0.901449 -0.737922 -1.077708  1.951531  2.256021  2.285286   \n",
       "630 -1.292792 -1.173387 -1.103570 -0.658250  0.976361  1.499683  0.417647   \n",
       "631 -1.299144 -1.239553 -1.170815 -0.549399  0.719669  1.285463 -0.033652   \n",
       "\n",
       "     drop_out  student_id_  \n",
       "0         1.0    -1.730887  \n",
       "1         1.0    -1.648540  \n",
       "2        -1.0    -1.643050  \n",
       "3        -1.0    -1.637560  \n",
       "4        -1.0    -1.632070  \n",
       "..        ...          ...  \n",
       "627       1.0    -0.759187  \n",
       "628       1.0     0.075268  \n",
       "629       1.0    -0.665859  \n",
       "630       1.0    -0.352939  \n",
       "631       1.0    -0.270591  \n",
       "\n",
       "[632 rows x 9 columns]"
      ]
     },
     "execution_count": 18,
     "metadata": {},
     "output_type": "execute_result"
    }
   ],
   "source": [
    "# Chuyển đổi các biến về cùng 1 thang đo bằng z score\n",
    "features = df.iloc[:, 1:].columns\n",
    "scaler = StandardScaler()\n",
    "df[features] = scaler.fit_transform(df[features])\n",
    "data = df.iloc[:, 3:]\n",
    "data"
   ]
  },
  {
   "cell_type": "markdown",
   "metadata": {},
   "source": [
    "## Giảm chiều dữ liệu. (PCA)"
   ]
  },
  {
   "cell_type": "code",
   "execution_count": 19,
   "metadata": {},
   "outputs": [
    {
     "name": "stdout",
     "output_type": "stream",
     "text": [
      "9\n",
      "Các features: gpa1, gpa2, gpa3, gpa4, ar1, ar2, ar3\n"
     ]
    }
   ],
   "source": [
    "## Danh sách các features\n",
    "nb_features = data.shape[1]\n",
    "features = data.columns[:-2]\n",
    "print(nb_features)\n",
    "print('Các features:', ', '.join(features))"
   ]
  },
  {
   "cell_type": "code",
   "execution_count": 20,
   "metadata": {},
   "outputs": [
    {
     "name": "stdout",
     "output_type": "stream",
     "text": [
      "[6.7067102  0.77426743 0.6537449  0.2581366  0.22316603 0.19436485\n",
      " 0.10285197 0.06628765 0.03473346]\n"
     ]
    }
   ],
   "source": [
    "pca = PCA().fit(data)  \n",
    "## Phương sai trên từng chiều (phương sai đo lường mức độ phân tán của các điểm dữ liệu quanh giá trị trung bình)\n",
    "print(pca.explained_variance_.flatten())"
   ]
  },
  {
   "cell_type": "markdown",
   "metadata": {},
   "source": [
    "## Chọn k\n",
    "k là eig vectors có eig values lớn nhất."
   ]
  },
  {
   "cell_type": "code",
   "execution_count": 21,
   "metadata": {},
   "outputs": [
    {
     "data": {
      "image/png": "[encoded data removed]",
      "text/plain": [
       "<Figure size 700x500 with 1 Axes>"
      ]
     },
     "metadata": {},
     "output_type": "display_data"
    }
   ],
   "source": [
    "# Các điểm dữ liệu\n",
    "points = np.cumsum(pca.explained_variance_ratio_) * 100\n",
    "points = np.insert(points, 0, 0) # Thêm điểm k = 0, variance = 0\n",
    "x_i = np.arange(0, nb_features + 1)\n",
    "y_i = (points[-nb_features-1:])//0.01/100  # Corrected calculation of y_i\n",
    "\n",
    "plt.figure(figsize = (7, 5))\n",
    "plt.plot(points, marker = 'o')\n",
    "plt.xlabel('Số features (k)')\n",
    "plt.ylabel('Variance (%)')  \n",
    "plt.title('Đồ thị biểu diễn % phương sai tích lũy theo số features (k)')\n",
    "plt.xlim([0, nb_features + 1])\n",
    "plt.grid(axis = 'x')\n",
    "for i in x_i:\n",
    "    plt.text(i, y_i[i] + 1, round(y_i[i], 1), ha = 'center', va = 'baseline')\n",
    "    # tung độ của text cao hơn point 1 đơn vị\n",
    "\n",
    "plt.show()\n"
   ]
  },
  {
   "cell_type": "code",
   "execution_count": 22,
   "metadata": {},
   "outputs": [
    {
     "name": "stdout",
     "output_type": "stream",
     "text": [
      "   * k =  1 : phương sai tích lũy ~ 74.4% --> tăng ~ 74.4%\n",
      "   * k =  2 : phương sai tích lũy ~ 83.0% --> tăng ~ 8.6%\n",
      "   * k =  3 : phương sai tích lũy ~ 90.2% --> tăng ~ 7.3%\n",
      "   * k =  4 : phương sai tích lũy ~ 93.1% --> tăng ~ 2.9%\n",
      "   * k =  5 : phương sai tích lũy ~ 95.6% --> tăng ~ 2.5%\n",
      "   * k =  6 : phương sai tích lũy ~ 97.7% --> tăng ~ 2.2%\n",
      "   * k =  7 : phương sai tích lũy ~ 98.9% --> tăng ~ 1.1%\n",
      "   * k =  8 : phương sai tích lũy ~ 99.6% --> tăng ~ 0.7%\n",
      "   * k =  9 : phương sai tích lũy ~ 100.0% --> tăng ~ 0.4%\n"
     ]
    }
   ],
   "source": [
    "## Kiểm chứng: Tính phương sai tích lũy theo giá trị của k\n",
    "var = 0.0\n",
    "for k in range(1, nb_features + 1):\n",
    "    pca = PCA(k)\n",
    "    pca.fit(data)\n",
    "\n",
    "    #Tính tổng phương sai tích lũy\n",
    "    newVar = pca.explained_variance_ratio_.sum() * 100\n",
    "    print('   * k = %2d' %k, ': phương sai tích lũy ~ %.1f%%' %newVar,\n",
    "          '--> tăng ~ %.1f%%' %(newVar - var))\n",
    "    var = newVar"
   ]
  },
  {
   "cell_type": "markdown",
   "metadata": {},
   "source": [
    "### Nhận xét: \n",
    "Khi tăng từ k=1 đến k=2, phương sai tích lũy tăng khoảng 11.9%, đây là một sự tăng đáng kể.\n",
    "\n",
    "Tuy nhiên, sau khi tăng từ k=2 đến k=3, mức tăng giảm xuống còn 10.6%, và sau đó giảm dần theo mỗi bước tăng k."
   ]
  },
  {
   "cell_type": "code",
   "execution_count": 23,
   "metadata": {},
   "outputs": [
    {
     "data": {
      "text/html": [
       "<style>#sk-container-id-1 {color: black;}#sk-container-id-1 pre{padding: 0;}#sk-container-id-1 div.sk-toggleable {background-color: white;}#sk-container-id-1 label.sk-toggleable__label {cursor: pointer;display: block;width: 100%;margin-bottom: 0;padding: 0.3em;box-sizing: border-box;text-align: center;}#sk-container-id-1 label.sk-toggleable__label-arrow:before {content: \"▸\";float: left;margin-right: 0.25em;color: #696969;}#sk-container-id-1 label.sk-toggleable__label-arrow:hover:before {color: black;}#sk-container-id-1 div.sk-estimator:hover label.sk-toggleable__label-arrow:before {color: black;}#sk-container-id-1 div.sk-toggleable__content {max-height: 0;max-width: 0;overflow: hidden;text-align: left;background-color: #f0f8ff;}#sk-container-id-1 div.sk-toggleable__content pre {margin: 0.2em;color: black;border-radius: 0.25em;background-color: #f0f8ff;}#sk-container-id-1 input.sk-toggleable__control:checked~div.sk-toggleable__content {max-height: 200px;max-width: 100%;overflow: auto;}#sk-container-id-1 input.sk-toggleable__control:checked~label.sk-toggleable__label-arrow:before {content: \"▾\";}#sk-container-id-1 div.sk-estimator input.sk-toggleable__control:checked~label.sk-toggleable__label {background-color: #d4ebff;}#sk-container-id-1 div.sk-label input.sk-toggleable__control:checked~label.sk-toggleable__label {background-color: #d4ebff;}#sk-container-id-1 input.sk-hidden--visually {border: 0;clip: rect(1px 1px 1px 1px);clip: rect(1px, 1px, 1px, 1px);height: 1px;margin: -1px;overflow: hidden;padding: 0;position: absolute;width: 1px;}#sk-container-id-1 div.sk-estimator {font-family: monospace;background-color: #f0f8ff;border: 1px dotted black;border-radius: 0.25em;box-sizing: border-box;margin-bottom: 0.5em;}#sk-container-id-1 div.sk-estimator:hover {background-color: #d4ebff;}#sk-container-id-1 div.sk-parallel-item::after {content: \"\";width: 100%;border-bottom: 1px solid gray;flex-grow: 1;}#sk-container-id-1 div.sk-label:hover label.sk-toggleable__label {background-color: #d4ebff;}#sk-container-id-1 div.sk-serial::before {content: \"\";position: absolute;border-left: 1px solid gray;box-sizing: border-box;top: 0;bottom: 0;left: 50%;z-index: 0;}#sk-container-id-1 div.sk-serial {display: flex;flex-direction: column;align-items: center;background-color: white;padding-right: 0.2em;padding-left: 0.2em;position: relative;}#sk-container-id-1 div.sk-item {position: relative;z-index: 1;}#sk-container-id-1 div.sk-parallel {display: flex;align-items: stretch;justify-content: center;background-color: white;position: relative;}#sk-container-id-1 div.sk-item::before, #sk-container-id-1 div.sk-parallel-item::before {content: \"\";position: absolute;border-left: 1px solid gray;box-sizing: border-box;top: 0;bottom: 0;left: 50%;z-index: -1;}#sk-container-id-1 div.sk-parallel-item {display: flex;flex-direction: column;z-index: 1;position: relative;background-color: white;}#sk-container-id-1 div.sk-parallel-item:first-child::after {align-self: flex-end;width: 50%;}#sk-container-id-1 div.sk-parallel-item:last-child::after {align-self: flex-start;width: 50%;}#sk-container-id-1 div.sk-parallel-item:only-child::after {width: 0;}#sk-container-id-1 div.sk-dashed-wrapped {border: 1px dashed gray;margin: 0 0.4em 0.5em 0.4em;box-sizing: border-box;padding-bottom: 0.4em;background-color: white;}#sk-container-id-1 div.sk-label label {font-family: monospace;font-weight: bold;display: inline-block;line-height: 1.2em;}#sk-container-id-1 div.sk-label-container {text-align: center;}#sk-container-id-1 div.sk-container {/* jupyter's `normalize.less` sets `[hidden] { display: none; }` but bootstrap.min.css set `[hidden] { display: none !important; }` so we also need the `!important` here to be able to override the default hidden behavior on the sphinx rendered scikit-learn.org. See: https://github.com/scikit-learn/scikit-learn/issues/21755 */display: inline-block !important;position: relative;}#sk-container-id-1 div.sk-text-repr-fallback {display: none;}</style><div id=\"sk-container-id-1\" class=\"sk-top-container\"><div class=\"sk-text-repr-fallback\"><pre>PCA(n_components=2)</pre><b>In a Jupyter environment, please rerun this cell to show the HTML representation or trust the notebook. <br />On GitHub, the HTML representation is unable to render, please try loading this page with nbviewer.org.</b></div><div class=\"sk-container\" hidden><div class=\"sk-item\"><div class=\"sk-estimator sk-toggleable\"><input class=\"sk-toggleable__control sk-hidden--visually\" id=\"sk-estimator-id-1\" type=\"checkbox\" checked><label for=\"sk-estimator-id-1\" class=\"sk-toggleable__label sk-toggleable__label-arrow\">PCA</label><div class=\"sk-toggleable__content\"><pre>PCA(n_components=2)</pre></div></div></div></div></div>"
      ],
      "text/plain": [
       "PCA(n_components=2)"
      ]
     },
     "execution_count": 23,
     "metadata": {},
     "output_type": "execute_result"
    }
   ],
   "source": [
    "A = data.values\n",
    "pca = PCA(n_components = 2)\n",
    "pca.fit(A)"
   ]
  },
  {
   "cell_type": "code",
   "execution_count": 24,
   "metadata": {},
   "outputs": [
    {
     "name": "stdout",
     "output_type": "stream",
     "text": [
      "PCA.components:\n",
      " [[-0.33717227 -0.35163368 -0.33661164 -0.33150131  0.35209645  0.33681522\n",
      "   0.32872336  0.37177826 -0.2361643 ]\n",
      " [-0.0197952  -0.20959475 -0.18510131 -0.24636782 -0.32419329 -0.44344294\n",
      "  -0.46467793  0.15789236 -0.56402135]]\n",
      "PCA.shape: (2, 9)\n",
      "PCA.explained variance: [6.7067102  0.77426743]\n",
      "PCA.explained variance shape: (2,)\n"
     ]
    }
   ],
   "source": [
    "## Hiển thị kết quả tóm tắt\n",
    "#  components_: array, shape (n_components, n_features)\n",
    "#               Các thành phần chính trong không gian features,\n",
    "#               biểu thị các hướng của phương sai tối đa trong dữ liệu\n",
    "#  explained_variance_ : array, shape (n_components,)\n",
    "#               Lượng phương sai được giải thích bởi từng thành phần được chọn.\n",
    "print('PCA.components:\\n', pca.components_)\n",
    "print('PCA.shape:', pca.components_.shape)\n",
    "print('PCA.explained variance:', pca.explained_variance_)\n",
    "print('PCA.explained variance shape:', pca.explained_variance_.shape)"
   ]
  },
  {
   "cell_type": "code",
   "execution_count": 25,
   "metadata": {},
   "outputs": [
    {
     "data": {
      "text/plain": [
       "(632, 2)"
      ]
     },
     "execution_count": 25,
     "metadata": {},
     "output_type": "execute_result"
    }
   ],
   "source": [
    "## Phép chiếu dữ liệu vào không gian MỚI (tọa độ mới)\n",
    "P = pca.transform(A)\n",
    "P.shape"
   ]
  },
  {
   "cell_type": "code",
   "execution_count": 26,
   "metadata": {},
   "outputs": [],
   "source": [
    "PC_name = ['PC 1', 'PC 2']\n",
    "df_pca = pd.DataFrame(P, columns = PC_name)\n",
    "df_pca['student_id'] = df['student_id']"
   ]
  },
  {
   "cell_type": "code",
   "execution_count": 27,
   "metadata": {},
   "outputs": [
    {
     "data": {
      "image/png": "[encoded data removed]",
      "text/plain": [
       "<Figure size 600x600 with 1 Axes>"
      ]
     },
     "metadata": {},
     "output_type": "display_data"
    }
   ],
   "source": [
    "## Biểu diễn trực quan dữ liệu sau khi áp dụng PCA\n",
    "df_pca['drop_out'] = df['drop_out']\n",
    "\n",
    "plt.figure(figsize = (6, 6))\n",
    "plt.title('Biểu đồ có PHÂN LỚP')\n",
    "sns.scatterplot(x = PC_name[0], y = PC_name[1], data = df_pca, hue='drop_out')\n",
    "plt.show()"
   ]
  },
  {
   "cell_type": "code",
   "execution_count": 28,
   "metadata": {},
   "outputs": [],
   "source": [
    "# Dữ liệu phân bố thành 2 vùng:\n",
    "# Vùng 1: dữ liệu tập trùng trong khoảng (4, 6) -> tập trung các điểm dữ liệu sinh viên còn học tiếp\n",
    "# Vùng 2: dữ liệu phân bố đồ đều trong khoảng (5.5, 15) -> tập trung các điểm dữ liệu là sinh viên thôi học \n",
    "# -> Nếu x cao, y thấp -> sinh viên có khả năng thôi học.\n"
   ]
  },
  {
   "cell_type": "code",
   "execution_count": 29,
   "metadata": {},
   "outputs": [
    {
     "data": {
      "text/html": [
       "<div>\n",
       "<style scoped>\n",
       "    .dataframe tbody tr th:only-of-type {\n",
       "        vertical-align: middle;\n",
       "    }\n",
       "\n",
       "    .dataframe tbody tr th {\n",
       "        vertical-align: top;\n",
       "    }\n",
       "\n",
       "    .dataframe thead th {\n",
       "        text-align: right;\n",
       "    }\n",
       "</style>\n",
       "<table border=\"1\" class=\"dataframe\">\n",
       "  <thead>\n",
       "    <tr style=\"text-align: right;\">\n",
       "      <th></th>\n",
       "      <th>PC 1</th>\n",
       "      <th>PC 2</th>\n",
       "      <th>student_id</th>\n",
       "      <th>drop_out</th>\n",
       "    </tr>\n",
       "  </thead>\n",
       "  <tbody>\n",
       "    <tr>\n",
       "      <th>0</th>\n",
       "      <td>1.628808</td>\n",
       "      <td>2.528149</td>\n",
       "      <td>1900006098</td>\n",
       "      <td>1.0</td>\n",
       "    </tr>\n",
       "    <tr>\n",
       "      <th>1</th>\n",
       "      <td>3.306692</td>\n",
       "      <td>-0.327964</td>\n",
       "      <td>1900007549</td>\n",
       "      <td>1.0</td>\n",
       "    </tr>\n",
       "    <tr>\n",
       "      <th>2</th>\n",
       "      <td>-1.945816</td>\n",
       "      <td>1.377211</td>\n",
       "      <td>1900007763</td>\n",
       "      <td>-1.0</td>\n",
       "    </tr>\n",
       "    <tr>\n",
       "      <th>3</th>\n",
       "      <td>-2.081498</td>\n",
       "      <td>1.073796</td>\n",
       "      <td>1900007784</td>\n",
       "      <td>-1.0</td>\n",
       "    </tr>\n",
       "    <tr>\n",
       "      <th>4</th>\n",
       "      <td>-1.419375</td>\n",
       "      <td>1.514615</td>\n",
       "      <td>1900008106</td>\n",
       "      <td>-1.0</td>\n",
       "    </tr>\n",
       "    <tr>\n",
       "      <th>...</th>\n",
       "      <td>...</td>\n",
       "      <td>...</td>\n",
       "      <td>...</td>\n",
       "      <td>...</td>\n",
       "    </tr>\n",
       "    <tr>\n",
       "      <th>627</th>\n",
       "      <td>2.782677</td>\n",
       "      <td>0.144318</td>\n",
       "      <td>2000001163</td>\n",
       "      <td>1.0</td>\n",
       "    </tr>\n",
       "    <tr>\n",
       "      <th>628</th>\n",
       "      <td>0.624834</td>\n",
       "      <td>1.781494</td>\n",
       "      <td>2094368657</td>\n",
       "      <td>1.0</td>\n",
       "    </tr>\n",
       "    <tr>\n",
       "      <th>629</th>\n",
       "      <td>4.040790</td>\n",
       "      <td>-1.547569</td>\n",
       "      <td>2000002180</td>\n",
       "      <td>1.0</td>\n",
       "    </tr>\n",
       "    <tr>\n",
       "      <th>630</th>\n",
       "      <td>2.879491</td>\n",
       "      <td>-0.180697</td>\n",
       "      <td>2000004451</td>\n",
       "      <td>1.0</td>\n",
       "    </tr>\n",
       "    <tr>\n",
       "      <th>631</th>\n",
       "      <td>2.561117</td>\n",
       "      <td>0.160402</td>\n",
       "      <td>2000004896</td>\n",
       "      <td>1.0</td>\n",
       "    </tr>\n",
       "  </tbody>\n",
       "</table>\n",
       "<p>632 rows × 4 columns</p>\n",
       "</div>"
      ],
      "text/plain": [
       "         PC 1      PC 2  student_id  drop_out\n",
       "0    1.628808  2.528149  1900006098       1.0\n",
       "1    3.306692 -0.327964  1900007549       1.0\n",
       "2   -1.945816  1.377211  1900007763      -1.0\n",
       "3   -2.081498  1.073796  1900007784      -1.0\n",
       "4   -1.419375  1.514615  1900008106      -1.0\n",
       "..        ...       ...         ...       ...\n",
       "627  2.782677  0.144318  2000001163       1.0\n",
       "628  0.624834  1.781494  2094368657       1.0\n",
       "629  4.040790 -1.547569  2000002180       1.0\n",
       "630  2.879491 -0.180697  2000004451       1.0\n",
       "631  2.561117  0.160402  2000004896       1.0\n",
       "\n",
       "[632 rows x 4 columns]"
      ]
     },
     "execution_count": 29,
     "metadata": {},
     "output_type": "execute_result"
    }
   ],
   "source": [
    "df_pca"
   ]
  },
  {
   "cell_type": "code",
   "execution_count": 30,
   "metadata": {},
   "outputs": [
    {
     "data": {
      "image/png": "[encoded data removed]",
      "text/plain": [
       "<Figure size 640x480 with 1 Axes>"
      ]
     },
     "metadata": {},
     "output_type": "display_data"
    }
   ],
   "source": [
    "sns.boxplot(df_pca.iloc[:,1])\n",
    "plt.show()"
   ]
  },
  {
   "cell_type": "code",
   "execution_count": 31,
   "metadata": {},
   "outputs": [
    {
     "data": {
      "image/png": "[encoded data removed]",
      "text/plain": [
       "<Figure size 640x480 with 1 Axes>"
      ]
     },
     "metadata": {},
     "output_type": "display_data"
    }
   ],
   "source": [
    "sns.boxplot(df_pca.iloc[:,0])\n",
    "plt.show()"
   ]
  },
  {
   "cell_type": "code",
   "execution_count": 32,
   "metadata": {},
   "outputs": [],
   "source": [
    "def calculate_iqr(df, col):\n",
    "    Q1 = df[f'{col}'].quantile(0.25)\n",
    "    Q2 = df[f'{col}'].quantile(0.50)\n",
    "    Q3 = df[f'{col}'].quantile(0.75)\n",
    "    return ((Q3-Q1),Q1, Q2, Q3) "
   ]
  },
  {
   "cell_type": "code",
   "execution_count": 33,
   "metadata": {},
   "outputs": [
    {
     "data": {
      "text/html": [
       "<div>\n",
       "<style scoped>\n",
       "    .dataframe tbody tr th:only-of-type {\n",
       "        vertical-align: middle;\n",
       "    }\n",
       "\n",
       "    .dataframe tbody tr th {\n",
       "        vertical-align: top;\n",
       "    }\n",
       "\n",
       "    .dataframe thead th {\n",
       "        text-align: right;\n",
       "    }\n",
       "</style>\n",
       "<table border=\"1\" class=\"dataframe\">\n",
       "  <thead>\n",
       "    <tr style=\"text-align: right;\">\n",
       "      <th></th>\n",
       "      <th>PC 1</th>\n",
       "      <th>PC 2</th>\n",
       "      <th>student_id</th>\n",
       "      <th>drop_out</th>\n",
       "    </tr>\n",
       "  </thead>\n",
       "  <tbody>\n",
       "    <tr>\n",
       "      <th>0</th>\n",
       "      <td>1.628808</td>\n",
       "      <td>0.488245</td>\n",
       "      <td>1900006098</td>\n",
       "      <td>1.0</td>\n",
       "    </tr>\n",
       "    <tr>\n",
       "      <th>1</th>\n",
       "      <td>3.306692</td>\n",
       "      <td>-0.327964</td>\n",
       "      <td>1900007549</td>\n",
       "      <td>1.0</td>\n",
       "    </tr>\n",
       "    <tr>\n",
       "      <th>2</th>\n",
       "      <td>-1.945816</td>\n",
       "      <td>1.377211</td>\n",
       "      <td>1900007763</td>\n",
       "      <td>-1.0</td>\n",
       "    </tr>\n",
       "    <tr>\n",
       "      <th>3</th>\n",
       "      <td>-2.081498</td>\n",
       "      <td>1.073796</td>\n",
       "      <td>1900007784</td>\n",
       "      <td>-1.0</td>\n",
       "    </tr>\n",
       "    <tr>\n",
       "      <th>4</th>\n",
       "      <td>-1.419375</td>\n",
       "      <td>1.514615</td>\n",
       "      <td>1900008106</td>\n",
       "      <td>-1.0</td>\n",
       "    </tr>\n",
       "    <tr>\n",
       "      <th>...</th>\n",
       "      <td>...</td>\n",
       "      <td>...</td>\n",
       "      <td>...</td>\n",
       "      <td>...</td>\n",
       "    </tr>\n",
       "    <tr>\n",
       "      <th>627</th>\n",
       "      <td>2.782677</td>\n",
       "      <td>0.144318</td>\n",
       "      <td>2000001163</td>\n",
       "      <td>1.0</td>\n",
       "    </tr>\n",
       "    <tr>\n",
       "      <th>628</th>\n",
       "      <td>0.624834</td>\n",
       "      <td>1.781494</td>\n",
       "      <td>2094368657</td>\n",
       "      <td>1.0</td>\n",
       "    </tr>\n",
       "    <tr>\n",
       "      <th>629</th>\n",
       "      <td>4.040790</td>\n",
       "      <td>-1.547569</td>\n",
       "      <td>2000002180</td>\n",
       "      <td>1.0</td>\n",
       "    </tr>\n",
       "    <tr>\n",
       "      <th>630</th>\n",
       "      <td>2.879491</td>\n",
       "      <td>-0.180697</td>\n",
       "      <td>2000004451</td>\n",
       "      <td>1.0</td>\n",
       "    </tr>\n",
       "    <tr>\n",
       "      <th>631</th>\n",
       "      <td>2.561117</td>\n",
       "      <td>0.160402</td>\n",
       "      <td>2000004896</td>\n",
       "      <td>1.0</td>\n",
       "    </tr>\n",
       "  </tbody>\n",
       "</table>\n",
       "<p>632 rows × 4 columns</p>\n",
       "</div>"
      ],
      "text/plain": [
       "         PC 1      PC 2  student_id  drop_out\n",
       "0    1.628808  0.488245  1900006098       1.0\n",
       "1    3.306692 -0.327964  1900007549       1.0\n",
       "2   -1.945816  1.377211  1900007763      -1.0\n",
       "3   -2.081498  1.073796  1900007784      -1.0\n",
       "4   -1.419375  1.514615  1900008106      -1.0\n",
       "..        ...       ...         ...       ...\n",
       "627  2.782677  0.144318  2000001163       1.0\n",
       "628  0.624834  1.781494  2094368657       1.0\n",
       "629  4.040790 -1.547569  2000002180       1.0\n",
       "630  2.879491 -0.180697  2000004451       1.0\n",
       "631  2.561117  0.160402  2000004896       1.0\n",
       "\n",
       "[632 rows x 4 columns]"
      ]
     },
     "execution_count": 33,
     "metadata": {},
     "output_type": "execute_result"
    }
   ],
   "source": [
    "UW = calculate_iqr(df_pca, 'PC 2')[3] + 1.5*calculate_iqr(df_pca, 'PC 2')[0]\n",
    "outlier = df_pca[df_pca['PC 2'] > UW].sort_values(by='PC 2')\n",
    "df_pca.loc[outlier.index,'PC 2'] = df_pca['PC 2'].quantile(0.75)\n",
    "df_pca"
   ]
  },
  {
   "cell_type": "code",
   "execution_count": 34,
   "metadata": {},
   "outputs": [
    {
     "data": {
      "text/html": [
       "<div>\n",
       "<style scoped>\n",
       "    .dataframe tbody tr th:only-of-type {\n",
       "        vertical-align: middle;\n",
       "    }\n",
       "\n",
       "    .dataframe tbody tr th {\n",
       "        vertical-align: top;\n",
       "    }\n",
       "\n",
       "    .dataframe thead th {\n",
       "        text-align: right;\n",
       "    }\n",
       "</style>\n",
       "<table border=\"1\" class=\"dataframe\">\n",
       "  <thead>\n",
       "    <tr style=\"text-align: right;\">\n",
       "      <th></th>\n",
       "      <th>PC 1</th>\n",
       "      <th>PC 2</th>\n",
       "      <th>student_id</th>\n",
       "      <th>drop_out</th>\n",
       "    </tr>\n",
       "  </thead>\n",
       "  <tbody>\n",
       "    <tr>\n",
       "      <th>0</th>\n",
       "      <td>1.628808</td>\n",
       "      <td>0.488245</td>\n",
       "      <td>1900006098</td>\n",
       "      <td>1.0</td>\n",
       "    </tr>\n",
       "    <tr>\n",
       "      <th>1</th>\n",
       "      <td>3.306692</td>\n",
       "      <td>-0.327964</td>\n",
       "      <td>1900007549</td>\n",
       "      <td>1.0</td>\n",
       "    </tr>\n",
       "    <tr>\n",
       "      <th>2</th>\n",
       "      <td>-1.945816</td>\n",
       "      <td>1.377211</td>\n",
       "      <td>1900007763</td>\n",
       "      <td>-1.0</td>\n",
       "    </tr>\n",
       "    <tr>\n",
       "      <th>3</th>\n",
       "      <td>-2.081498</td>\n",
       "      <td>1.073796</td>\n",
       "      <td>1900007784</td>\n",
       "      <td>-1.0</td>\n",
       "    </tr>\n",
       "    <tr>\n",
       "      <th>4</th>\n",
       "      <td>-1.419375</td>\n",
       "      <td>1.514615</td>\n",
       "      <td>1900008106</td>\n",
       "      <td>-1.0</td>\n",
       "    </tr>\n",
       "    <tr>\n",
       "      <th>...</th>\n",
       "      <td>...</td>\n",
       "      <td>...</td>\n",
       "      <td>...</td>\n",
       "      <td>...</td>\n",
       "    </tr>\n",
       "    <tr>\n",
       "      <th>627</th>\n",
       "      <td>2.782677</td>\n",
       "      <td>0.144318</td>\n",
       "      <td>2000001163</td>\n",
       "      <td>1.0</td>\n",
       "    </tr>\n",
       "    <tr>\n",
       "      <th>628</th>\n",
       "      <td>0.624834</td>\n",
       "      <td>1.781494</td>\n",
       "      <td>2094368657</td>\n",
       "      <td>1.0</td>\n",
       "    </tr>\n",
       "    <tr>\n",
       "      <th>629</th>\n",
       "      <td>4.040790</td>\n",
       "      <td>-1.547569</td>\n",
       "      <td>2000002180</td>\n",
       "      <td>1.0</td>\n",
       "    </tr>\n",
       "    <tr>\n",
       "      <th>630</th>\n",
       "      <td>2.879491</td>\n",
       "      <td>-0.180697</td>\n",
       "      <td>2000004451</td>\n",
       "      <td>1.0</td>\n",
       "    </tr>\n",
       "    <tr>\n",
       "      <th>631</th>\n",
       "      <td>2.561117</td>\n",
       "      <td>0.160402</td>\n",
       "      <td>2000004896</td>\n",
       "      <td>1.0</td>\n",
       "    </tr>\n",
       "  </tbody>\n",
       "</table>\n",
       "<p>632 rows × 4 columns</p>\n",
       "</div>"
      ],
      "text/plain": [
       "         PC 1      PC 2  student_id  drop_out\n",
       "0    1.628808  0.488245  1900006098       1.0\n",
       "1    3.306692 -0.327964  1900007549       1.0\n",
       "2   -1.945816  1.377211  1900007763      -1.0\n",
       "3   -2.081498  1.073796  1900007784      -1.0\n",
       "4   -1.419375  1.514615  1900008106      -1.0\n",
       "..        ...       ...         ...       ...\n",
       "627  2.782677  0.144318  2000001163       1.0\n",
       "628  0.624834  1.781494  2094368657       1.0\n",
       "629  4.040790 -1.547569  2000002180       1.0\n",
       "630  2.879491 -0.180697  2000004451       1.0\n",
       "631  2.561117  0.160402  2000004896       1.0\n",
       "\n",
       "[632 rows x 4 columns]"
      ]
     },
     "execution_count": 34,
     "metadata": {},
     "output_type": "execute_result"
    }
   ],
   "source": [
    "UW = calculate_iqr(df_pca, 'PC 1')[3] + 1.5*calculate_iqr(df_pca, 'PC 1')[0]\n",
    "outlier = df_pca[df_pca['PC 1'] > UW].sort_values(by='PC 1')\n",
    "df_pca.loc[outlier.index,'PC 1'] = df_pca['PC 1'].quantile(0.75)\n",
    "df_pca"
   ]
  },
  {
   "cell_type": "markdown",
   "metadata": {},
   "source": [
    "#### Tính độ lệch của phân phối dữ liệu.\n",
    "+ Nếu dữ liệu có độ méo lệch bằng 0, đó có nghĩa là dữ liệu hoàn toàn đối xứng. \n",
    "\n",
    "+ Nếu độ méo lệch lớn hơn 0, dữ liệu lệch về phía bên trái của trục x (trái đối với phân phối Gaussian)\n",
    "\n",
    "+ Nếu nhỏ hơn 0, dữ liệu lệch về phía bên phải của trục x."
   ]
  },
  {
   "cell_type": "code",
   "execution_count": 35,
   "metadata": {},
   "outputs": [
    {
     "name": "stderr",
     "output_type": "stream",
     "text": [
      "c:\\Program Files\\Python310\\lib\\site-packages\\seaborn\\_oldcore.py:1119: FutureWarning: use_inf_as_na option is deprecated and will be removed in a future version. Convert inf values to NaN before operating instead.\n",
      "  with pd.option_context('mode.use_inf_as_na', True):\n"
     ]
    },
    {
     "data": {
      "image/png": "[encoded data removed]",
      "text/plain": [
       "<Figure size 500x300 with 1 Axes>"
      ]
     },
     "metadata": {},
     "output_type": "display_data"
    }
   ],
   "source": [
    "plt.figure(figsize = (5, 3))\n",
    "sns.histplot(data = df_pca['PC 1'])\n",
    "plt.show()"
   ]
  },
  {
   "cell_type": "code",
   "execution_count": 36,
   "metadata": {},
   "outputs": [
    {
     "name": "stderr",
     "output_type": "stream",
     "text": [
      "c:\\Program Files\\Python310\\lib\\site-packages\\seaborn\\_oldcore.py:1119: FutureWarning: use_inf_as_na option is deprecated and will be removed in a future version. Convert inf values to NaN before operating instead.\n",
      "  with pd.option_context('mode.use_inf_as_na', True):\n"
     ]
    },
    {
     "data": {
      "image/png": "[encoded data removed]",
      "text/plain": [
       "<Figure size 500x300 with 1 Axes>"
      ]
     },
     "metadata": {},
     "output_type": "display_data"
    }
   ],
   "source": [
    "plt.figure(figsize = (5, 3))\n",
    "sns.histplot(data = df_pca['PC 2'])\n",
    "plt.show()"
   ]
  },
  {
   "cell_type": "code",
   "execution_count": 37,
   "metadata": {},
   "outputs": [
    {
     "name": "stdout",
     "output_type": "stream",
     "text": [
      "-1.7988423690129118e-16 -0.12164333849867326\n",
      "-0.048591119623416036 -0.05082970469566779\n",
      "PC 1 0.10001269527621956\n",
      "PC 2 0.09373456931201683\n"
     ]
    }
   ],
   "source": [
    "#  tính độ xiên của tần số\n",
    "\n",
    "print(df_pca['PC 1'].mean(), df_pca['PC 1'].median())\n",
    "print(df_pca['PC 2'].mean(), df_pca['PC 2'].median())\n",
    "\n",
    "print('PC 1',df_pca['PC 1'].skew())\n",
    "print('PC 2',df_pca['PC 2'].skew())"
   ]
  },
  {
   "cell_type": "code",
   "execution_count": 38,
   "metadata": {},
   "outputs": [],
   "source": [
    "# mean > median\n",
    "# độ xiên > 0\n",
    "# Có số lượng nhỏ ở PC 1 và PC 2 có khả năng tiếp tục học \n",
    "# 2 biểu đồ lệch dương  "
   ]
  },
  {
   "cell_type": "code",
   "execution_count": 39,
   "metadata": {},
   "outputs": [
    {
     "data": {
      "text/html": [
       "<div>\n",
       "<style scoped>\n",
       "    .dataframe tbody tr th:only-of-type {\n",
       "        vertical-align: middle;\n",
       "    }\n",
       "\n",
       "    .dataframe tbody tr th {\n",
       "        vertical-align: top;\n",
       "    }\n",
       "\n",
       "    .dataframe thead th {\n",
       "        text-align: right;\n",
       "    }\n",
       "</style>\n",
       "<table border=\"1\" class=\"dataframe\">\n",
       "  <thead>\n",
       "    <tr style=\"text-align: right;\">\n",
       "      <th></th>\n",
       "      <th>student_id</th>\n",
       "      <th>gender</th>\n",
       "      <th>age</th>\n",
       "      <th>gpa1</th>\n",
       "      <th>gpa2</th>\n",
       "      <th>gpa3</th>\n",
       "      <th>gpa4</th>\n",
       "      <th>ar1</th>\n",
       "      <th>ar2</th>\n",
       "      <th>ar3</th>\n",
       "      <th>drop_out</th>\n",
       "      <th>student_id_</th>\n",
       "    </tr>\n",
       "  </thead>\n",
       "  <tbody>\n",
       "    <tr>\n",
       "      <th>0</th>\n",
       "      <td>1900006098</td>\n",
       "      <td>0.609042</td>\n",
       "      <td>1.461760</td>\n",
       "      <td>-0.993169</td>\n",
       "      <td>-0.590333</td>\n",
       "      <td>-0.954944</td>\n",
       "      <td>-1.496061</td>\n",
       "      <td>0.000309</td>\n",
       "      <td>-0.549558</td>\n",
       "      <td>-0.993524</td>\n",
       "      <td>1.0</td>\n",
       "      <td>-1.730887</td>\n",
       "    </tr>\n",
       "    <tr>\n",
       "      <th>1</th>\n",
       "      <td>1900007549</td>\n",
       "      <td>-1.641922</td>\n",
       "      <td>1.461760</td>\n",
       "      <td>-0.857175</td>\n",
       "      <td>-0.914993</td>\n",
       "      <td>-0.810963</td>\n",
       "      <td>-0.257903</td>\n",
       "      <td>2.093316</td>\n",
       "      <td>0.826465</td>\n",
       "      <td>1.706417</td>\n",
       "      <td>1.0</td>\n",
       "      <td>-1.648540</td>\n",
       "    </tr>\n",
       "    <tr>\n",
       "      <th>2</th>\n",
       "      <td>1900007763</td>\n",
       "      <td>0.609042</td>\n",
       "      <td>1.461760</td>\n",
       "      <td>0.638750</td>\n",
       "      <td>0.914908</td>\n",
       "      <td>0.340889</td>\n",
       "      <td>1.053088</td>\n",
       "      <td>-1.102114</td>\n",
       "      <td>-0.981476</td>\n",
       "      <td>-0.737740</td>\n",
       "      <td>-1.0</td>\n",
       "      <td>-1.643050</td>\n",
       "    </tr>\n",
       "    <tr>\n",
       "      <th>3</th>\n",
       "      <td>1900007784</td>\n",
       "      <td>0.609042</td>\n",
       "      <td>1.461760</td>\n",
       "      <td>1.386713</td>\n",
       "      <td>1.003452</td>\n",
       "      <td>0.808829</td>\n",
       "      <td>0.761756</td>\n",
       "      <td>-0.856066</td>\n",
       "      <td>-0.924142</td>\n",
       "      <td>-0.421563</td>\n",
       "      <td>-1.0</td>\n",
       "      <td>-1.637560</td>\n",
       "    </tr>\n",
       "    <tr>\n",
       "      <th>4</th>\n",
       "      <td>1900008106</td>\n",
       "      <td>0.609042</td>\n",
       "      <td>1.461760</td>\n",
       "      <td>-0.143211</td>\n",
       "      <td>1.003452</td>\n",
       "      <td>-0.379019</td>\n",
       "      <td>0.980255</td>\n",
       "      <td>-0.878434</td>\n",
       "      <td>-1.008232</td>\n",
       "      <td>-0.858527</td>\n",
       "      <td>-1.0</td>\n",
       "      <td>-1.632070</td>\n",
       "    </tr>\n",
       "    <tr>\n",
       "      <th>...</th>\n",
       "      <td>...</td>\n",
       "      <td>...</td>\n",
       "      <td>...</td>\n",
       "      <td>...</td>\n",
       "      <td>...</td>\n",
       "      <td>...</td>\n",
       "      <td>...</td>\n",
       "      <td>...</td>\n",
       "      <td>...</td>\n",
       "      <td>...</td>\n",
       "      <td>...</td>\n",
       "      <td>...</td>\n",
       "    </tr>\n",
       "    <tr>\n",
       "      <th>627</th>\n",
       "      <td>2000001163</td>\n",
       "      <td>-1.641922</td>\n",
       "      <td>0.575165</td>\n",
       "      <td>-0.746394</td>\n",
       "      <td>-1.121374</td>\n",
       "      <td>-1.020195</td>\n",
       "      <td>-0.999598</td>\n",
       "      <td>0.769903</td>\n",
       "      <td>0.834909</td>\n",
       "      <td>1.090772</td>\n",
       "      <td>1.0</td>\n",
       "      <td>-0.759187</td>\n",
       "    </tr>\n",
       "    <tr>\n",
       "      <th>628</th>\n",
       "      <td>2094368657</td>\n",
       "      <td>0.609042</td>\n",
       "      <td>-0.311431</td>\n",
       "      <td>-0.272541</td>\n",
       "      <td>-1.128251</td>\n",
       "      <td>-0.797289</td>\n",
       "      <td>-1.064686</td>\n",
       "      <td>-0.848668</td>\n",
       "      <td>-0.752704</td>\n",
       "      <td>-0.872404</td>\n",
       "      <td>1.0</td>\n",
       "      <td>0.075268</td>\n",
       "    </tr>\n",
       "    <tr>\n",
       "      <th>629</th>\n",
       "      <td>2000002180</td>\n",
       "      <td>-1.641922</td>\n",
       "      <td>0.575165</td>\n",
       "      <td>-1.159373</td>\n",
       "      <td>-0.901449</td>\n",
       "      <td>-0.737922</td>\n",
       "      <td>-1.077708</td>\n",
       "      <td>1.951531</td>\n",
       "      <td>2.256021</td>\n",
       "      <td>2.285286</td>\n",
       "      <td>1.0</td>\n",
       "      <td>-0.665859</td>\n",
       "    </tr>\n",
       "    <tr>\n",
       "      <th>630</th>\n",
       "      <td>2000004451</td>\n",
       "      <td>-1.641922</td>\n",
       "      <td>0.575165</td>\n",
       "      <td>-1.292792</td>\n",
       "      <td>-1.173387</td>\n",
       "      <td>-1.103570</td>\n",
       "      <td>-0.658250</td>\n",
       "      <td>0.976361</td>\n",
       "      <td>1.499683</td>\n",
       "      <td>0.417647</td>\n",
       "      <td>1.0</td>\n",
       "      <td>-0.352939</td>\n",
       "    </tr>\n",
       "    <tr>\n",
       "      <th>631</th>\n",
       "      <td>2000004896</td>\n",
       "      <td>-1.641922</td>\n",
       "      <td>0.575165</td>\n",
       "      <td>-1.299144</td>\n",
       "      <td>-1.239553</td>\n",
       "      <td>-1.170815</td>\n",
       "      <td>-0.549399</td>\n",
       "      <td>0.719669</td>\n",
       "      <td>1.285463</td>\n",
       "      <td>-0.033652</td>\n",
       "      <td>1.0</td>\n",
       "      <td>-0.270591</td>\n",
       "    </tr>\n",
       "  </tbody>\n",
       "</table>\n",
       "<p>632 rows × 12 columns</p>\n",
       "</div>"
      ],
      "text/plain": [
       "     student_id    gender       age      gpa1      gpa2      gpa3      gpa4  \\\n",
       "0    1900006098  0.609042  1.461760 -0.993169 -0.590333 -0.954944 -1.496061   \n",
       "1    1900007549 -1.641922  1.461760 -0.857175 -0.914993 -0.810963 -0.257903   \n",
       "2    1900007763  0.609042  1.461760  0.638750  0.914908  0.340889  1.053088   \n",
       "3    1900007784  0.609042  1.461760  1.386713  1.003452  0.808829  0.761756   \n",
       "4    1900008106  0.609042  1.461760 -0.143211  1.003452 -0.379019  0.980255   \n",
       "..          ...       ...       ...       ...       ...       ...       ...   \n",
       "627  2000001163 -1.641922  0.575165 -0.746394 -1.121374 -1.020195 -0.999598   \n",
       "628  2094368657  0.609042 -0.311431 -0.272541 -1.128251 -0.797289 -1.064686   \n",
       "629  2000002180 -1.641922  0.575165 -1.159373 -0.901449 -0.737922 -1.077708   \n",
       "630  2000004451 -1.641922  0.575165 -1.292792 -1.173387 -1.103570 -0.658250   \n",
       "631  2000004896 -1.641922  0.575165 -1.299144 -1.239553 -1.170815 -0.549399   \n",
       "\n",
       "          ar1       ar2       ar3  drop_out  student_id_  \n",
       "0    0.000309 -0.549558 -0.993524       1.0    -1.730887  \n",
       "1    2.093316  0.826465  1.706417       1.0    -1.648540  \n",
       "2   -1.102114 -0.981476 -0.737740      -1.0    -1.643050  \n",
       "3   -0.856066 -0.924142 -0.421563      -1.0    -1.637560  \n",
       "4   -0.878434 -1.008232 -0.858527      -1.0    -1.632070  \n",
       "..        ...       ...       ...       ...          ...  \n",
       "627  0.769903  0.834909  1.090772       1.0    -0.759187  \n",
       "628 -0.848668 -0.752704 -0.872404       1.0     0.075268  \n",
       "629  1.951531  2.256021  2.285286       1.0    -0.665859  \n",
       "630  0.976361  1.499683  0.417647       1.0    -0.352939  \n",
       "631  0.719669  1.285463 -0.033652       1.0    -0.270591  \n",
       "\n",
       "[632 rows x 12 columns]"
      ]
     },
     "execution_count": 39,
     "metadata": {},
     "output_type": "execute_result"
    }
   ],
   "source": [
    "\n",
    "mask = ~df['student_id'].isin(df_pca['student_id'])\n",
    "# Loại bỏ các dòng có chỉ mục không nằm trong df_pca\n",
    "df = df[~mask]\n",
    "df\n"
   ]
  },
  {
   "cell_type": "code",
   "execution_count": 40,
   "metadata": {},
   "outputs": [
    {
     "data": {
      "text/plain": [
       "PC 1          float64\n",
       "PC 2          float64\n",
       "student_id     object\n",
       "drop_out      float64\n",
       "dtype: object"
      ]
     },
     "execution_count": 40,
     "metadata": {},
     "output_type": "execute_result"
    }
   ],
   "source": [
    "df_pca.dtypes"
   ]
  },
  {
   "cell_type": "markdown",
   "metadata": {},
   "source": [
    "## Chia tập dữ liệu"
   ]
  },
  {
   "cell_type": "code",
   "execution_count": 41,
   "metadata": {},
   "outputs": [],
   "source": [
    "# X_train_pca, X_test_pca, y_train, y_test = train_test_split(df_pca, df['student_id'], test_size=0.2, stratify=df['drop_out'], random_state=42)\n",
    "X_train_pca, X_test_pca, y_train, y_test = train_test_split(df_pca.loc[:, ['student_id','PC 1','PC 2']], df_pca['drop_out'], test_size=0.2, stratify=df['drop_out'], random_state=42)"
   ]
  },
  {
   "cell_type": "code",
   "execution_count": 42,
   "metadata": {},
   "outputs": [],
   "source": [
    "# X_train_pca = X_train_pca.reindex(columns = ['student_id', 'PC 1', 'PC 2', 'drop_out'])\n",
    "# X_test_pca = X_test_pca.reindex(columns = ['student_id', 'PC 1', 'PC 2', 'drop_out'])\n",
    "X_train_pca = X_train_pca.reindex(columns = ['student_id','PC 1', 'PC 2'])\n",
    "X_test_pca = X_test_pca.reindex(columns = ['student_id','PC 1', 'PC 2'])\n"
   ]
  },
  {
   "cell_type": "code",
   "execution_count": 43,
   "metadata": {},
   "outputs": [
    {
     "data": {
      "text/html": [
       "<div>\n",
       "<style scoped>\n",
       "    .dataframe tbody tr th:only-of-type {\n",
       "        vertical-align: middle;\n",
       "    }\n",
       "\n",
       "    .dataframe tbody tr th {\n",
       "        vertical-align: top;\n",
       "    }\n",
       "\n",
       "    .dataframe thead th {\n",
       "        text-align: right;\n",
       "    }\n",
       "</style>\n",
       "<table border=\"1\" class=\"dataframe\">\n",
       "  <thead>\n",
       "    <tr style=\"text-align: right;\">\n",
       "      <th></th>\n",
       "      <th>student_id</th>\n",
       "      <th>PC 1</th>\n",
       "      <th>PC 2</th>\n",
       "    </tr>\n",
       "  </thead>\n",
       "  <tbody>\n",
       "    <tr>\n",
       "      <th>612</th>\n",
       "      <td>2000004611</td>\n",
       "      <td>2.544294</td>\n",
       "      <td>0.220502</td>\n",
       "    </tr>\n",
       "    <tr>\n",
       "      <th>278</th>\n",
       "      <td>2200008171</td>\n",
       "      <td>-2.927035</td>\n",
       "      <td>-0.571415</td>\n",
       "    </tr>\n",
       "    <tr>\n",
       "      <th>0</th>\n",
       "      <td>1900006098</td>\n",
       "      <td>1.628808</td>\n",
       "      <td>0.488245</td>\n",
       "    </tr>\n",
       "    <tr>\n",
       "      <th>88</th>\n",
       "      <td>2100003025</td>\n",
       "      <td>-3.036919</td>\n",
       "      <td>0.187763</td>\n",
       "    </tr>\n",
       "    <tr>\n",
       "      <th>613</th>\n",
       "      <td>1986607248</td>\n",
       "      <td>2.591195</td>\n",
       "      <td>-0.080091</td>\n",
       "    </tr>\n",
       "    <tr>\n",
       "      <th>...</th>\n",
       "      <td>...</td>\n",
       "      <td>...</td>\n",
       "      <td>...</td>\n",
       "    </tr>\n",
       "    <tr>\n",
       "      <th>350</th>\n",
       "      <td>2000000775</td>\n",
       "      <td>3.172588</td>\n",
       "      <td>-0.870552</td>\n",
       "    </tr>\n",
       "    <tr>\n",
       "      <th>574</th>\n",
       "      <td>2000002339</td>\n",
       "      <td>2.661025</td>\n",
       "      <td>-0.165446</td>\n",
       "    </tr>\n",
       "    <tr>\n",
       "      <th>398</th>\n",
       "      <td>1962292302</td>\n",
       "      <td>2.656048</td>\n",
       "      <td>0.445585</td>\n",
       "    </tr>\n",
       "    <tr>\n",
       "      <th>519</th>\n",
       "      <td>2000001903</td>\n",
       "      <td>3.868804</td>\n",
       "      <td>-1.416446</td>\n",
       "    </tr>\n",
       "    <tr>\n",
       "      <th>326</th>\n",
       "      <td>1902706421</td>\n",
       "      <td>3.283671</td>\n",
       "      <td>-0.321659</td>\n",
       "    </tr>\n",
       "  </tbody>\n",
       "</table>\n",
       "<p>505 rows × 3 columns</p>\n",
       "</div>"
      ],
      "text/plain": [
       "     student_id      PC 1      PC 2\n",
       "612  2000004611  2.544294  0.220502\n",
       "278  2200008171 -2.927035 -0.571415\n",
       "0    1900006098  1.628808  0.488245\n",
       "88   2100003025 -3.036919  0.187763\n",
       "613  1986607248  2.591195 -0.080091\n",
       "..          ...       ...       ...\n",
       "350  2000000775  3.172588 -0.870552\n",
       "574  2000002339  2.661025 -0.165446\n",
       "398  1962292302  2.656048  0.445585\n",
       "519  2000001903  3.868804 -1.416446\n",
       "326  1902706421  3.283671 -0.321659\n",
       "\n",
       "[505 rows x 3 columns]"
      ]
     },
     "execution_count": 43,
     "metadata": {},
     "output_type": "execute_result"
    }
   ],
   "source": [
    "X_train_pca"
   ]
  },
  {
   "cell_type": "code",
   "execution_count": 46,
   "metadata": {},
   "outputs": [
    {
     "data": {
      "text/html": [
       "<div>\n",
       "<style scoped>\n",
       "    .dataframe tbody tr th:only-of-type {\n",
       "        vertical-align: middle;\n",
       "    }\n",
       "\n",
       "    .dataframe tbody tr th {\n",
       "        vertical-align: top;\n",
       "    }\n",
       "\n",
       "    .dataframe thead th {\n",
       "        text-align: right;\n",
       "    }\n",
       "</style>\n",
       "<table border=\"1\" class=\"dataframe\">\n",
       "  <thead>\n",
       "    <tr style=\"text-align: right;\">\n",
       "      <th></th>\n",
       "      <th>student_id</th>\n",
       "      <th>PC 1</th>\n",
       "      <th>PC 2</th>\n",
       "    </tr>\n",
       "  </thead>\n",
       "  <tbody>\n",
       "    <tr>\n",
       "      <th>458</th>\n",
       "      <td>2011956334</td>\n",
       "      <td>3.979725</td>\n",
       "      <td>-1.849523</td>\n",
       "    </tr>\n",
       "    <tr>\n",
       "      <th>328</th>\n",
       "      <td>2021595788</td>\n",
       "      <td>2.549504</td>\n",
       "      <td>-0.035353</td>\n",
       "    </tr>\n",
       "    <tr>\n",
       "      <th>77</th>\n",
       "      <td>2000006638</td>\n",
       "      <td>-2.482703</td>\n",
       "      <td>-0.028943</td>\n",
       "    </tr>\n",
       "    <tr>\n",
       "      <th>462</th>\n",
       "      <td>1954177532</td>\n",
       "      <td>2.218901</td>\n",
       "      <td>0.868187</td>\n",
       "    </tr>\n",
       "    <tr>\n",
       "      <th>440</th>\n",
       "      <td>2000001302</td>\n",
       "      <td>3.496998</td>\n",
       "      <td>-1.127617</td>\n",
       "    </tr>\n",
       "    <tr>\n",
       "      <th>...</th>\n",
       "      <td>...</td>\n",
       "      <td>...</td>\n",
       "      <td>...</td>\n",
       "    </tr>\n",
       "    <tr>\n",
       "      <th>530</th>\n",
       "      <td>2114305523</td>\n",
       "      <td>0.715499</td>\n",
       "      <td>1.200145</td>\n",
       "    </tr>\n",
       "    <tr>\n",
       "      <th>39</th>\n",
       "      <td>2000002924</td>\n",
       "      <td>-2.400871</td>\n",
       "      <td>0.503405</td>\n",
       "    </tr>\n",
       "    <tr>\n",
       "      <th>485</th>\n",
       "      <td>2119658288</td>\n",
       "      <td>0.828589</td>\n",
       "      <td>1.031916</td>\n",
       "    </tr>\n",
       "    <tr>\n",
       "      <th>25</th>\n",
       "      <td>2000001530</td>\n",
       "      <td>-2.647462</td>\n",
       "      <td>0.665044</td>\n",
       "    </tr>\n",
       "    <tr>\n",
       "      <th>116</th>\n",
       "      <td>2100005686</td>\n",
       "      <td>-2.770234</td>\n",
       "      <td>-0.075790</td>\n",
       "    </tr>\n",
       "  </tbody>\n",
       "</table>\n",
       "<p>127 rows × 3 columns</p>\n",
       "</div>"
      ],
      "text/plain": [
       "     student_id      PC 1      PC 2\n",
       "458  2011956334  3.979725 -1.849523\n",
       "328  2021595788  2.549504 -0.035353\n",
       "77   2000006638 -2.482703 -0.028943\n",
       "462  1954177532  2.218901  0.868187\n",
       "440  2000001302  3.496998 -1.127617\n",
       "..          ...       ...       ...\n",
       "530  2114305523  0.715499  1.200145\n",
       "39   2000002924 -2.400871  0.503405\n",
       "485  2119658288  0.828589  1.031916\n",
       "25   2000001530 -2.647462  0.665044\n",
       "116  2100005686 -2.770234 -0.075790\n",
       "\n",
       "[127 rows x 3 columns]"
      ]
     },
     "execution_count": 46,
     "metadata": {},
     "output_type": "execute_result"
    }
   ],
   "source": [
    "X_test_pca"
   ]
  },
  {
   "cell_type": "code",
   "execution_count": 44,
   "metadata": {},
   "outputs": [
    {
     "data": {
      "text/plain": [
       "612    1.0\n",
       "278   -1.0\n",
       "0      1.0\n",
       "88    -1.0\n",
       "613    1.0\n",
       "      ... \n",
       "350    1.0\n",
       "574    1.0\n",
       "398    1.0\n",
       "519    1.0\n",
       "326    1.0\n",
       "Name: drop_out, Length: 505, dtype: float64"
      ]
     },
     "execution_count": 44,
     "metadata": {},
     "output_type": "execute_result"
    }
   ],
   "source": [
    "y_train"
   ]
  },
  {
   "cell_type": "code",
   "execution_count": 45,
   "metadata": {},
   "outputs": [],
   "source": [
    "X_train_pca.to_csv('../../data/train_test/xtrain_data.csv')\n",
    "X_test_pca.to_csv('../../data/train_test/xtest_data.csv')\n",
    "y_test.to_csv('../../data/train_test/ytest_data.csv')\n",
    "y_train.to_csv('../../data/train_test/ytrain_data.csv')"
   ]
  }
 ],
 "metadata": {
  "kernelspec": {
   "display_name": "Python 3",
   "language": "python",
   "name": "python3"
  },
  "language_info": {
   "codemirror_mode": {
    "name": "ipython",
    "version": 3
   },
   "file_extension": ".py",
   "mimetype": "text/x-python",
   "name": "python",
   "nbconvert_exporter": "python",
   "pygments_lexer": "ipython3",
   "version": "3.10.11"
  }
 },
 "nbformat": 4,
 "nbformat_minor": 2
}
