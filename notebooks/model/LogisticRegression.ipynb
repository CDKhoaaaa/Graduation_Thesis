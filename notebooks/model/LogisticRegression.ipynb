{
 "cells": [
  {
   "cell_type": "code",
   "execution_count": 24,
   "metadata": {},
   "outputs": [],
   "source": [
    "from sklearn.linear_model import LogisticRegression\n",
    "from sklearn.metrics import accuracy_score, confusion_matrix, classification_report\n",
    "from statsmodels.stats.proportion import proportion_confint # Tính khoảng tin cậy\n",
    "import sys\n",
    "import os\n",
    "import pandas as pd\n",
    "import numpy as np"
   ]
  },
  {
   "cell_type": "code",
   "execution_count": 25,
   "metadata": {},
   "outputs": [],
   "source": [
    "sys.path.append(os.path.abspath(os.path.join('..', 'utils')))\n",
    "\n",
    "# Lấy thư mục hiện tại\n",
    "current_directory = os.getcwd()\n",
    "folder_path1 = os.path.join(current_directory,'../../data/train_test')"
   ]
  },
  {
   "cell_type": "code",
   "execution_count": 26,
   "metadata": {},
   "outputs": [],
   "source": [
    "x = pd.read_csv(f'{folder_path1}/xtrain_data.csv')\n",
    "y = pd.read_csv(f'{folder_path1}/xtest_data.csv')\n",
    "z = pd.read_csv(f'{folder_path1}/ytrain_data.csv')\n",
    "t = pd.read_csv(f'{folder_path1}/ytest_data.csv')\n",
    "\n",
    "x_train = x.loc[:, ['PC 1']].values\n",
    "x_test = y.loc[:, ['PC 1']].values\n",
    "\n",
    "y_train = z['drop_out'].values\n",
    "y_test = t['drop_out'].values\n",
    "\n",
    "\n",
    "\n"
   ]
  },
  {
   "cell_type": "code",
   "execution_count": 27,
   "metadata": {},
   "outputs": [],
   "source": [
    "# Chuyển đổi y_train thành nhãn phân loại.\n",
    "y_train_class = np.where(y_train >= 0.5, 1, 0)\n",
    "y_test_class = np.where(y_test >= 0.5, 1, 0)"
   ]
  },
  {
   "cell_type": "code",
   "execution_count": 28,
   "metadata": {},
   "outputs": [
    {
     "data": {
      "text/plain": [
       "126"
      ]
     },
     "execution_count": 28,
     "metadata": {},
     "output_type": "execute_result"
    }
   ],
   "source": [
    "len(y_test_class)"
   ]
  },
  {
   "cell_type": "code",
   "execution_count": 29,
   "metadata": {},
   "outputs": [],
   "source": [
    "LR_model = LogisticRegression()\n",
    "LR = LR_model.fit(x_train, y_train_class)\n",
    "y_pred = LR_model.predict(x_test)"
   ]
  },
  {
   "cell_type": "code",
   "execution_count": 30,
   "metadata": {},
   "outputs": [
    {
     "data": {
      "text/plain": [
       "array([1, 1, 1, 1, 0, 1, 0, 0, 1, 1, 1, 1, 1, 0, 1, 0, 1, 0, 0, 1, 1, 1,\n",
       "       1, 1, 0, 0, 0, 0, 0, 0, 1, 1, 0, 1, 0, 1, 0, 1, 0, 1, 0, 1, 0, 0,\n",
       "       1, 0, 0, 1, 1, 0, 0, 1, 1, 0, 0, 0, 1, 1, 1, 1, 0, 1, 1, 1, 0, 1,\n",
       "       1, 0, 1, 0, 1, 0, 0, 0, 1, 1, 1, 1, 0, 1, 0, 0, 0, 0, 0, 1, 0, 0,\n",
       "       0, 1, 1, 0, 1, 0, 1, 0, 1, 0, 1, 0, 0, 1, 0, 1, 0, 1, 0, 1, 0, 1,\n",
       "       0, 1, 0, 0, 1, 1, 0, 1, 0, 0, 0, 0, 1, 0, 0, 1])"
      ]
     },
     "execution_count": 30,
     "metadata": {},
     "output_type": "execute_result"
    }
   ],
   "source": [
    "y_pred"
   ]
  },
  {
   "cell_type": "code",
   "execution_count": 31,
   "metadata": {},
   "outputs": [
    {
     "data": {
      "text/plain": [
       "(126, 1)"
      ]
     },
     "execution_count": 31,
     "metadata": {},
     "output_type": "execute_result"
    }
   ],
   "source": [
    "x_test.shape"
   ]
  },
  {
   "cell_type": "code",
   "execution_count": 32,
   "metadata": {},
   "outputs": [
    {
     "data": {
      "text/plain": [
       "(504, 1)"
      ]
     },
     "execution_count": 32,
     "metadata": {},
     "output_type": "execute_result"
    }
   ],
   "source": [
    "x_train.shape"
   ]
  },
  {
   "cell_type": "code",
   "execution_count": 33,
   "metadata": {},
   "outputs": [
    {
     "name": "stdout",
     "output_type": "stream",
     "text": [
      "Hệ số (coefficients): [[6.25293736]]\n",
      "Hệ số chặn (intercept): [0.3875457]\n"
     ]
    }
   ],
   "source": [
    "# Lấy các hệ số của mô hình\n",
    "coefficients = LR.coef_\n",
    "# Lấy hệ số chặn (intercept)\n",
    "intercept = LR.intercept_\n",
    "print(\"Hệ số (coefficients):\", coefficients)\n",
    "print(\"Hệ số chặn (intercept):\", intercept)"
   ]
  },
  {
   "cell_type": "code",
   "execution_count": 34,
   "metadata": {},
   "outputs": [
    {
     "name": "stdout",
     "output_type": "stream",
     "text": [
      "Accuracy: 1.0\n",
      "Confusion Matrix:\n",
      "[[63  0]\n",
      " [ 0 63]]\n",
      "Classification Report:\n",
      "              precision    recall  f1-score   support\n",
      "\n",
      "           0       1.00      1.00      1.00        63\n",
      "           1       1.00      1.00      1.00        63\n",
      "\n",
      "    accuracy                           1.00       126\n",
      "   macro avg       1.00      1.00      1.00       126\n",
      "weighted avg       1.00      1.00      1.00       126\n",
      "\n"
     ]
    }
   ],
   "source": [
    "# Đánh giá mô hình Logistic Regression\n",
    "accuracy = accuracy_score(y_test_class, y_pred)\n",
    "conf_matrix = confusion_matrix(y_test_class, y_pred)\n",
    "class_report = classification_report(y_test_class, y_pred)\n",
    "\n",
    "print(f'Accuracy: {accuracy}')\n",
    "print('Confusion Matrix:')\n",
    "print(conf_matrix)\n",
    "print('Classification Report:')\n",
    "print(class_report)\n"
   ]
  },
  {
   "cell_type": "code",
   "execution_count": 35,
   "metadata": {},
   "outputs": [],
   "source": [
    "from sklearn.dummy import DummyClassifier # mô hình cơ sỏ\n",
    "dummy_clf = DummyClassifier(strategy=\"most_frequent\")\n",
    "dummy_clf.fit(x_train, y_train)\n",
    "baseline_prediction = dummy_clf.predict(x_test)\n",
    "baseline_accuracy = accuracy_score(y_test_class, np.where(baseline_prediction==np.unique(baseline_prediction)[0],0,baseline_prediction))"
   ]
  },
  {
   "cell_type": "code",
   "execution_count": 36,
   "metadata": {},
   "outputs": [
    {
     "name": "stdout",
     "output_type": "stream",
     "text": [
      "Model accuracy: 1.0\n",
      "Baseline accuracy: 0.5\n"
     ]
    }
   ],
   "source": [
    "print(\"Model accuracy:\", accuracy)\n",
    "print(\"Baseline accuracy:\", baseline_accuracy)"
   ]
  },
  {
   "cell_type": "code",
   "execution_count": 37,
   "metadata": {},
   "outputs": [
    {
     "name": "stdout",
     "output_type": "stream",
     "text": [
      "Độ chính xác toàn thể:  100.0\n",
      "Sai số toàn thể:  0.0\n",
      "Độ nhạy:  100.0\n",
      "Tỉ lệ mô hình dự đoán sai sinh viên nghỉ học:  0.0\n",
      "Độ đặc hiệu:  100.0\n",
      "Sai số tỉ lệ mô hình dự đoán chính xác sinh viên không thôi học:  0.0\n"
     ]
    }
   ],
   "source": [
    "# Độ chính xác toàn thể: (TN+TP)/N\n",
    "overall_accuracy = round((63+63)/x_test.shape[0] * 100,2)\n",
    "print(\"Độ chính xác toàn thể: \", overall_accuracy)\n",
    "# Sai số toàn thể\n",
    "overall_mistake = round((0+0)/x_test.shape[0] * 100,2)\n",
    "print(\"Sai số toàn thể: \", overall_mistake)\n",
    "\n",
    "# Độ nhạy - % dự đoán chính xác sinh viên thôi học: TP/(TP+FN)\n",
    "sensitivity = (63/(63+0)) * 100\n",
    "print(\"Độ nhạy: \", sensitivity)\n",
    "\n",
    "# Sai số của dự đoán sinh viên thôi TP/(TP+FN) hoặc 1 - độ nhạy\n",
    "mistake = 100 - sensitivity\n",
    "print(\"Tỉ lệ mô hình dự đoán sai sinh viên nghỉ học: \", mistake)\n",
    " \n",
    "# Độ đặc hiệu (specificity), % dự đoán sinh viên không thôi học: TN/(TN+FP)\n",
    "specificity = (63/(63+0))*100\n",
    "print(\"Độ đặc hiệu: \", specificity)\n",
    "mistake_specificity = 100 - specificity\n",
    "print(\"Sai số tỉ lệ mô hình dự đoán chính xác sinh viên không thôi học: \", mistake_specificity)"
   ]
  },
  {
   "cell_type": "code",
   "execution_count": 38,
   "metadata": {},
   "outputs": [],
   "source": [
    "student_id = y.iloc[:, 1]\n",
    "df_pred = pd.concat([student_id,pd.DataFrame(y_test_class)], axis = 1).rename(columns = {0: 'drop_out'})\n",
    "df_pred.rename(columns = {0: 'drop_out'}, inplace=True)"
   ]
  },
  {
   "cell_type": "code",
   "execution_count": 39,
   "metadata": {},
   "outputs": [
    {
     "data": {
      "text/html": [
       "<div>\n",
       "<style scoped>\n",
       "    .dataframe tbody tr th:only-of-type {\n",
       "        vertical-align: middle;\n",
       "    }\n",
       "\n",
       "    .dataframe tbody tr th {\n",
       "        vertical-align: top;\n",
       "    }\n",
       "\n",
       "    .dataframe thead th {\n",
       "        text-align: right;\n",
       "    }\n",
       "</style>\n",
       "<table border=\"1\" class=\"dataframe\">\n",
       "  <thead>\n",
       "    <tr style=\"text-align: right;\">\n",
       "      <th></th>\n",
       "      <th>student_id</th>\n",
       "      <th>drop_out</th>\n",
       "    </tr>\n",
       "  </thead>\n",
       "  <tbody>\n",
       "    <tr>\n",
       "      <th>0</th>\n",
       "      <td>2101000840</td>\n",
       "      <td>1</td>\n",
       "    </tr>\n",
       "    <tr>\n",
       "      <th>1</th>\n",
       "      <td>1908681570</td>\n",
       "      <td>1</td>\n",
       "    </tr>\n",
       "    <tr>\n",
       "      <th>2</th>\n",
       "      <td>2029775814</td>\n",
       "      <td>1</td>\n",
       "    </tr>\n",
       "    <tr>\n",
       "      <th>3</th>\n",
       "      <td>2117481481</td>\n",
       "      <td>1</td>\n",
       "    </tr>\n",
       "    <tr>\n",
       "      <th>5</th>\n",
       "      <td>2000000986</td>\n",
       "      <td>1</td>\n",
       "    </tr>\n",
       "    <tr>\n",
       "      <th>...</th>\n",
       "      <td>...</td>\n",
       "      <td>...</td>\n",
       "    </tr>\n",
       "    <tr>\n",
       "      <th>114</th>\n",
       "      <td>2056618677</td>\n",
       "      <td>1</td>\n",
       "    </tr>\n",
       "    <tr>\n",
       "      <th>115</th>\n",
       "      <td>2000004787</td>\n",
       "      <td>1</td>\n",
       "    </tr>\n",
       "    <tr>\n",
       "      <th>117</th>\n",
       "      <td>2063054317</td>\n",
       "      <td>1</td>\n",
       "    </tr>\n",
       "    <tr>\n",
       "      <th>122</th>\n",
       "      <td>2000000487</td>\n",
       "      <td>1</td>\n",
       "    </tr>\n",
       "    <tr>\n",
       "      <th>125</th>\n",
       "      <td>2000004424</td>\n",
       "      <td>1</td>\n",
       "    </tr>\n",
       "  </tbody>\n",
       "</table>\n",
       "<p>63 rows × 2 columns</p>\n",
       "</div>"
      ],
      "text/plain": [
       "     student_id  drop_out\n",
       "0    2101000840         1\n",
       "1    1908681570         1\n",
       "2    2029775814         1\n",
       "3    2117481481         1\n",
       "5    2000000986         1\n",
       "..          ...       ...\n",
       "114  2056618677         1\n",
       "115  2000004787         1\n",
       "117  2063054317         1\n",
       "122  2000000487         1\n",
       "125  2000004424         1\n",
       "\n",
       "[63 rows x 2 columns]"
      ]
     },
     "execution_count": 39,
     "metadata": {},
     "output_type": "execute_result"
    }
   ],
   "source": [
    "# Kết quả dự đoán\n",
    "df_pred[df_pred['drop_out']==1]"
   ]
  },
  {
   "cell_type": "code",
   "execution_count": 40,
   "metadata": {},
   "outputs": [],
   "source": [
    "lower_bound, upper_bound = proportion_confint(sum(y_pred), len(y_pred), alpha=0.05, method='wilson')"
   ]
  },
  {
   "cell_type": "code",
   "execution_count": 41,
   "metadata": {},
   "outputs": [
    {
     "name": "stdout",
     "output_type": "stream",
     "text": [
      "lower_bound:  0.4140\n",
      "upper_bound:  0.5860\n"
     ]
    }
   ],
   "source": [
    "print(f'lower_bound: {lower_bound: .4f}' )\n",
    "print(f'upper_bound: {upper_bound: .4f}' )"
   ]
  },
  {
   "cell_type": "code",
   "execution_count": 42,
   "metadata": {},
   "outputs": [],
   "source": [
    "# lower_bound và upper_bound thấp cho thấy khả năng cao tin tưởng dự đoán này."
   ]
  },
  {
   "cell_type": "code",
   "execution_count": 43,
   "metadata": {},
   "outputs": [],
   "source": [
    "class_report = classification_report(y_test_class, y_pred, output_dict=True)\n",
    "df_class_report_df = pd.DataFrame(class_report)\n",
    "df_class_report_df.to_csv('../visualization/data/logistic_regr.csv')"
   ]
  },
  {
   "cell_type": "markdown",
   "metadata": {},
   "source": [
    "# So sánh các chỉ số LR"
   ]
  },
  {
   "cell_type": "code",
   "execution_count": 44,
   "metadata": {},
   "outputs": [
    {
     "name": "stdout",
     "output_type": "stream",
     "text": [
      "Time to train the model:  0.0030 seconds\n",
      "Time to make predictions:  0.0010 seconds\n"
     ]
    }
   ],
   "source": [
    "# Thời gian huấn luyện và dự đoán cho Logistic Regression\n",
    "# Đo thời gian huấn luyện\n",
    "import time\n",
    "start = time.time()\n",
    "LR_model = LogisticRegression()\n",
    "LR = LR_model.fit(x_train, y_train_class)\n",
    "end = time.time()\n",
    "train_time = end - start\n",
    "print(f'Time to train the model: {train_time: .4f} seconds')\n",
    "\n",
    "# Đo thời gian dự đoán\n",
    "start = time.time()\n",
    "y_pred = LR_model.predict(x_test)\n",
    "end = time.time()\n",
    "predict_time = end - start\n",
    "print(f'Time to make predictions: {predict_time: .4f} seconds')"
   ]
  },
  {
   "cell_type": "code",
   "execution_count": 45,
   "metadata": {},
   "outputs": [
    {
     "name": "stdout",
     "output_type": "stream",
     "text": [
      "Memory usage before: 167.484375 MB\n",
      "Memory usage after: 167.484375 MB\n",
      "Memory usage:  0.0000 MB\n"
     ]
    }
   ],
   "source": [
    "# Đo sử dụng bộ nhớ cho Logistic Regression\n",
    "import memory_profiler\n",
    "\n",
    "mem_before = memory_profiler.memory_usage()\n",
    "print(f'Memory usage before: {mem_before[0]} MB')\n",
    "LR = LR_model.fit(x_train, y_train_class)\n",
    "mem_after = memory_profiler.memory_usage()\n",
    "print(f'Memory usage after: {mem_after[0]} MB')\n",
    "\n",
    "memo_usage = mem_after[0] - mem_before[0]\n",
    "\n",
    "print(f'Memory usage: {memo_usage: .4f} MB')"
   ]
  },
  {
   "cell_type": "code",
   "execution_count": 46,
   "metadata": {},
   "outputs": [
    {
     "name": "stdout",
     "output_type": "stream",
     "text": [
      "Mean cross-validation score:  0.9960\n",
      "Standard deviation of cross-validation score:  0.0049\n"
     ]
    }
   ],
   "source": [
    "# Đo độ ổn định với cross-validation cho Logistic Regression\n",
    "from sklearn.model_selection import cross_val_score\n",
    "\n",
    "scores = cross_val_score(LR_model, x_train, y_train_class, cv=5)\n",
    "# print(f'Cross-validation scores: {scores}')\n",
    "print(f'Mean cross-validation score: {scores.mean(): .4f}')\n",
    "print(f'Standard deviation of cross-validation score: {scores.std(): .4f}')"
   ]
  },
  {
   "cell_type": "code",
   "execution_count": 47,
   "metadata": {},
   "outputs": [
    {
     "data": {
      "image/png": "[encoded data removed]",
      "text/plain": [
       "<Figure size 640x480 with 1 Axes>"
      ]
     },
     "metadata": {},
     "output_type": "display_data"
    }
   ],
   "source": [
    "# Vẽ learning curve cho Logistic Regression\n",
    "import matplotlib.pyplot as plt\n",
    "from sklearn.model_selection import learning_curve\n",
    "\n",
    "train_sizes, train_scores, test_scores = learning_curve(LR_model, x_train, y_train_class, cv=5)\n",
    "train_scores_mean = np.mean(train_scores, axis=1)\n",
    "train_scores_std = np.std(train_scores, axis=1)\n",
    "test_scores_mean = np.mean(test_scores, axis=1)\n",
    "test_scores_std = np.std(test_scores, axis=1)\n",
    "\n",
    "plt.figure()\n",
    "plt.title('Learning curve (Logistic Regression)')\n",
    "plt.xlabel('Training examples')\n",
    "plt.ylabel('Score')\n",
    "plt.grid()\n",
    "\n",
    "\n",
    "plt.fill_between(train_sizes, train_scores_mean - train_scores_std, train_scores_mean + train_scores_std, alpha=0.1, color='r')\n",
    "plt.fill_between(train_sizes, test_scores_mean - test_scores_std, test_scores_mean + test_scores_std, alpha=0.1, color='g')\n",
    "plt.plot(train_sizes, train_scores_mean, 'o-', color='r', label='Training score')\n",
    "plt.plot(train_sizes, test_scores_mean, 'o-', color='g', label='Cross-validation score')\n",
    "plt.legend(loc='best')\n",
    "plt.show()"
   ]
  },
  {
   "cell_type": "code",
   "execution_count": 48,
   "metadata": {},
   "outputs": [
    {
     "name": "stdout",
     "output_type": "stream",
     "text": [
      "[1.         0.99384615 0.99457014 0.99487179 0.99602978]\n",
      "[0.         0.00307692 0.00180995 0.00157019 0.00121563]\n",
      "[0.9960396 0.9960396 0.9960396 0.9960396 0.9960396]\n",
      "[0.00485047 0.00485047 0.00485047 0.00485047 0.00485047]\n"
     ]
    }
   ],
   "source": [
    "\n",
    "print(train_scores_mean)\n",
    "print(train_scores_std)\n",
    "print(test_scores_mean)\n",
    "print(test_scores_std)"
   ]
  }
 ],
 "metadata": {
  "kernelspec": {
   "display_name": "Python 3",
   "language": "python",
   "name": "python3"
  },
  "language_info": {
   "codemirror_mode": {
    "name": "ipython",
    "version": 3
   },
   "file_extension": ".py",
   "mimetype": "text/x-python",
   "name": "python",
   "nbconvert_exporter": "python",
   "pygments_lexer": "ipython3",
   "version": "3.11.5"
  }
 },
 "nbformat": 4,
 "nbformat_minor": 2
}
